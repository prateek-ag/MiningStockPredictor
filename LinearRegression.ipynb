{
 "cells": [
  {
   "cell_type": "code",
   "execution_count": 1,
   "metadata": {},
   "outputs": [],
   "source": [
    "import yfinance as yf\n",
    "import pandas as pd\n",
    "import numpy as np\n",
    "import matplotlib.pyplot as plt"
   ]
  },
  {
   "cell_type": "code",
   "execution_count": 2,
   "metadata": {},
   "outputs": [],
   "source": [
    "start_date = '2003-01-01'\n",
    "end_date = '2015-12-31'"
   ]
  },
  {
   "cell_type": "code",
   "execution_count": 3,
   "metadata": {},
   "outputs": [
    {
     "name": "stdout",
     "output_type": "stream",
     "text": [
      "[*********************100%***********************]  1 of 1 completed\n",
      "[*********************100%***********************]  1 of 1 completed\n"
     ]
    }
   ],
   "source": [
    "gold_data = yf.download('GC=F', start_date, end_date)\n",
    "silver_data = yf.download('SI=F', start_date, end_date)"
   ]
  },
  {
   "cell_type": "code",
   "execution_count": 4,
   "metadata": {},
   "outputs": [
    {
     "name": "stdout",
     "output_type": "stream",
     "text": [
      "[*********************100%***********************]  1 of 1 completed\n",
      "[*********************100%***********************]  1 of 1 completed\n",
      "[*********************100%***********************]  1 of 1 completed\n",
      "[*********************100%***********************]  1 of 1 completed\n"
     ]
    }
   ],
   "source": [
    "c1_data = yf.download('ABX.TO', start_date, end_date)\n",
    "c2_data = yf.download('FM.TO', start_date, end_date)\n",
    "c3_data = yf.download('K.TO', start_date, end_date)\n",
    "c4_data = yf.download('KL.TO', start_date, end_date)"
   ]
  },
  {
   "cell_type": "code",
   "execution_count": 5,
   "metadata": {},
   "outputs": [
    {
     "name": "stdout",
     "output_type": "stream",
     "text": [
      "[*********************100%***********************]  1 of 1 completed\n",
      "[*********************100%***********************]  1 of 1 completed\n",
      "[*********************100%***********************]  1 of 1 completed\n"
     ]
    }
   ],
   "source": [
    "us_market_data = yf.download('SPX', start_date, end_date)\n",
    "can_market_data = yf.download('^GSPTSE', start_date, end_date)\n",
    "cad_data = yf.download('USDCAD=X', start_date, end_date)"
   ]
  },
  {
   "cell_type": "code",
   "execution_count": 6,
   "metadata": {},
   "outputs": [
    {
     "data": {
      "text/html": [
       "<div>\n",
       "<style scoped>\n",
       "    .dataframe tbody tr th:only-of-type {\n",
       "        vertical-align: middle;\n",
       "    }\n",
       "\n",
       "    .dataframe tbody tr th {\n",
       "        vertical-align: top;\n",
       "    }\n",
       "\n",
       "    .dataframe thead th {\n",
       "        text-align: right;\n",
       "    }\n",
       "</style>\n",
       "<table border=\"1\" class=\"dataframe\">\n",
       "  <thead>\n",
       "    <tr style=\"text-align: right;\">\n",
       "      <th></th>\n",
       "      <th>Open</th>\n",
       "      <th>High</th>\n",
       "      <th>Low</th>\n",
       "      <th>Close</th>\n",
       "      <th>Adj Close</th>\n",
       "      <th>Volume</th>\n",
       "    </tr>\n",
       "    <tr>\n",
       "      <th>Date</th>\n",
       "      <th></th>\n",
       "      <th></th>\n",
       "      <th></th>\n",
       "      <th></th>\n",
       "      <th></th>\n",
       "      <th></th>\n",
       "    </tr>\n",
       "  </thead>\n",
       "  <tbody>\n",
       "    <tr>\n",
       "      <th>2003-01-02</th>\n",
       "      <td>346.100006</td>\n",
       "      <td>346.100006</td>\n",
       "      <td>346.100006</td>\n",
       "      <td>346.100006</td>\n",
       "      <td>346.100006</td>\n",
       "      <td>3</td>\n",
       "    </tr>\n",
       "    <tr>\n",
       "      <th>2003-01-03</th>\n",
       "      <td>345.200012</td>\n",
       "      <td>351.200012</td>\n",
       "      <td>345.200012</td>\n",
       "      <td>351.200012</td>\n",
       "      <td>351.200012</td>\n",
       "      <td>0</td>\n",
       "    </tr>\n",
       "    <tr>\n",
       "      <th>2003-01-06</th>\n",
       "      <td>351.700012</td>\n",
       "      <td>351.700012</td>\n",
       "      <td>351.100006</td>\n",
       "      <td>351.700012</td>\n",
       "      <td>351.700012</td>\n",
       "      <td>2</td>\n",
       "    </tr>\n",
       "    <tr>\n",
       "      <th>2003-01-07</th>\n",
       "      <td>349.299988</td>\n",
       "      <td>349.299988</td>\n",
       "      <td>347.299988</td>\n",
       "      <td>347.299988</td>\n",
       "      <td>347.299988</td>\n",
       "      <td>4</td>\n",
       "    </tr>\n",
       "    <tr>\n",
       "      <th>2003-01-08</th>\n",
       "      <td>346.799988</td>\n",
       "      <td>353.899994</td>\n",
       "      <td>346.299988</td>\n",
       "      <td>353.899994</td>\n",
       "      <td>353.899994</td>\n",
       "      <td>0</td>\n",
       "    </tr>\n",
       "  </tbody>\n",
       "</table>\n",
       "</div>"
      ],
      "text/plain": [
       "                  Open        High         Low       Close   Adj Close  Volume\n",
       "Date                                                                          \n",
       "2003-01-02  346.100006  346.100006  346.100006  346.100006  346.100006       3\n",
       "2003-01-03  345.200012  351.200012  345.200012  351.200012  351.200012       0\n",
       "2003-01-06  351.700012  351.700012  351.100006  351.700012  351.700012       2\n",
       "2003-01-07  349.299988  349.299988  347.299988  347.299988  347.299988       4\n",
       "2003-01-08  346.799988  353.899994  346.299988  353.899994  353.899994       0"
      ]
     },
     "execution_count": 6,
     "metadata": {},
     "output_type": "execute_result"
    }
   ],
   "source": [
    "gold_data.head()"
   ]
  },
  {
   "cell_type": "code",
   "execution_count": 7,
   "metadata": {},
   "outputs": [],
   "source": [
    "def preprocess(df):\n",
    "    to_return = df.copy()\n",
    "    to_return['pct_change'] = (to_return.Close - to_return.Open)/to_return.Open\n",
    "    to_return['change_d1'] = (to_return.Open - to_return.shift(1).Open)/to_return.shift(1).Open\n",
    "    to_return['change_d2'] = (to_return.Open - to_return.shift(2).Open)/to_return.shift(2).Open\n",
    "    to_return['change_d3'] = (to_return.Open - to_return.shift(3).Open)/to_return.shift(3).Open\n",
    "    return to_return\n",
    "\n",
    "def preprocess_metals(df):\n",
    "    to_return = preprocess(df)\n",
    "    to_return['Close_l1'] = to_return['Close'].shift(1)\n",
    "    to_return['Close_l2'] = to_return['Close'].shift(2)\n",
    "    to_return['pct_change_l1'] = to_return['pct_change'].shift(1)\n",
    "    to_return['pct_change_l2'] = to_return['pct_change'].shift(2)\n",
    "    \n",
    "    return to_return.dropna()\n",
    "\n",
    "def preprocess_stocks(df):\n",
    "    to_return = preprocess(df)\n",
    "    \n",
    "    to_return['pct_change_l1'] = to_return['pct_change'].shift(1)\n",
    "    to_return['pct_change_l2'] = to_return['pct_change'].shift(2)\n",
    "    to_return['Volume_l1'] = to_return['Volume'].shift(1)\n",
    "    to_return['Volume_l2'] = to_return['Volume'].shift(2)\n",
    "    \n",
    "    to_return.loc['2003-01-24':]\n",
    "    \n",
    "    return to_return.dropna()\n",
    "\n",
    "def preprocess_market(df):\n",
    "    to_return = preprocess(df)\n",
    "    \n",
    "    to_return['pct_change_l1'] = to_return['pct_change'].shift(1)\n",
    "    to_return['pct_change_l2'] = to_return['pct_change'].shift(2)\n",
    "    to_return['vol'] = (to_return['High'] - to_return['Low'])/to_return['Low']\n",
    "    to_return['vol_w5'] = (to_return['High'].rolling(5).max() - to_return['Low'].rolling(5).max())/ to_return['Low'].rolling(5).max()\n",
    "    \n",
    "    return to_return.dropna()\n"
   ]
  },
  {
   "cell_type": "code",
   "execution_count": 8,
   "metadata": {},
   "outputs": [],
   "source": [
    "gold_data = preprocess_metals(gold_data)\n",
    "silver_data = preprocess_metals(silver_data)\n",
    "\n",
    "c1_data = preprocess_stocks(c1_data)\n",
    "c2_data = preprocess_stocks(c2_data)\n",
    "c3_data = preprocess_stocks(c3_data)\n",
    "c4_data = preprocess_stocks(c4_data)\n",
    "\n",
    "us_market_data = preprocess_market(us_market_data)\n",
    "can_market_data = preprocess_market(can_market_data)\n",
    "cad_data = preprocess_market(cad_data)\n"
   ]
  },
  {
   "cell_type": "code",
   "execution_count": 9,
   "metadata": {},
   "outputs": [
    {
     "data": {
      "text/html": [
       "<div>\n",
       "<style scoped>\n",
       "    .dataframe tbody tr th:only-of-type {\n",
       "        vertical-align: middle;\n",
       "    }\n",
       "\n",
       "    .dataframe tbody tr th {\n",
       "        vertical-align: top;\n",
       "    }\n",
       "\n",
       "    .dataframe thead th {\n",
       "        text-align: right;\n",
       "    }\n",
       "</style>\n",
       "<table border=\"1\" class=\"dataframe\">\n",
       "  <thead>\n",
       "    <tr style=\"text-align: right;\">\n",
       "      <th></th>\n",
       "      <th>Open</th>\n",
       "      <th>High</th>\n",
       "      <th>Low</th>\n",
       "      <th>Close</th>\n",
       "      <th>Adj Close</th>\n",
       "      <th>Volume</th>\n",
       "      <th>pct_change</th>\n",
       "      <th>change_d1</th>\n",
       "      <th>change_d2</th>\n",
       "      <th>change_d3</th>\n",
       "      <th>pct_change_l1</th>\n",
       "      <th>pct_change_l2</th>\n",
       "      <th>Volume_l1</th>\n",
       "      <th>Volume_l2</th>\n",
       "    </tr>\n",
       "    <tr>\n",
       "      <th>Date</th>\n",
       "      <th></th>\n",
       "      <th></th>\n",
       "      <th></th>\n",
       "      <th></th>\n",
       "      <th></th>\n",
       "      <th></th>\n",
       "      <th></th>\n",
       "      <th></th>\n",
       "      <th></th>\n",
       "      <th></th>\n",
       "      <th></th>\n",
       "      <th></th>\n",
       "      <th></th>\n",
       "      <th></th>\n",
       "    </tr>\n",
       "  </thead>\n",
       "  <tbody>\n",
       "    <tr>\n",
       "      <th>2003-01-07</th>\n",
       "      <td>0.73</td>\n",
       "      <td>0.730</td>\n",
       "      <td>0.73</td>\n",
       "      <td>0.730</td>\n",
       "      <td>0.669128</td>\n",
       "      <td>4000</td>\n",
       "      <td>0.000000</td>\n",
       "      <td>-0.018817</td>\n",
       "      <td>-0.008152</td>\n",
       "      <td>-0.002732</td>\n",
       "      <td>0.005376</td>\n",
       "      <td>0.000000</td>\n",
       "      <td>42000.0</td>\n",
       "      <td>467500.0</td>\n",
       "    </tr>\n",
       "    <tr>\n",
       "      <th>2003-01-08</th>\n",
       "      <td>0.74</td>\n",
       "      <td>0.740</td>\n",
       "      <td>0.74</td>\n",
       "      <td>0.740</td>\n",
       "      <td>0.678294</td>\n",
       "      <td>59500</td>\n",
       "      <td>0.000000</td>\n",
       "      <td>0.013699</td>\n",
       "      <td>-0.005376</td>\n",
       "      <td>0.005435</td>\n",
       "      <td>0.000000</td>\n",
       "      <td>0.005376</td>\n",
       "      <td>4000.0</td>\n",
       "      <td>42000.0</td>\n",
       "    </tr>\n",
       "    <tr>\n",
       "      <th>2003-01-09</th>\n",
       "      <td>0.74</td>\n",
       "      <td>0.740</td>\n",
       "      <td>0.72</td>\n",
       "      <td>0.720</td>\n",
       "      <td>0.659962</td>\n",
       "      <td>19000</td>\n",
       "      <td>-0.027027</td>\n",
       "      <td>0.000000</td>\n",
       "      <td>0.013699</td>\n",
       "      <td>-0.005376</td>\n",
       "      <td>0.000000</td>\n",
       "      <td>0.000000</td>\n",
       "      <td>59500.0</td>\n",
       "      <td>4000.0</td>\n",
       "    </tr>\n",
       "    <tr>\n",
       "      <th>2003-01-10</th>\n",
       "      <td>0.73</td>\n",
       "      <td>0.748</td>\n",
       "      <td>0.73</td>\n",
       "      <td>0.748</td>\n",
       "      <td>0.685627</td>\n",
       "      <td>227000</td>\n",
       "      <td>0.024658</td>\n",
       "      <td>-0.013514</td>\n",
       "      <td>-0.013514</td>\n",
       "      <td>0.000000</td>\n",
       "      <td>-0.027027</td>\n",
       "      <td>0.000000</td>\n",
       "      <td>19000.0</td>\n",
       "      <td>59500.0</td>\n",
       "    </tr>\n",
       "    <tr>\n",
       "      <th>2003-01-13</th>\n",
       "      <td>0.74</td>\n",
       "      <td>0.760</td>\n",
       "      <td>0.74</td>\n",
       "      <td>0.750</td>\n",
       "      <td>0.687460</td>\n",
       "      <td>309500</td>\n",
       "      <td>0.013514</td>\n",
       "      <td>0.013699</td>\n",
       "      <td>0.000000</td>\n",
       "      <td>0.000000</td>\n",
       "      <td>0.024658</td>\n",
       "      <td>-0.027027</td>\n",
       "      <td>227000.0</td>\n",
       "      <td>19000.0</td>\n",
       "    </tr>\n",
       "    <tr>\n",
       "      <th>...</th>\n",
       "      <td>...</td>\n",
       "      <td>...</td>\n",
       "      <td>...</td>\n",
       "      <td>...</td>\n",
       "      <td>...</td>\n",
       "      <td>...</td>\n",
       "      <td>...</td>\n",
       "      <td>...</td>\n",
       "      <td>...</td>\n",
       "      <td>...</td>\n",
       "      <td>...</td>\n",
       "      <td>...</td>\n",
       "      <td>...</td>\n",
       "      <td>...</td>\n",
       "    </tr>\n",
       "    <tr>\n",
       "      <th>2015-12-22</th>\n",
       "      <td>4.76</td>\n",
       "      <td>5.240</td>\n",
       "      <td>4.66</td>\n",
       "      <td>5.120</td>\n",
       "      <td>5.091084</td>\n",
       "      <td>6267700</td>\n",
       "      <td>0.075630</td>\n",
       "      <td>0.012766</td>\n",
       "      <td>0.158151</td>\n",
       "      <td>0.223650</td>\n",
       "      <td>0.023404</td>\n",
       "      <td>0.119221</td>\n",
       "      <td>6803800.0</td>\n",
       "      <td>15601300.0</td>\n",
       "    </tr>\n",
       "    <tr>\n",
       "      <th>2015-12-23</th>\n",
       "      <td>5.32</td>\n",
       "      <td>6.200</td>\n",
       "      <td>5.25</td>\n",
       "      <td>6.000</td>\n",
       "      <td>5.966115</td>\n",
       "      <td>14746100</td>\n",
       "      <td>0.127820</td>\n",
       "      <td>0.117647</td>\n",
       "      <td>0.131915</td>\n",
       "      <td>0.294404</td>\n",
       "      <td>0.075630</td>\n",
       "      <td>0.023404</td>\n",
       "      <td>6267700.0</td>\n",
       "      <td>6803800.0</td>\n",
       "    </tr>\n",
       "    <tr>\n",
       "      <th>2015-12-24</th>\n",
       "      <td>5.93</td>\n",
       "      <td>6.040</td>\n",
       "      <td>5.52</td>\n",
       "      <td>5.810</td>\n",
       "      <td>5.777188</td>\n",
       "      <td>3045400</td>\n",
       "      <td>-0.020236</td>\n",
       "      <td>0.114662</td>\n",
       "      <td>0.245798</td>\n",
       "      <td>0.261702</td>\n",
       "      <td>0.127820</td>\n",
       "      <td>0.075630</td>\n",
       "      <td>14746100.0</td>\n",
       "      <td>6267700.0</td>\n",
       "    </tr>\n",
       "    <tr>\n",
       "      <th>2015-12-29</th>\n",
       "      <td>5.64</td>\n",
       "      <td>5.680</td>\n",
       "      <td>5.37</td>\n",
       "      <td>5.520</td>\n",
       "      <td>5.488826</td>\n",
       "      <td>3915400</td>\n",
       "      <td>-0.021277</td>\n",
       "      <td>-0.048904</td>\n",
       "      <td>0.060150</td>\n",
       "      <td>0.184874</td>\n",
       "      <td>-0.020236</td>\n",
       "      <td>0.127820</td>\n",
       "      <td>3045400.0</td>\n",
       "      <td>14746100.0</td>\n",
       "    </tr>\n",
       "    <tr>\n",
       "      <th>2015-12-30</th>\n",
       "      <td>5.38</td>\n",
       "      <td>5.490</td>\n",
       "      <td>5.16</td>\n",
       "      <td>5.200</td>\n",
       "      <td>5.170632</td>\n",
       "      <td>2937100</td>\n",
       "      <td>-0.033457</td>\n",
       "      <td>-0.046099</td>\n",
       "      <td>-0.092749</td>\n",
       "      <td>0.011278</td>\n",
       "      <td>-0.021277</td>\n",
       "      <td>-0.020236</td>\n",
       "      <td>3915400.0</td>\n",
       "      <td>3045400.0</td>\n",
       "    </tr>\n",
       "  </tbody>\n",
       "</table>\n",
       "<p>3263 rows × 14 columns</p>\n",
       "</div>"
      ],
      "text/plain": [
       "            Open   High   Low  Close  Adj Close    Volume  pct_change  \\\n",
       "Date                                                                    \n",
       "2003-01-07  0.73  0.730  0.73  0.730   0.669128      4000    0.000000   \n",
       "2003-01-08  0.74  0.740  0.74  0.740   0.678294     59500    0.000000   \n",
       "2003-01-09  0.74  0.740  0.72  0.720   0.659962     19000   -0.027027   \n",
       "2003-01-10  0.73  0.748  0.73  0.748   0.685627    227000    0.024658   \n",
       "2003-01-13  0.74  0.760  0.74  0.750   0.687460    309500    0.013514   \n",
       "...          ...    ...   ...    ...        ...       ...         ...   \n",
       "2015-12-22  4.76  5.240  4.66  5.120   5.091084   6267700    0.075630   \n",
       "2015-12-23  5.32  6.200  5.25  6.000   5.966115  14746100    0.127820   \n",
       "2015-12-24  5.93  6.040  5.52  5.810   5.777188   3045400   -0.020236   \n",
       "2015-12-29  5.64  5.680  5.37  5.520   5.488826   3915400   -0.021277   \n",
       "2015-12-30  5.38  5.490  5.16  5.200   5.170632   2937100   -0.033457   \n",
       "\n",
       "            change_d1  change_d2  change_d3  pct_change_l1  pct_change_l2  \\\n",
       "Date                                                                        \n",
       "2003-01-07  -0.018817  -0.008152  -0.002732       0.005376       0.000000   \n",
       "2003-01-08   0.013699  -0.005376   0.005435       0.000000       0.005376   \n",
       "2003-01-09   0.000000   0.013699  -0.005376       0.000000       0.000000   \n",
       "2003-01-10  -0.013514  -0.013514   0.000000      -0.027027       0.000000   \n",
       "2003-01-13   0.013699   0.000000   0.000000       0.024658      -0.027027   \n",
       "...               ...        ...        ...            ...            ...   \n",
       "2015-12-22   0.012766   0.158151   0.223650       0.023404       0.119221   \n",
       "2015-12-23   0.117647   0.131915   0.294404       0.075630       0.023404   \n",
       "2015-12-24   0.114662   0.245798   0.261702       0.127820       0.075630   \n",
       "2015-12-29  -0.048904   0.060150   0.184874      -0.020236       0.127820   \n",
       "2015-12-30  -0.046099  -0.092749   0.011278      -0.021277      -0.020236   \n",
       "\n",
       "             Volume_l1   Volume_l2  \n",
       "Date                                \n",
       "2003-01-07     42000.0    467500.0  \n",
       "2003-01-08      4000.0     42000.0  \n",
       "2003-01-09     59500.0      4000.0  \n",
       "2003-01-10     19000.0     59500.0  \n",
       "2003-01-13    227000.0     19000.0  \n",
       "...                ...         ...  \n",
       "2015-12-22   6803800.0  15601300.0  \n",
       "2015-12-23   6267700.0   6803800.0  \n",
       "2015-12-24  14746100.0   6267700.0  \n",
       "2015-12-29   3045400.0  14746100.0  \n",
       "2015-12-30   3915400.0   3045400.0  \n",
       "\n",
       "[3263 rows x 14 columns]"
      ]
     },
     "execution_count": 9,
     "metadata": {},
     "output_type": "execute_result"
    }
   ],
   "source": [
    "c2_data"
   ]
  },
  {
   "cell_type": "code",
   "execution_count": 10,
   "metadata": {},
   "outputs": [
    {
     "data": {
      "text/html": [
       "<div>\n",
       "<style scoped>\n",
       "    .dataframe tbody tr th:only-of-type {\n",
       "        vertical-align: middle;\n",
       "    }\n",
       "\n",
       "    .dataframe tbody tr th {\n",
       "        vertical-align: top;\n",
       "    }\n",
       "\n",
       "    .dataframe thead th {\n",
       "        text-align: right;\n",
       "    }\n",
       "</style>\n",
       "<table border=\"1\" class=\"dataframe\">\n",
       "  <thead>\n",
       "    <tr style=\"text-align: right;\">\n",
       "      <th></th>\n",
       "      <th>Open</th>\n",
       "      <th>High</th>\n",
       "      <th>Low</th>\n",
       "      <th>Close</th>\n",
       "      <th>Adj Close</th>\n",
       "      <th>Volume</th>\n",
       "      <th>pct_change</th>\n",
       "      <th>change_d1</th>\n",
       "      <th>change_d2</th>\n",
       "      <th>change_d3</th>\n",
       "      <th>Close_l1</th>\n",
       "      <th>Close_l2</th>\n",
       "      <th>pct_change_l1</th>\n",
       "      <th>pct_change_l2</th>\n",
       "    </tr>\n",
       "    <tr>\n",
       "      <th>Date</th>\n",
       "      <th></th>\n",
       "      <th></th>\n",
       "      <th></th>\n",
       "      <th></th>\n",
       "      <th></th>\n",
       "      <th></th>\n",
       "      <th></th>\n",
       "      <th></th>\n",
       "      <th></th>\n",
       "      <th></th>\n",
       "      <th></th>\n",
       "      <th></th>\n",
       "      <th></th>\n",
       "      <th></th>\n",
       "    </tr>\n",
       "  </thead>\n",
       "  <tbody>\n",
       "    <tr>\n",
       "      <th>2003-01-07</th>\n",
       "      <td>349.299988</td>\n",
       "      <td>349.299988</td>\n",
       "      <td>347.299988</td>\n",
       "      <td>347.299988</td>\n",
       "      <td>347.299988</td>\n",
       "      <td>4</td>\n",
       "      <td>-0.005726</td>\n",
       "      <td>-0.006824</td>\n",
       "      <td>0.011877</td>\n",
       "      <td>0.009246</td>\n",
       "      <td>351.700012</td>\n",
       "      <td>351.200012</td>\n",
       "      <td>0.000000</td>\n",
       "      <td>0.017381</td>\n",
       "    </tr>\n",
       "    <tr>\n",
       "      <th>2003-01-08</th>\n",
       "      <td>346.799988</td>\n",
       "      <td>353.899994</td>\n",
       "      <td>346.299988</td>\n",
       "      <td>353.899994</td>\n",
       "      <td>353.899994</td>\n",
       "      <td>0</td>\n",
       "      <td>0.020473</td>\n",
       "      <td>-0.007157</td>\n",
       "      <td>-0.013932</td>\n",
       "      <td>0.004635</td>\n",
       "      <td>347.299988</td>\n",
       "      <td>351.700012</td>\n",
       "      <td>-0.005726</td>\n",
       "      <td>0.000000</td>\n",
       "    </tr>\n",
       "    <tr>\n",
       "      <th>2003-01-09</th>\n",
       "      <td>353.299988</td>\n",
       "      <td>353.299988</td>\n",
       "      <td>353.299988</td>\n",
       "      <td>353.299988</td>\n",
       "      <td>353.299988</td>\n",
       "      <td>2</td>\n",
       "      <td>0.000000</td>\n",
       "      <td>0.018743</td>\n",
       "      <td>0.011451</td>\n",
       "      <td>0.004549</td>\n",
       "      <td>353.899994</td>\n",
       "      <td>347.299988</td>\n",
       "      <td>0.020473</td>\n",
       "      <td>-0.005726</td>\n",
       "    </tr>\n",
       "    <tr>\n",
       "      <th>2003-01-10</th>\n",
       "      <td>354.200012</td>\n",
       "      <td>354.500000</td>\n",
       "      <td>354.200012</td>\n",
       "      <td>354.500000</td>\n",
       "      <td>354.500000</td>\n",
       "      <td>1</td>\n",
       "      <td>0.000847</td>\n",
       "      <td>0.002547</td>\n",
       "      <td>0.021338</td>\n",
       "      <td>0.014028</td>\n",
       "      <td>353.299988</td>\n",
       "      <td>353.899994</td>\n",
       "      <td>0.000000</td>\n",
       "      <td>0.020473</td>\n",
       "    </tr>\n",
       "    <tr>\n",
       "      <th>2003-01-13</th>\n",
       "      <td>352.000000</td>\n",
       "      <td>354.700012</td>\n",
       "      <td>352.000000</td>\n",
       "      <td>354.700012</td>\n",
       "      <td>354.700012</td>\n",
       "      <td>0</td>\n",
       "      <td>0.007670</td>\n",
       "      <td>-0.006211</td>\n",
       "      <td>-0.003680</td>\n",
       "      <td>0.014994</td>\n",
       "      <td>354.500000</td>\n",
       "      <td>353.299988</td>\n",
       "      <td>0.000847</td>\n",
       "      <td>0.000000</td>\n",
       "    </tr>\n",
       "    <tr>\n",
       "      <th>...</th>\n",
       "      <td>...</td>\n",
       "      <td>...</td>\n",
       "      <td>...</td>\n",
       "      <td>...</td>\n",
       "      <td>...</td>\n",
       "      <td>...</td>\n",
       "      <td>...</td>\n",
       "      <td>...</td>\n",
       "      <td>...</td>\n",
       "      <td>...</td>\n",
       "      <td>...</td>\n",
       "      <td>...</td>\n",
       "      <td>...</td>\n",
       "      <td>...</td>\n",
       "    </tr>\n",
       "    <tr>\n",
       "      <th>2015-12-24</th>\n",
       "      <td>1074.300049</td>\n",
       "      <td>1077.800049</td>\n",
       "      <td>1073.500000</td>\n",
       "      <td>1077.199951</td>\n",
       "      <td>1077.199951</td>\n",
       "      <td>24</td>\n",
       "      <td>0.002699</td>\n",
       "      <td>-0.000186</td>\n",
       "      <td>-0.003987</td>\n",
       "      <td>0.003831</td>\n",
       "      <td>1069.400024</td>\n",
       "      <td>1074.800049</td>\n",
       "      <td>-0.004746</td>\n",
       "      <td>-0.003523</td>\n",
       "    </tr>\n",
       "    <tr>\n",
       "      <th>2015-12-28</th>\n",
       "      <td>1077.900024</td>\n",
       "      <td>1098.800049</td>\n",
       "      <td>1070.500000</td>\n",
       "      <td>1070.500000</td>\n",
       "      <td>1070.500000</td>\n",
       "      <td>361</td>\n",
       "      <td>-0.006865</td>\n",
       "      <td>0.003351</td>\n",
       "      <td>0.003164</td>\n",
       "      <td>-0.000649</td>\n",
       "      <td>1077.199951</td>\n",
       "      <td>1069.400024</td>\n",
       "      <td>0.002699</td>\n",
       "      <td>-0.004746</td>\n",
       "    </tr>\n",
       "    <tr>\n",
       "      <th>2015-12-29</th>\n",
       "      <td>1079.099976</td>\n",
       "      <td>1079.699951</td>\n",
       "      <td>1077.500000</td>\n",
       "      <td>1077.500000</td>\n",
       "      <td>1077.500000</td>\n",
       "      <td>252</td>\n",
       "      <td>-0.001483</td>\n",
       "      <td>0.001113</td>\n",
       "      <td>0.004468</td>\n",
       "      <td>0.004281</td>\n",
       "      <td>1070.500000</td>\n",
       "      <td>1077.199951</td>\n",
       "      <td>-0.006865</td>\n",
       "      <td>0.002699</td>\n",
       "    </tr>\n",
       "    <tr>\n",
       "      <th>2015-12-30</th>\n",
       "      <td>1068.599976</td>\n",
       "      <td>1070.199951</td>\n",
       "      <td>1059.699951</td>\n",
       "      <td>1060.099976</td>\n",
       "      <td>1060.099976</td>\n",
       "      <td>71</td>\n",
       "      <td>-0.007954</td>\n",
       "      <td>-0.009730</td>\n",
       "      <td>-0.008628</td>\n",
       "      <td>-0.005306</td>\n",
       "      <td>1077.500000</td>\n",
       "      <td>1070.500000</td>\n",
       "      <td>-0.001483</td>\n",
       "      <td>-0.006865</td>\n",
       "    </tr>\n",
       "    <tr>\n",
       "      <th>2015-12-31</th>\n",
       "      <td>1061.900024</td>\n",
       "      <td>1062.000000</td>\n",
       "      <td>1058.500000</td>\n",
       "      <td>1060.300049</td>\n",
       "      <td>1060.300049</td>\n",
       "      <td>10</td>\n",
       "      <td>-0.001507</td>\n",
       "      <td>-0.006270</td>\n",
       "      <td>-0.015939</td>\n",
       "      <td>-0.014844</td>\n",
       "      <td>1060.099976</td>\n",
       "      <td>1077.500000</td>\n",
       "      <td>-0.007954</td>\n",
       "      <td>-0.001483</td>\n",
       "    </tr>\n",
       "  </tbody>\n",
       "</table>\n",
       "<p>3233 rows × 14 columns</p>\n",
       "</div>"
      ],
      "text/plain": [
       "                   Open         High          Low        Close    Adj Close  \\\n",
       "Date                                                                          \n",
       "2003-01-07   349.299988   349.299988   347.299988   347.299988   347.299988   \n",
       "2003-01-08   346.799988   353.899994   346.299988   353.899994   353.899994   \n",
       "2003-01-09   353.299988   353.299988   353.299988   353.299988   353.299988   \n",
       "2003-01-10   354.200012   354.500000   354.200012   354.500000   354.500000   \n",
       "2003-01-13   352.000000   354.700012   352.000000   354.700012   354.700012   \n",
       "...                 ...          ...          ...          ...          ...   \n",
       "2015-12-24  1074.300049  1077.800049  1073.500000  1077.199951  1077.199951   \n",
       "2015-12-28  1077.900024  1098.800049  1070.500000  1070.500000  1070.500000   \n",
       "2015-12-29  1079.099976  1079.699951  1077.500000  1077.500000  1077.500000   \n",
       "2015-12-30  1068.599976  1070.199951  1059.699951  1060.099976  1060.099976   \n",
       "2015-12-31  1061.900024  1062.000000  1058.500000  1060.300049  1060.300049   \n",
       "\n",
       "            Volume  pct_change  change_d1  change_d2  change_d3     Close_l1  \\\n",
       "Date                                                                           \n",
       "2003-01-07       4   -0.005726  -0.006824   0.011877   0.009246   351.700012   \n",
       "2003-01-08       0    0.020473  -0.007157  -0.013932   0.004635   347.299988   \n",
       "2003-01-09       2    0.000000   0.018743   0.011451   0.004549   353.899994   \n",
       "2003-01-10       1    0.000847   0.002547   0.021338   0.014028   353.299988   \n",
       "2003-01-13       0    0.007670  -0.006211  -0.003680   0.014994   354.500000   \n",
       "...            ...         ...        ...        ...        ...          ...   \n",
       "2015-12-24      24    0.002699  -0.000186  -0.003987   0.003831  1069.400024   \n",
       "2015-12-28     361   -0.006865   0.003351   0.003164  -0.000649  1077.199951   \n",
       "2015-12-29     252   -0.001483   0.001113   0.004468   0.004281  1070.500000   \n",
       "2015-12-30      71   -0.007954  -0.009730  -0.008628  -0.005306  1077.500000   \n",
       "2015-12-31      10   -0.001507  -0.006270  -0.015939  -0.014844  1060.099976   \n",
       "\n",
       "               Close_l2  pct_change_l1  pct_change_l2  \n",
       "Date                                                   \n",
       "2003-01-07   351.200012       0.000000       0.017381  \n",
       "2003-01-08   351.700012      -0.005726       0.000000  \n",
       "2003-01-09   347.299988       0.020473      -0.005726  \n",
       "2003-01-10   353.899994       0.000000       0.020473  \n",
       "2003-01-13   353.299988       0.000847       0.000000  \n",
       "...                 ...            ...            ...  \n",
       "2015-12-24  1074.800049      -0.004746      -0.003523  \n",
       "2015-12-28  1069.400024       0.002699      -0.004746  \n",
       "2015-12-29  1077.199951      -0.006865       0.002699  \n",
       "2015-12-30  1070.500000      -0.001483      -0.006865  \n",
       "2015-12-31  1077.500000      -0.007954      -0.001483  \n",
       "\n",
       "[3233 rows x 14 columns]"
      ]
     },
     "execution_count": 10,
     "metadata": {},
     "output_type": "execute_result"
    }
   ],
   "source": [
    "gold_data"
   ]
  },
  {
   "cell_type": "code",
   "execution_count": 11,
   "metadata": {},
   "outputs": [
    {
     "data": {
      "text/html": [
       "<div>\n",
       "<style scoped>\n",
       "    .dataframe tbody tr th:only-of-type {\n",
       "        vertical-align: middle;\n",
       "    }\n",
       "\n",
       "    .dataframe tbody tr th {\n",
       "        vertical-align: top;\n",
       "    }\n",
       "\n",
       "    .dataframe thead th {\n",
       "        text-align: right;\n",
       "    }\n",
       "</style>\n",
       "<table border=\"1\" class=\"dataframe\">\n",
       "  <thead>\n",
       "    <tr style=\"text-align: right;\">\n",
       "      <th></th>\n",
       "      <th>Open</th>\n",
       "      <th>High</th>\n",
       "      <th>Low</th>\n",
       "      <th>Close</th>\n",
       "      <th>Adj Close</th>\n",
       "      <th>Volume</th>\n",
       "      <th>pct_change</th>\n",
       "      <th>change_d1</th>\n",
       "      <th>change_d2</th>\n",
       "      <th>change_d3</th>\n",
       "      <th>pct_change_l1</th>\n",
       "      <th>pct_change_l2</th>\n",
       "      <th>vol</th>\n",
       "      <th>vol_w5</th>\n",
       "    </tr>\n",
       "    <tr>\n",
       "      <th>Date</th>\n",
       "      <th></th>\n",
       "      <th></th>\n",
       "      <th></th>\n",
       "      <th></th>\n",
       "      <th></th>\n",
       "      <th></th>\n",
       "      <th></th>\n",
       "      <th></th>\n",
       "      <th></th>\n",
       "      <th></th>\n",
       "      <th></th>\n",
       "      <th></th>\n",
       "      <th></th>\n",
       "      <th></th>\n",
       "    </tr>\n",
       "  </thead>\n",
       "  <tbody>\n",
       "    <tr>\n",
       "      <th>2003-02-21</th>\n",
       "      <td>0.49967</td>\n",
       "      <td>0.49967</td>\n",
       "      <td>0.49967</td>\n",
       "      <td>0.49967</td>\n",
       "      <td>0.49967</td>\n",
       "      <td>0</td>\n",
       "      <td>0.000000</td>\n",
       "      <td>0.00000</td>\n",
       "      <td>-0.428570</td>\n",
       "      <td>-0.199990</td>\n",
       "      <td>0.000000</td>\n",
       "      <td>0.000000</td>\n",
       "      <td>0.00000</td>\n",
       "      <td>0.00000</td>\n",
       "    </tr>\n",
       "    <tr>\n",
       "      <th>2003-03-05</th>\n",
       "      <td>0.49967</td>\n",
       "      <td>0.49967</td>\n",
       "      <td>0.49967</td>\n",
       "      <td>0.49967</td>\n",
       "      <td>0.49967</td>\n",
       "      <td>20</td>\n",
       "      <td>0.000000</td>\n",
       "      <td>0.00000</td>\n",
       "      <td>0.000000</td>\n",
       "      <td>-0.428570</td>\n",
       "      <td>0.000000</td>\n",
       "      <td>0.000000</td>\n",
       "      <td>0.00000</td>\n",
       "      <td>0.00000</td>\n",
       "    </tr>\n",
       "    <tr>\n",
       "      <th>2003-03-07</th>\n",
       "      <td>0.74950</td>\n",
       "      <td>0.74950</td>\n",
       "      <td>0.49967</td>\n",
       "      <td>0.49967</td>\n",
       "      <td>0.49967</td>\n",
       "      <td>11067</td>\n",
       "      <td>-0.333329</td>\n",
       "      <td>0.49999</td>\n",
       "      <td>0.499990</td>\n",
       "      <td>0.499990</td>\n",
       "      <td>0.000000</td>\n",
       "      <td>0.000000</td>\n",
       "      <td>0.49999</td>\n",
       "      <td>0.00000</td>\n",
       "    </tr>\n",
       "    <tr>\n",
       "      <th>2003-03-10</th>\n",
       "      <td>0.37475</td>\n",
       "      <td>0.37475</td>\n",
       "      <td>0.37475</td>\n",
       "      <td>0.37475</td>\n",
       "      <td>0.37475</td>\n",
       "      <td>40</td>\n",
       "      <td>0.000000</td>\n",
       "      <td>-0.50000</td>\n",
       "      <td>-0.250005</td>\n",
       "      <td>-0.250005</td>\n",
       "      <td>-0.333329</td>\n",
       "      <td>0.000000</td>\n",
       "      <td>0.00000</td>\n",
       "      <td>0.49999</td>\n",
       "    </tr>\n",
       "    <tr>\n",
       "      <th>2003-03-11</th>\n",
       "      <td>0.37475</td>\n",
       "      <td>0.37475</td>\n",
       "      <td>0.37475</td>\n",
       "      <td>0.37475</td>\n",
       "      <td>0.37475</td>\n",
       "      <td>0</td>\n",
       "      <td>0.000000</td>\n",
       "      <td>0.00000</td>\n",
       "      <td>-0.500000</td>\n",
       "      <td>-0.250005</td>\n",
       "      <td>0.000000</td>\n",
       "      <td>-0.333329</td>\n",
       "      <td>0.00000</td>\n",
       "      <td>0.49999</td>\n",
       "    </tr>\n",
       "  </tbody>\n",
       "</table>\n",
       "</div>"
      ],
      "text/plain": [
       "               Open     High      Low    Close  Adj Close  Volume  pct_change  \\\n",
       "Date                                                                            \n",
       "2003-02-21  0.49967  0.49967  0.49967  0.49967    0.49967       0    0.000000   \n",
       "2003-03-05  0.49967  0.49967  0.49967  0.49967    0.49967      20    0.000000   \n",
       "2003-03-07  0.74950  0.74950  0.49967  0.49967    0.49967   11067   -0.333329   \n",
       "2003-03-10  0.37475  0.37475  0.37475  0.37475    0.37475      40    0.000000   \n",
       "2003-03-11  0.37475  0.37475  0.37475  0.37475    0.37475       0    0.000000   \n",
       "\n",
       "            change_d1  change_d2  change_d3  pct_change_l1  pct_change_l2  \\\n",
       "Date                                                                        \n",
       "2003-02-21    0.00000  -0.428570  -0.199990       0.000000       0.000000   \n",
       "2003-03-05    0.00000   0.000000  -0.428570       0.000000       0.000000   \n",
       "2003-03-07    0.49999   0.499990   0.499990       0.000000       0.000000   \n",
       "2003-03-10   -0.50000  -0.250005  -0.250005      -0.333329       0.000000   \n",
       "2003-03-11    0.00000  -0.500000  -0.250005       0.000000      -0.333329   \n",
       "\n",
       "                vol   vol_w5  \n",
       "Date                          \n",
       "2003-02-21  0.00000  0.00000  \n",
       "2003-03-05  0.00000  0.00000  \n",
       "2003-03-07  0.49999  0.00000  \n",
       "2003-03-10  0.00000  0.49999  \n",
       "2003-03-11  0.00000  0.49999  "
      ]
     },
     "execution_count": 11,
     "metadata": {},
     "output_type": "execute_result"
    }
   ],
   "source": [
    "us_market_data.head()"
   ]
  },
  {
   "cell_type": "code",
   "execution_count": 12,
   "metadata": {},
   "outputs": [],
   "source": [
    "metal_cols = ['Open', 'pct_change_l1', 'pct_change_l2', 'change_d1', 'change_d2', 'change_d3', 'Close_l1', 'Close_l2']\n",
    "metals_data = pd.merge(gold_data[metal_cols], silver_data[metal_cols], left_index=True, right_index=True, suffixes=('_gold', '_silver'))"
   ]
  },
  {
   "cell_type": "code",
   "execution_count": 13,
   "metadata": {},
   "outputs": [],
   "source": [
    "market_cols = ['Open', 'pct_change_l1', 'pct_change_l2', 'change_d1', 'change_d2', 'change_d3', 'vol', 'vol_w5']\n",
    "market_data_temp = pd.merge(us_market_data[market_cols], can_market_data[market_cols], left_index=True, right_index=True, suffixes=('_usm', '_canm'))\n",
    "market_data = pd.merge(market_data_temp, cad_data[market_cols].add_suffix('_cad'), left_index=True, right_index=True)\n"
   ]
  },
  {
   "cell_type": "code",
   "execution_count": 14,
   "metadata": {},
   "outputs": [],
   "source": [
    "all_other_data = pd.merge(metals_data, market_data, left_index=True, right_index=True, suffixes=('', ''))"
   ]
  },
  {
   "cell_type": "code",
   "execution_count": 15,
   "metadata": {},
   "outputs": [],
   "source": [
    "def merge_company_data(df):\n",
    "    cols = ['Open', 'change_d1', 'change_d2', 'change_d3', 'pct_change_l1', 'pct_change_l2', 'Volume_l1', 'Volume_l2']\n",
    "    to_return = pd.merge(df[cols], all_other_data, left_index=True, right_index=True)\n",
    "    return to_return.dropna(how='any')"
   ]
  },
  {
   "cell_type": "code",
   "execution_count": 16,
   "metadata": {},
   "outputs": [],
   "source": [
    "c1_data_m = merge_company_data(c1_data)\n",
    "c2_data_m = merge_company_data(c2_data)\n",
    "c3_data_m = merge_company_data(c3_data)\n",
    "c4_data_m = merge_company_data(c4_data)"
   ]
  },
  {
   "cell_type": "code",
   "execution_count": 17,
   "metadata": {},
   "outputs": [
    {
     "data": {
      "image/png": "[encoded data removed]",
      "text/plain": [
       "<Figure size 432x288 with 1 Axes>"
      ]
     },
     "metadata": {
      "needs_background": "light"
     },
     "output_type": "display_data"
    },
    {
     "data": {
      "image/png": "[encoded data removed]",
      "text/plain": [
       "<Figure size 432x288 with 1 Axes>"
      ]
     },
     "metadata": {
      "needs_background": "light"
     },
     "output_type": "display_data"
    },
    {
     "data": {
      "image/png": "[encoded data removed]",
      "text/plain": [
       "<Figure size 432x288 with 1 Axes>"
      ]
     },
     "metadata": {
      "needs_background": "light"
     },
     "output_type": "display_data"
    },
    {
     "data": {
      "image/png": "[encoded data removed]",
      "text/plain": [
       "<Figure size 432x288 with 1 Axes>"
      ]
     },
     "metadata": {
      "needs_background": "light"
     },
     "output_type": "display_data"
    }
   ],
   "source": [
    "plt.plot(gold_data.index, gold_data['change_d3'], linewidth=0.5)\n",
    "plt.plot(gold_data.index, gold_data['pct_change_l1'], linewidth=0.5)\n",
    "plt.show()\n",
    "\n",
    "plt.plot(c1_data.index, c1_data['pct_change'])\n",
    "plt.show()\n",
    "\n",
    "plt.plot(c2_data.index, c2_data['pct_change'])\n",
    "plt.show()\n",
    "\n",
    "plt.plot(us_market_data.index, us_market_data['change_d3'], linewidth=0.5)\n",
    "plt.plot(us_market_data.index, us_market_data['change_d1'],  linewidth=0.5)\n",
    "plt.show()"
   ]
  },
  {
   "cell_type": "code",
   "execution_count": 18,
   "metadata": {},
   "outputs": [
    {
     "data": {
      "image/png": "[encoded data removed]",
      "text/plain": [
       "<Figure size 432x288 with 1 Axes>"
      ]
     },
     "metadata": {
      "needs_background": "light"
     },
     "output_type": "display_data"
    },
    {
     "data": {
      "image/png": "[encoded data removed]",
      "text/plain": [
       "<Figure size 432x288 with 1 Axes>"
      ]
     },
     "metadata": {
      "needs_background": "light"
     },
     "output_type": "display_data"
    }
   ],
   "source": [
    "plt.scatter(c2_data_m.pct_change_l1_gold, c2_data_m.pct_change_l1)\n",
    "plt.show()\n",
    "\n",
    "plt.scatter(c2_data_m.pct_change_l2_usm, c2_data_m.change_d3_gold)\n",
    "plt.show()\n"
   ]
  },
  {
   "cell_type": "code",
   "execution_count": 19,
   "metadata": {},
   "outputs": [
    {
     "name": "stderr",
     "output_type": "stream",
     "text": [
      "/Users/prateekagarwal2/opt/anaconda3/lib/python3.7/importlib/_bootstrap.py:219: RuntimeWarning: numpy.ufunc size changed, may indicate binary incompatibility. Expected 192 from C header, got 216 from PyObject\n",
      "  return f(*args, **kwds)\n"
     ]
    }
   ],
   "source": [
    "from sklearn import linear_model"
   ]
  },
  {
   "cell_type": "code",
   "execution_count": 63,
   "metadata": {},
   "outputs": [],
   "source": [
    "regr = linear_model.LinearRegression()\n",
    "y = c1_data.Close.pct_change(1).loc[c1_data_m.index]\n",
    "\n",
    "date = '2014-06-01'\n",
    "X_train = c1_data_m.loc[c1_data_m.index < date]\n",
    "y_train = y.loc[y.index < date]\n",
    "\n",
    "X_test = c1_data_m.loc[c1_data_m.index >= date]\n",
    "y_test = y.loc[y.index >= date]"
   ]
  },
  {
   "cell_type": "code",
   "execution_count": 64,
   "metadata": {},
   "outputs": [
    {
     "data": {
      "text/plain": [
       "LinearRegression(copy_X=True, fit_intercept=True, n_jobs=None, normalize=False)"
      ]
     },
     "execution_count": 64,
     "metadata": {},
     "output_type": "execute_result"
    }
   ],
   "source": [
    "regr.fit(X_train, y_train)"
   ]
  },
  {
   "cell_type": "code",
   "execution_count": 65,
   "metadata": {},
   "outputs": [],
   "source": [
    "y_predicted = regr.predict(X_test)"
   ]
  },
  {
   "cell_type": "code",
   "execution_count": 66,
   "metadata": {},
   "outputs": [
    {
     "data": {
      "text/html": [
       "<div>\n",
       "<style scoped>\n",
       "    .dataframe tbody tr th:only-of-type {\n",
       "        vertical-align: middle;\n",
       "    }\n",
       "\n",
       "    .dataframe tbody tr th {\n",
       "        vertical-align: top;\n",
       "    }\n",
       "\n",
       "    .dataframe thead th {\n",
       "        text-align: right;\n",
       "    }\n",
       "</style>\n",
       "<table border=\"1\" class=\"dataframe\">\n",
       "  <thead>\n",
       "    <tr style=\"text-align: right;\">\n",
       "      <th></th>\n",
       "      <th>actual</th>\n",
       "      <th>predicted</th>\n",
       "    </tr>\n",
       "    <tr>\n",
       "      <th>Date</th>\n",
       "      <th></th>\n",
       "      <th></th>\n",
       "    </tr>\n",
       "  </thead>\n",
       "  <tbody>\n",
       "    <tr>\n",
       "      <th>2014-06-02</th>\n",
       "      <td>-0.014773</td>\n",
       "      <td>-0.007695</td>\n",
       "    </tr>\n",
       "    <tr>\n",
       "      <th>2014-06-03</th>\n",
       "      <td>0.005767</td>\n",
       "      <td>-0.001458</td>\n",
       "    </tr>\n",
       "    <tr>\n",
       "      <th>2014-06-04</th>\n",
       "      <td>-0.002294</td>\n",
       "      <td>0.000630</td>\n",
       "    </tr>\n",
       "    <tr>\n",
       "      <th>2014-06-05</th>\n",
       "      <td>0.009195</td>\n",
       "      <td>0.008042</td>\n",
       "    </tr>\n",
       "    <tr>\n",
       "      <th>2014-06-10</th>\n",
       "      <td>0.017222</td>\n",
       "      <td>0.009843</td>\n",
       "    </tr>\n",
       "    <tr>\n",
       "      <th>...</th>\n",
       "      <td>...</td>\n",
       "      <td>...</td>\n",
       "    </tr>\n",
       "    <tr>\n",
       "      <th>2015-12-17</th>\n",
       "      <td>-0.079772</td>\n",
       "      <td>-0.059801</td>\n",
       "    </tr>\n",
       "    <tr>\n",
       "      <th>2015-12-18</th>\n",
       "      <td>0.041280</td>\n",
       "      <td>0.015260</td>\n",
       "    </tr>\n",
       "    <tr>\n",
       "      <th>2015-12-21</th>\n",
       "      <td>0.034688</td>\n",
       "      <td>0.019659</td>\n",
       "    </tr>\n",
       "    <tr>\n",
       "      <th>2015-12-23</th>\n",
       "      <td>0.023077</td>\n",
       "      <td>0.000447</td>\n",
       "    </tr>\n",
       "    <tr>\n",
       "      <th>2015-12-29</th>\n",
       "      <td>-0.033180</td>\n",
       "      <td>-0.036142</td>\n",
       "    </tr>\n",
       "  </tbody>\n",
       "</table>\n",
       "<p>216 rows × 2 columns</p>\n",
       "</div>"
      ],
      "text/plain": [
       "              actual  predicted\n",
       "Date                           \n",
       "2014-06-02 -0.014773  -0.007695\n",
       "2014-06-03  0.005767  -0.001458\n",
       "2014-06-04 -0.002294   0.000630\n",
       "2014-06-05  0.009195   0.008042\n",
       "2014-06-10  0.017222   0.009843\n",
       "...              ...        ...\n",
       "2015-12-17 -0.079772  -0.059801\n",
       "2015-12-18  0.041280   0.015260\n",
       "2015-12-21  0.034688   0.019659\n",
       "2015-12-23  0.023077   0.000447\n",
       "2015-12-29 -0.033180  -0.036142\n",
       "\n",
       "[216 rows x 2 columns]"
      ]
     },
     "execution_count": 66,
     "metadata": {},
     "output_type": "execute_result"
    }
   ],
   "source": [
    "results = pd.DataFrame()\n",
    "results['actual'] = y_test\n",
    "results['predicted'] = y_predicted\n",
    "results.index = y_test.index\n",
    "results"
   ]
  },
  {
   "cell_type": "code",
   "execution_count": 67,
   "metadata": {},
   "outputs": [
    {
     "data": {
      "application/vnd.plotly.v1+json": {
       "config": {
        "plotlyServerURL": "https://plot.ly"
       },
       "data": [
        {
         "hovertemplate": "variable=actual<br>Date=%{x}<br>value=%{y}<extra></extra>",
         "legendgroup": "actual",
         "line": {
          "color": "#636efa",
          "dash": "solid"
         },
         "mode": "lines",
         "name": "actual",
         "orientation": "v",
         "showlegend": true,
         "type": "scatter",
         "x": [
          "2014-06-02T00:00:00",
          "2014-06-03T00:00:00",
          "2014-06-04T00:00:00",
          "2014-06-05T00:00:00",
          "2014-06-10T00:00:00",
          "2014-06-11T00:00:00",
          "2014-06-12T00:00:00",
          "2014-06-13T00:00:00",
          "2014-06-16T00:00:00",
          "2014-06-17T00:00:00",
          "2014-06-18T00:00:00",
          "2014-06-19T00:00:00",
          "2014-06-23T00:00:00",
          "2014-06-24T00:00:00",
          "2014-06-25T00:00:00",
          "2014-06-26T00:00:00",
          "2014-06-30T00:00:00",
          "2014-07-02T00:00:00",
          "2014-07-07T00:00:00",
          "2014-07-08T00:00:00",
          "2014-07-09T00:00:00",
          "2014-07-10T00:00:00",
          "2014-07-11T00:00:00",
          "2014-07-14T00:00:00",
          "2014-07-15T00:00:00",
          "2014-07-21T00:00:00",
          "2014-07-22T00:00:00",
          "2014-07-23T00:00:00",
          "2014-07-28T00:00:00",
          "2014-07-29T00:00:00",
          "2014-08-01T00:00:00",
          "2014-08-05T00:00:00",
          "2014-08-06T00:00:00",
          "2014-08-07T00:00:00",
          "2014-08-08T00:00:00",
          "2014-08-11T00:00:00",
          "2014-08-12T00:00:00",
          "2014-08-13T00:00:00",
          "2014-08-14T00:00:00",
          "2014-08-15T00:00:00",
          "2014-08-18T00:00:00",
          "2014-08-19T00:00:00",
          "2014-08-20T00:00:00",
          "2014-08-21T00:00:00",
          "2014-08-22T00:00:00",
          "2014-08-25T00:00:00",
          "2014-08-26T00:00:00",
          "2014-08-27T00:00:00",
          "2014-08-28T00:00:00",
          "2014-08-29T00:00:00",
          "2014-09-02T00:00:00",
          "2014-09-04T00:00:00",
          "2014-09-05T00:00:00",
          "2014-09-09T00:00:00",
          "2014-09-10T00:00:00",
          "2014-09-11T00:00:00",
          "2014-09-12T00:00:00",
          "2014-09-15T00:00:00",
          "2014-09-16T00:00:00",
          "2014-09-17T00:00:00",
          "2014-09-18T00:00:00",
          "2014-09-19T00:00:00",
          "2014-09-22T00:00:00",
          "2014-09-25T00:00:00",
          "2014-09-26T00:00:00",
          "2014-09-29T00:00:00",
          "2014-10-08T00:00:00",
          "2014-10-09T00:00:00",
          "2014-10-10T00:00:00",
          "2014-10-15T00:00:00",
          "2014-10-17T00:00:00",
          "2014-10-20T00:00:00",
          "2014-10-21T00:00:00",
          "2014-10-22T00:00:00",
          "2014-10-23T00:00:00",
          "2014-10-24T00:00:00",
          "2014-10-27T00:00:00",
          "2014-10-29T00:00:00",
          "2014-10-30T00:00:00",
          "2014-11-03T00:00:00",
          "2014-11-05T00:00:00",
          "2014-11-06T00:00:00",
          "2014-11-11T00:00:00",
          "2014-11-12T00:00:00",
          "2014-11-18T00:00:00",
          "2014-11-20T00:00:00",
          "2014-11-21T00:00:00",
          "2014-12-04T00:00:00",
          "2014-12-05T00:00:00",
          "2014-12-08T00:00:00",
          "2014-12-09T00:00:00",
          "2014-12-10T00:00:00",
          "2014-12-11T00:00:00",
          "2014-12-12T00:00:00",
          "2014-12-15T00:00:00",
          "2014-12-17T00:00:00",
          "2014-12-18T00:00:00",
          "2014-12-29T00:00:00",
          "2014-12-30T00:00:00",
          "2015-01-02T00:00:00",
          "2015-01-05T00:00:00",
          "2015-01-08T00:00:00",
          "2015-01-09T00:00:00",
          "2015-01-12T00:00:00",
          "2015-01-14T00:00:00",
          "2015-01-15T00:00:00",
          "2015-01-16T00:00:00",
          "2015-01-21T00:00:00",
          "2015-01-30T00:00:00",
          "2015-02-02T00:00:00",
          "2015-02-03T00:00:00",
          "2015-02-05T00:00:00",
          "2015-02-06T00:00:00",
          "2015-02-17T00:00:00",
          "2015-02-18T00:00:00",
          "2015-02-20T00:00:00",
          "2015-02-25T00:00:00",
          "2015-02-26T00:00:00",
          "2015-02-27T00:00:00",
          "2015-03-02T00:00:00",
          "2015-03-06T00:00:00",
          "2015-03-11T00:00:00",
          "2015-03-12T00:00:00",
          "2015-03-24T00:00:00",
          "2015-03-25T00:00:00",
          "2015-03-30T00:00:00",
          "2015-03-31T00:00:00",
          "2015-04-01T00:00:00",
          "2015-04-07T00:00:00",
          "2015-04-08T00:00:00",
          "2015-04-09T00:00:00",
          "2015-04-10T00:00:00",
          "2015-04-13T00:00:00",
          "2015-04-16T00:00:00",
          "2015-04-24T00:00:00",
          "2015-04-27T00:00:00",
          "2015-04-28T00:00:00",
          "2015-04-30T00:00:00",
          "2015-05-01T00:00:00",
          "2015-05-04T00:00:00",
          "2015-05-05T00:00:00",
          "2015-05-06T00:00:00",
          "2015-05-07T00:00:00",
          "2015-05-14T00:00:00",
          "2015-05-20T00:00:00",
          "2015-05-22T00:00:00",
          "2015-06-02T00:00:00",
          "2015-06-05T00:00:00",
          "2015-06-10T00:00:00",
          "2015-06-11T00:00:00",
          "2015-06-12T00:00:00",
          "2015-06-15T00:00:00",
          "2015-06-16T00:00:00",
          "2015-06-17T00:00:00",
          "2015-06-19T00:00:00",
          "2015-06-22T00:00:00",
          "2015-06-23T00:00:00",
          "2015-06-25T00:00:00",
          "2015-06-26T00:00:00",
          "2015-06-29T00:00:00",
          "2015-06-30T00:00:00",
          "2015-07-06T00:00:00",
          "2015-07-07T00:00:00",
          "2015-07-08T00:00:00",
          "2015-08-06T00:00:00",
          "2015-08-17T00:00:00",
          "2015-08-19T00:00:00",
          "2015-08-21T00:00:00",
          "2015-08-25T00:00:00",
          "2015-08-26T00:00:00",
          "2015-08-27T00:00:00",
          "2015-08-28T00:00:00",
          "2015-09-01T00:00:00",
          "2015-09-02T00:00:00",
          "2015-09-03T00:00:00",
          "2015-09-04T00:00:00",
          "2015-09-08T00:00:00",
          "2015-09-09T00:00:00",
          "2015-09-11T00:00:00",
          "2015-09-14T00:00:00",
          "2015-09-15T00:00:00",
          "2015-09-16T00:00:00",
          "2015-09-17T00:00:00",
          "2015-09-18T00:00:00",
          "2015-09-23T00:00:00",
          "2015-09-24T00:00:00",
          "2015-09-25T00:00:00",
          "2015-09-30T00:00:00",
          "2015-10-05T00:00:00",
          "2015-10-07T00:00:00",
          "2015-10-20T00:00:00",
          "2015-10-21T00:00:00",
          "2015-10-22T00:00:00",
          "2015-10-23T00:00:00",
          "2015-10-26T00:00:00",
          "2015-10-27T00:00:00",
          "2015-10-29T00:00:00",
          "2015-11-03T00:00:00",
          "2015-11-04T00:00:00",
          "2015-11-05T00:00:00",
          "2015-11-06T00:00:00",
          "2015-11-11T00:00:00",
          "2015-11-17T00:00:00",
          "2015-11-18T00:00:00",
          "2015-11-27T00:00:00",
          "2015-12-02T00:00:00",
          "2015-12-09T00:00:00",
          "2015-12-10T00:00:00",
          "2015-12-11T00:00:00",
          "2015-12-15T00:00:00",
          "2015-12-16T00:00:00",
          "2015-12-17T00:00:00",
          "2015-12-18T00:00:00",
          "2015-12-21T00:00:00",
          "2015-12-23T00:00:00",
          "2015-12-29T00:00:00"
         ],
         "xaxis": "x",
         "y": [
          -0.014772739957186531,
          0.005767034636086965,
          -0.0022936304072485036,
          0.00919539373102718,
          0.017221540513584932,
          0.007900750701020698,
          0.016797269138203008,
          0.015418540143072201,
          -0.0037960787850810362,
          0.009254222565459491,
          0.018338631523718396,
          0.032839028961494154,
          0.01935140772198829,
          -0.023088705021826805,
          0.0015755660637815083,
          0.008390133716443371,
          0.016649407575707098,
          0.0015352496361982215,
          0.012960082329429357,
          0.02098259100317157,
          0.009523740322954666,
          -0.018867883430121357,
          0.048076864604600145,
          -0.022694318403271962,
          -0.026185804972280735,
          -0.005334655958998069,
          -0.014627066848430514,
          -0.00395843282187569,
          -0.0009901216340727492,
          -0.0004955514732708499,
          0.009644599967042478,
          -0.005530352256329252,
          0.013650077909113989,
          0.006483844042993292,
          0.016352820550821212,
          -0.0029253761712734194,
          0.023960868109411892,
          -0.005730698957634894,
          0.0004803183971382463,
          -0.009121485105786475,
          0.0009690144551894875,
          -0.0029041368047201255,
          -0.002912595380160976,
          -0.017526805954493296,
          -0.010406391905129375,
          -0.01101649078211897,
          0.010126620908326833,
          -0.014536386187316341,
          0.00457783078771179,
          0.012151887145223528,
          -0.023511721797693785,
          -0.04242109146718531,
          0.007023185259812159,
          0.00816546606845625,
          -0.010799176997623228,
          0.01692136851017323,
          -0.01610301935452163,
          -0.007637719052435821,
          -0.000549765178022521,
          -0.015951645250785962,
          -0.020681886221799117,
          -0.023972606468045443,
          -0.005847975394087768,
          0.01063203201010876,
          -0.005260090553909191,
          -0.01821394623697603,
          0.04593174670459832,
          -0.021957304705712777,
          -0.03078899879490804,
          -0.01359223564656864,
          -0.024516136415543066,
          0.020502673410254246,
          -0.00907325603070741,
          -0.014388506708808757,
          0.003981447964946261,
          0.0033047052449881598,
          -0.014492770922659104,
          -0.050331139714041684,
          -0.04114366431728489,
          0.011958134980837754,
          -0.04287905066033182,
          0.03760002136230467,
          0.024031040990993402,
          0.0030280061875487263,
          0.06894102971342875,
          0.031227791030398633,
          -0.006194091826695947,
          -0.03138377458568231,
          -0.027245941652266792,
          0.004542045378004067,
          0.039186095414573074,
          -0.0065264795385682195,
          -0.0043795231224605935,
          -0.02639300595969518,
          -0.08057226779663673,
          0.04658897209780721,
          0.021462675628071803,
          0.013311134885087839,
          0.03448276402057804,
          0.02715648454331654,
          -0.0038879656606044533,
          -0.027376400541483936,
          0.019546520777610654,
          0.04141104014054697,
          -0.027429496488370897,
          0.09750201877716358,
          0.03450809625388751,
          0.03359678952270051,
          0.0490639277024969,
          -0.0024615948016827316,
          -0.031462017520780816,
          0.0012330738970627309,
          -0.049261096182871555,
          -0.01653439165953774,
          0.022864838951214717,
          0.008733586004464167,
          0.011464987730098963,
          0.005667515865194872,
          0.018159045523108208,
          -0.015375153535111097,
          -0.06369004218709651,
          0.02649004066484073,
          -0.03225805128443526,
          -0.0035038674934071423,
          -0.00281293678634964,
          -0.005629832758007991,
          -0.019815975279790066,
          0.09602887271292038,
          -0.017789055720634273,
          -0.00258731964775738,
          0.01361867944928341,
          0.020473428821575324,
          -0.022570511660327863,
          -0.024699198496830443,
          -0.00651892962679379,
          0.018372748743483935,
          0.03028346001880311,
          -0.03329217207389834,
          0.014030568180656955,
          0.0012578904555671233,
          -0.0069095261400811125,
          -0.037950687257747306,
          0.012491754103009844,
          -0.001893922517815727,
          -0.007863688319739603,
          -0.0052666179009884795,
          0.004048611393538293,
          -0.02665757623185483,
          0.0007022632754614122,
          -0.026666674697608306,
          -0.0007209970414093769,
          0.020923518689505594,
          -0.02685506508911628,
          0.026143765047899725,
          -0.016072710633561638,
          -0.02272725117600638,
          0.000726760807812088,
          -0.01452438317289162,
          -0.010316830714582448,
          -0.0037230223081673453,
          -0.0022421324898803663,
          0.02539202316623701,
          -0.04588486393088309,
          0.0015266796570208019,
          0.03690884567569741,
          0.022840169104360486,
          0.03711132152951757,
          -0.023212626682832194,
          -0.018808710265561968,
          -0.07135250817859484,
          0.037844026789060736,
          0.04309385430154,
          -0.028415222518805128,
          -0.0011248850951223188,
          -0.039414456864763525,
          -0.003516967633097612,
          0.01176475076114425,
          -0.036046558821631214,
          0.025547449066309902,
          -0.020166081867110996,
          0.003631928830497344,
          0.0651387170492006,
          0.01812002817605407,
          -0.006674023077858249,
          -0.02348579154966768,
          0.1037974888306934,
          0.0034403362445554198,
          0.01798556544195362,
          0.033448668892860134,
          -0.006309192236870653,
          0.04374367329737128,
          -0.040935679037476747,
          0.013211393539128036,
          0.024072193048163992,
          -0.03232124607963727,
          0.01417007507096324,
          0.015763626315248525,
          0.0058996524574508324,
          -0.028347993629492585,
          -0.024144847208223852,
          -0.032989659908917224,
          0.010460190732859864,
          -0.08652901748665465,
          0.03659850957847288,
          -0.04343427960306334,
          -0.025590574093174,
          0.02541546828114516,
          -0.0028598411464020312,
          0.017208442114658773,
          0.008256024854978117,
          0.07778907263034873,
          -0.07977209628578708,
          0.041279730601264664,
          0.03468775247794631,
          0.023076993614966845,
          -0.03317977858935317
         ],
         "yaxis": "y"
        },
        {
         "hovertemplate": "variable=predicted<br>Date=%{x}<br>value=%{y}<extra></extra>",
         "legendgroup": "predicted",
         "line": {
          "color": "#EF553B",
          "dash": "solid"
         },
         "mode": "lines",
         "name": "predicted",
         "orientation": "v",
         "showlegend": true,
         "type": "scatter",
         "x": [
          "2014-06-02T00:00:00",
          "2014-06-03T00:00:00",
          "2014-06-04T00:00:00",
          "2014-06-05T00:00:00",
          "2014-06-10T00:00:00",
          "2014-06-11T00:00:00",
          "2014-06-12T00:00:00",
          "2014-06-13T00:00:00",
          "2014-06-16T00:00:00",
          "2014-06-17T00:00:00",
          "2014-06-18T00:00:00",
          "2014-06-19T00:00:00",
          "2014-06-23T00:00:00",
          "2014-06-24T00:00:00",
          "2014-06-25T00:00:00",
          "2014-06-26T00:00:00",
          "2014-06-30T00:00:00",
          "2014-07-02T00:00:00",
          "2014-07-07T00:00:00",
          "2014-07-08T00:00:00",
          "2014-07-09T00:00:00",
          "2014-07-10T00:00:00",
          "2014-07-11T00:00:00",
          "2014-07-14T00:00:00",
          "2014-07-15T00:00:00",
          "2014-07-21T00:00:00",
          "2014-07-22T00:00:00",
          "2014-07-23T00:00:00",
          "2014-07-28T00:00:00",
          "2014-07-29T00:00:00",
          "2014-08-01T00:00:00",
          "2014-08-05T00:00:00",
          "2014-08-06T00:00:00",
          "2014-08-07T00:00:00",
          "2014-08-08T00:00:00",
          "2014-08-11T00:00:00",
          "2014-08-12T00:00:00",
          "2014-08-13T00:00:00",
          "2014-08-14T00:00:00",
          "2014-08-15T00:00:00",
          "2014-08-18T00:00:00",
          "2014-08-19T00:00:00",
          "2014-08-20T00:00:00",
          "2014-08-21T00:00:00",
          "2014-08-22T00:00:00",
          "2014-08-25T00:00:00",
          "2014-08-26T00:00:00",
          "2014-08-27T00:00:00",
          "2014-08-28T00:00:00",
          "2014-08-29T00:00:00",
          "2014-09-02T00:00:00",
          "2014-09-04T00:00:00",
          "2014-09-05T00:00:00",
          "2014-09-09T00:00:00",
          "2014-09-10T00:00:00",
          "2014-09-11T00:00:00",
          "2014-09-12T00:00:00",
          "2014-09-15T00:00:00",
          "2014-09-16T00:00:00",
          "2014-09-17T00:00:00",
          "2014-09-18T00:00:00",
          "2014-09-19T00:00:00",
          "2014-09-22T00:00:00",
          "2014-09-25T00:00:00",
          "2014-09-26T00:00:00",
          "2014-09-29T00:00:00",
          "2014-10-08T00:00:00",
          "2014-10-09T00:00:00",
          "2014-10-10T00:00:00",
          "2014-10-15T00:00:00",
          "2014-10-17T00:00:00",
          "2014-10-20T00:00:00",
          "2014-10-21T00:00:00",
          "2014-10-22T00:00:00",
          "2014-10-23T00:00:00",
          "2014-10-24T00:00:00",
          "2014-10-27T00:00:00",
          "2014-10-29T00:00:00",
          "2014-10-30T00:00:00",
          "2014-11-03T00:00:00",
          "2014-11-05T00:00:00",
          "2014-11-06T00:00:00",
          "2014-11-11T00:00:00",
          "2014-11-12T00:00:00",
          "2014-11-18T00:00:00",
          "2014-11-20T00:00:00",
          "2014-11-21T00:00:00",
          "2014-12-04T00:00:00",
          "2014-12-05T00:00:00",
          "2014-12-08T00:00:00",
          "2014-12-09T00:00:00",
          "2014-12-10T00:00:00",
          "2014-12-11T00:00:00",
          "2014-12-12T00:00:00",
          "2014-12-15T00:00:00",
          "2014-12-17T00:00:00",
          "2014-12-18T00:00:00",
          "2014-12-29T00:00:00",
          "2014-12-30T00:00:00",
          "2015-01-02T00:00:00",
          "2015-01-05T00:00:00",
          "2015-01-08T00:00:00",
          "2015-01-09T00:00:00",
          "2015-01-12T00:00:00",
          "2015-01-14T00:00:00",
          "2015-01-15T00:00:00",
          "2015-01-16T00:00:00",
          "2015-01-21T00:00:00",
          "2015-01-30T00:00:00",
          "2015-02-02T00:00:00",
          "2015-02-03T00:00:00",
          "2015-02-05T00:00:00",
          "2015-02-06T00:00:00",
          "2015-02-17T00:00:00",
          "2015-02-18T00:00:00",
          "2015-02-20T00:00:00",
          "2015-02-25T00:00:00",
          "2015-02-26T00:00:00",
          "2015-02-27T00:00:00",
          "2015-03-02T00:00:00",
          "2015-03-06T00:00:00",
          "2015-03-11T00:00:00",
          "2015-03-12T00:00:00",
          "2015-03-24T00:00:00",
          "2015-03-25T00:00:00",
          "2015-03-30T00:00:00",
          "2015-03-31T00:00:00",
          "2015-04-01T00:00:00",
          "2015-04-07T00:00:00",
          "2015-04-08T00:00:00",
          "2015-04-09T00:00:00",
          "2015-04-10T00:00:00",
          "2015-04-13T00:00:00",
          "2015-04-16T00:00:00",
          "2015-04-24T00:00:00",
          "2015-04-27T00:00:00",
          "2015-04-28T00:00:00",
          "2015-04-30T00:00:00",
          "2015-05-01T00:00:00",
          "2015-05-04T00:00:00",
          "2015-05-05T00:00:00",
          "2015-05-06T00:00:00",
          "2015-05-07T00:00:00",
          "2015-05-14T00:00:00",
          "2015-05-20T00:00:00",
          "2015-05-22T00:00:00",
          "2015-06-02T00:00:00",
          "2015-06-05T00:00:00",
          "2015-06-10T00:00:00",
          "2015-06-11T00:00:00",
          "2015-06-12T00:00:00",
          "2015-06-15T00:00:00",
          "2015-06-16T00:00:00",
          "2015-06-17T00:00:00",
          "2015-06-19T00:00:00",
          "2015-06-22T00:00:00",
          "2015-06-23T00:00:00",
          "2015-06-25T00:00:00",
          "2015-06-26T00:00:00",
          "2015-06-29T00:00:00",
          "2015-06-30T00:00:00",
          "2015-07-06T00:00:00",
          "2015-07-07T00:00:00",
          "2015-07-08T00:00:00",
          "2015-08-06T00:00:00",
          "2015-08-17T00:00:00",
          "2015-08-19T00:00:00",
          "2015-08-21T00:00:00",
          "2015-08-25T00:00:00",
          "2015-08-26T00:00:00",
          "2015-08-27T00:00:00",
          "2015-08-28T00:00:00",
          "2015-09-01T00:00:00",
          "2015-09-02T00:00:00",
          "2015-09-03T00:00:00",
          "2015-09-04T00:00:00",
          "2015-09-08T00:00:00",
          "2015-09-09T00:00:00",
          "2015-09-11T00:00:00",
          "2015-09-14T00:00:00",
          "2015-09-15T00:00:00",
          "2015-09-16T00:00:00",
          "2015-09-17T00:00:00",
          "2015-09-18T00:00:00",
          "2015-09-23T00:00:00",
          "2015-09-24T00:00:00",
          "2015-09-25T00:00:00",
          "2015-09-30T00:00:00",
          "2015-10-05T00:00:00",
          "2015-10-07T00:00:00",
          "2015-10-20T00:00:00",
          "2015-10-21T00:00:00",
          "2015-10-22T00:00:00",
          "2015-10-23T00:00:00",
          "2015-10-26T00:00:00",
          "2015-10-27T00:00:00",
          "2015-10-29T00:00:00",
          "2015-11-03T00:00:00",
          "2015-11-04T00:00:00",
          "2015-11-05T00:00:00",
          "2015-11-06T00:00:00",
          "2015-11-11T00:00:00",
          "2015-11-17T00:00:00",
          "2015-11-18T00:00:00",
          "2015-11-27T00:00:00",
          "2015-12-02T00:00:00",
          "2015-12-09T00:00:00",
          "2015-12-10T00:00:00",
          "2015-12-11T00:00:00",
          "2015-12-15T00:00:00",
          "2015-12-16T00:00:00",
          "2015-12-17T00:00:00",
          "2015-12-18T00:00:00",
          "2015-12-21T00:00:00",
          "2015-12-23T00:00:00",
          "2015-12-29T00:00:00"
         ],
         "xaxis": "x",
         "y": [
          -0.007694700875257188,
          -0.0014582858930654655,
          0.0006300562494160611,
          0.00804162099190947,
          0.009842524021978657,
          0.003935309102021497,
          0.011649202260087576,
          0.003921383859904724,
          0.0037845709363528747,
          -0.0073177394314260825,
          -0.005032112947729411,
          0.011031926283465589,
          0.0014157768843412535,
          -0.0021097035488314812,
          0.006579924825859337,
          -0.005976366556679675,
          -0.006366779083003555,
          -0.017564702462460818,
          -0.0006729883035691935,
          0.0015809637594467844,
          0.000836525087172621,
          0.012501371723350719,
          0.014999578408087426,
          -0.037282193372905184,
          -0.005194064010960581,
          -0.0012060974648881867,
          -0.002639301391289574,
          -0.0018011547225013566,
          -0.012150210925357171,
          -0.002323909881995056,
          -7.141462362185089e-05,
          -0.012601398254797096,
          0.014168511317365958,
          0.0029539207064493665,
          0.020737327397241268,
          0.0010295181250308365,
          0.003141551096512523,
          0.001085856273549353,
          0.0014126169538877763,
          -0.02158548830577978,
          -0.01038303141344889,
          -0.003755241045373555,
          -0.0019647383100500904,
          -0.023124018545912412,
          -0.012009063948766153,
          -0.0027395376525374757,
          0.011268419281371015,
          -0.0017787117744396432,
          0.008297138953366992,
          -0.004017933327018955,
          -0.01941369899829314,
          -0.0020166134107473567,
          0.010176855595084158,
          0.004949351316280069,
          -0.0018213046155531806,
          -0.003328943568368551,
          -0.00557381155085598,
          0.006247372309376106,
          0.0002518486922216505,
          -0.00688260892433341,
          -0.0010937311837072965,
          -0.013823238768927517,
          0.0036896768921211368,
          0.0031265213725444885,
          0.00025844422686600865,
          0.0017497195253586978,
          0.02302681303703198,
          0.008440453967912324,
          -0.002163772215557448,
          0.001456995380611864,
          0.004470799082239522,
          0.006779501183869153,
          0.005203159826506373,
          -0.005863448550542338,
          0.0032079110444652482,
          0.0005863455539628741,
          -0.007670547009213411,
          -0.008830589860311457,
          -0.0014028420563631273,
          -0.01175596379343061,
          -0.028808516386938144,
          0.016285844235151496,
          0.013537890349641202,
          0.02071808693774235,
          0.018778856758601203,
          0.011191598591639726,
          0.01964106656466388,
          -0.0010745052820981746,
          -0.011292481632197354,
          0.0012533719777662357,
          0.023089465845139642,
          -0.004413280832455839,
          0.009818919650355862,
          0.011260806723013075,
          -0.021872049368276563,
          0.009863625229926239,
          -0.001538966650602186,
          0.009142082881821757,
          0.013611740748124228,
          -0.009786239641707935,
          -0.005044041042438729,
          -0.01311264625156099,
          0.022797571130250705,
          0.003916825317424662,
          0.013551254705805508,
          0.047659707354103485,
          0.017117563263027005,
          0.015190765866733923,
          0.0022298338068302455,
          -0.0330743593200675,
          -0.02111209129729576,
          -0.019924374524680575,
          -0.048797260953742067,
          -0.04048732124704657,
          -0.0019149769088698011,
          -0.002000428308692119,
          0.004786598488849499,
          0.008805582724379667,
          0.002084980392195332,
          0.002388687509051083,
          -0.028333142311302167,
          -0.0020563591996290986,
          0.00030796692065592976,
          -0.005362581214185921,
          0.003835655652447638,
          -0.018133162484990275,
          -0.003595482012125728,
          0.009774135146236228,
          -0.013191591387872393,
          -0.009218374663717676,
          -0.015529303679138944,
          0.00853269806650105,
          -0.011285249015305674,
          -0.005343772014319185,
          -0.004014719505424064,
          0.00559091559198472,
          -0.020136010789594042,
          -0.025827110605775815,
          -0.012946928108087504,
          0.006952108153214422,
          -0.0049263935164680535,
          9.420365376754114e-05,
          -0.0015408105517999843,
          0.005665317843368864,
          0.01189209214494175,
          0.0011288760550414376,
          0.007328339020204713,
          -0.019783402847367296,
          0.014139722550590006,
          -0.0012976253699570166,
          0.0011971383368971668,
          0.00829530156691112,
          -0.012982028777980877,
          -0.0053914313174596405,
          -0.015998715770875176,
          -0.01659909373824567,
          -0.01350703210482183,
          -0.010953646358232826,
          -0.0026292473974456783,
          0.005842023252695817,
          0.0006407244933427855,
          -0.01256045835629042,
          -0.03980267852359841,
          0.003056245883461161,
          0.01453730915188768,
          0.020667113360624025,
          0.02130467681515959,
          0.011802734650175057,
          0.0270904605769014,
          -0.012520632046671237,
          0.006624584862060474,
          -0.00036399780519762864,
          0.00021235217358721997,
          -0.0009207940917818451,
          -0.00872506371139829,
          0.003729304068652548,
          0.004086558494895531,
          -0.021667985578460666,
          -0.0023788476261543436,
          -0.011891847833243676,
          -0.00788890338529626,
          0.02531907055985442,
          -0.01958469660026738,
          0.006988993493128395,
          0.01891015717692715,
          0.035752676326825675,
          -0.02711036872684144,
          -0.016077064998389203,
          -0.0040112552513760814,
          -0.005916538488882,
          0.010091426222525457,
          -0.027682743267161667,
          -0.016784255945730856,
          0.006469849304119247,
          -0.007400584694806863,
          -0.008734579526009086,
          -0.017353279032772093,
          -0.0187513034722001,
          -0.0008343545033853463,
          -0.009733152561353094,
          -0.03579440517533057,
          -0.0032001726455948704,
          -0.00837224126493025,
          0.008439070699415817,
          -0.033479859199438494,
          -0.042944762548779755,
          0.02725649708128143,
          -0.0075015401324790044,
          -0.011628407943555647,
          0.014664124663732073,
          0.023901170577637243,
          -0.0598005065434266,
          0.015260094201870154,
          0.01965852555292798,
          0.00044730975960354316,
          -0.036142070533505044
         ],
         "yaxis": "y"
        }
       ],
       "layout": {
        "legend": {
         "title": {
          "text": "variable"
         },
         "tracegroupgap": 0
        },
        "margin": {
         "t": 60
        },
        "template": {
         "data": {
          "bar": [
           {
            "error_x": {
             "color": "#2a3f5f"
            },
            "error_y": {
             "color": "#2a3f5f"
            },
            "marker": {
             "line": {
              "color": "#E5ECF6",
              "width": 0.5
             }
            },
            "type": "bar"
           }
          ],
          "barpolar": [
           {
            "marker": {
             "line": {
              "color": "#E5ECF6",
              "width": 0.5
             }
            },
            "type": "barpolar"
           }
          ],
          "carpet": [
           {
            "aaxis": {
             "endlinecolor": "#2a3f5f",
             "gridcolor": "white",
             "linecolor": "white",
             "minorgridcolor": "white",
             "startlinecolor": "#2a3f5f"
            },
            "baxis": {
             "endlinecolor": "#2a3f5f",
             "gridcolor": "white",
             "linecolor": "white",
             "minorgridcolor": "white",
             "startlinecolor": "#2a3f5f"
            },
            "type": "carpet"
           }
          ],
          "choropleth": [
           {
            "colorbar": {
             "outlinewidth": 0,
             "ticks": ""
            },
            "type": "choropleth"
           }
          ],
          "contour": [
           {
            "colorbar": {
             "outlinewidth": 0,
             "ticks": ""
            },
            "colorscale": [
             [
              0,
              "#0d0887"
             ],
             [
              0.1111111111111111,
              "#46039f"
             ],
             [
              0.2222222222222222,
              "#7201a8"
             ],
             [
              0.3333333333333333,
              "#9c179e"
             ],
             [
              0.4444444444444444,
              "#bd3786"
             ],
             [
              0.5555555555555556,
              "#d8576b"
             ],
             [
              0.6666666666666666,
              "#ed7953"
             ],
             [
              0.7777777777777778,
              "#fb9f3a"
             ],
             [
              0.8888888888888888,
              "#fdca26"
             ],
             [
              1,
              "#f0f921"
             ]
            ],
            "type": "contour"
           }
          ],
          "contourcarpet": [
           {
            "colorbar": {
             "outlinewidth": 0,
             "ticks": ""
            },
            "type": "contourcarpet"
           }
          ],
          "heatmap": [
           {
            "colorbar": {
             "outlinewidth": 0,
             "ticks": ""
            },
            "colorscale": [
             [
              0,
              "#0d0887"
             ],
             [
              0.1111111111111111,
              "#46039f"
             ],
             [
              0.2222222222222222,
              "#7201a8"
             ],
             [
              0.3333333333333333,
              "#9c179e"
             ],
             [
              0.4444444444444444,
              "#bd3786"
             ],
             [
              0.5555555555555556,
              "#d8576b"
             ],
             [
              0.6666666666666666,
              "#ed7953"
             ],
             [
              0.7777777777777778,
              "#fb9f3a"
             ],
             [
              0.8888888888888888,
              "#fdca26"
             ],
             [
              1,
              "#f0f921"
             ]
            ],
            "type": "heatmap"
           }
          ],
          "heatmapgl": [
           {
            "colorbar": {
             "outlinewidth": 0,
             "ticks": ""
            },
            "colorscale": [
             [
              0,
              "#0d0887"
             ],
             [
              0.1111111111111111,
              "#46039f"
             ],
             [
              0.2222222222222222,
              "#7201a8"
             ],
             [
              0.3333333333333333,
              "#9c179e"
             ],
             [
              0.4444444444444444,
              "#bd3786"
             ],
             [
              0.5555555555555556,
              "#d8576b"
             ],
             [
              0.6666666666666666,
              "#ed7953"
             ],
             [
              0.7777777777777778,
              "#fb9f3a"
             ],
             [
              0.8888888888888888,
              "#fdca26"
             ],
             [
              1,
              "#f0f921"
             ]
            ],
            "type": "heatmapgl"
           }
          ],
          "histogram": [
           {
            "marker": {
             "colorbar": {
              "outlinewidth": 0,
              "ticks": ""
             }
            },
            "type": "histogram"
           }
          ],
          "histogram2d": [
           {
            "colorbar": {
             "outlinewidth": 0,
             "ticks": ""
            },
            "colorscale": [
             [
              0,
              "#0d0887"
             ],
             [
              0.1111111111111111,
              "#46039f"
             ],
             [
              0.2222222222222222,
              "#7201a8"
             ],
             [
              0.3333333333333333,
              "#9c179e"
             ],
             [
              0.4444444444444444,
              "#bd3786"
             ],
             [
              0.5555555555555556,
              "#d8576b"
             ],
             [
              0.6666666666666666,
              "#ed7953"
             ],
             [
              0.7777777777777778,
              "#fb9f3a"
             ],
             [
              0.8888888888888888,
              "#fdca26"
             ],
             [
              1,
              "#f0f921"
             ]
            ],
            "type": "histogram2d"
           }
          ],
          "histogram2dcontour": [
           {
            "colorbar": {
             "outlinewidth": 0,
             "ticks": ""
            },
            "colorscale": [
             [
              0,
              "#0d0887"
             ],
             [
              0.1111111111111111,
              "#46039f"
             ],
             [
              0.2222222222222222,
              "#7201a8"
             ],
             [
              0.3333333333333333,
              "#9c179e"
             ],
             [
              0.4444444444444444,
              "#bd3786"
             ],
             [
              0.5555555555555556,
              "#d8576b"
             ],
             [
              0.6666666666666666,
              "#ed7953"
             ],
             [
              0.7777777777777778,
              "#fb9f3a"
             ],
             [
              0.8888888888888888,
              "#fdca26"
             ],
             [
              1,
              "#f0f921"
             ]
            ],
            "type": "histogram2dcontour"
           }
          ],
          "mesh3d": [
           {
            "colorbar": {
             "outlinewidth": 0,
             "ticks": ""
            },
            "type": "mesh3d"
           }
          ],
          "parcoords": [
           {
            "line": {
             "colorbar": {
              "outlinewidth": 0,
              "ticks": ""
             }
            },
            "type": "parcoords"
           }
          ],
          "pie": [
           {
            "automargin": true,
            "type": "pie"
           }
          ],
          "scatter": [
           {
            "marker": {
             "colorbar": {
              "outlinewidth": 0,
              "ticks": ""
             }
            },
            "type": "scatter"
           }
          ],
          "scatter3d": [
           {
            "line": {
             "colorbar": {
              "outlinewidth": 0,
              "ticks": ""
             }
            },
            "marker": {
             "colorbar": {
              "outlinewidth": 0,
              "ticks": ""
             }
            },
            "type": "scatter3d"
           }
          ],
          "scattercarpet": [
           {
            "marker": {
             "colorbar": {
              "outlinewidth": 0,
              "ticks": ""
             }
            },
            "type": "scattercarpet"
           }
          ],
          "scattergeo": [
           {
            "marker": {
             "colorbar": {
              "outlinewidth": 0,
              "ticks": ""
             }
            },
            "type": "scattergeo"
           }
          ],
          "scattergl": [
           {
            "marker": {
             "colorbar": {
              "outlinewidth": 0,
              "ticks": ""
             }
            },
            "type": "scattergl"
           }
          ],
          "scattermapbox": [
           {
            "marker": {
             "colorbar": {
              "outlinewidth": 0,
              "ticks": ""
             }
            },
            "type": "scattermapbox"
           }
          ],
          "scatterpolar": [
           {
            "marker": {
             "colorbar": {
              "outlinewidth": 0,
              "ticks": ""
             }
            },
            "type": "scatterpolar"
           }
          ],
          "scatterpolargl": [
           {
            "marker": {
             "colorbar": {
              "outlinewidth": 0,
              "ticks": ""
             }
            },
            "type": "scatterpolargl"
           }
          ],
          "scatterternary": [
           {
            "marker": {
             "colorbar": {
              "outlinewidth": 0,
              "ticks": ""
             }
            },
            "type": "scatterternary"
           }
          ],
          "surface": [
           {
            "colorbar": {
             "outlinewidth": 0,
             "ticks": ""
            },
            "colorscale": [
             [
              0,
              "#0d0887"
             ],
             [
              0.1111111111111111,
              "#46039f"
             ],
             [
              0.2222222222222222,
              "#7201a8"
             ],
             [
              0.3333333333333333,
              "#9c179e"
             ],
             [
              0.4444444444444444,
              "#bd3786"
             ],
             [
              0.5555555555555556,
              "#d8576b"
             ],
             [
              0.6666666666666666,
              "#ed7953"
             ],
             [
              0.7777777777777778,
              "#fb9f3a"
             ],
             [
              0.8888888888888888,
              "#fdca26"
             ],
             [
              1,
              "#f0f921"
             ]
            ],
            "type": "surface"
           }
          ],
          "table": [
           {
            "cells": {
             "fill": {
              "color": "#EBF0F8"
             },
             "line": {
              "color": "white"
             }
            },
            "header": {
             "fill": {
              "color": "#C8D4E3"
             },
             "line": {
              "color": "white"
             }
            },
            "type": "table"
           }
          ]
         },
         "layout": {
          "annotationdefaults": {
           "arrowcolor": "#2a3f5f",
           "arrowhead": 0,
           "arrowwidth": 1
          },
          "coloraxis": {
           "colorbar": {
            "outlinewidth": 0,
            "ticks": ""
           }
          },
          "colorscale": {
           "diverging": [
            [
             0,
             "#8e0152"
            ],
            [
             0.1,
             "#c51b7d"
            ],
            [
             0.2,
             "#de77ae"
            ],
            [
             0.3,
             "#f1b6da"
            ],
            [
             0.4,
             "#fde0ef"
            ],
            [
             0.5,
             "#f7f7f7"
            ],
            [
             0.6,
             "#e6f5d0"
            ],
            [
             0.7,
             "#b8e186"
            ],
            [
             0.8,
             "#7fbc41"
            ],
            [
             0.9,
             "#4d9221"
            ],
            [
             1,
             "#276419"
            ]
           ],
           "sequential": [
            [
             0,
             "#0d0887"
            ],
            [
             0.1111111111111111,
             "#46039f"
            ],
            [
             0.2222222222222222,
             "#7201a8"
            ],
            [
             0.3333333333333333,
             "#9c179e"
            ],
            [
             0.4444444444444444,
             "#bd3786"
            ],
            [
             0.5555555555555556,
             "#d8576b"
            ],
            [
             0.6666666666666666,
             "#ed7953"
            ],
            [
             0.7777777777777778,
             "#fb9f3a"
            ],
            [
             0.8888888888888888,
             "#fdca26"
            ],
            [
             1,
             "#f0f921"
            ]
           ],
           "sequentialminus": [
            [
             0,
             "#0d0887"
            ],
            [
             0.1111111111111111,
             "#46039f"
            ],
            [
             0.2222222222222222,
             "#7201a8"
            ],
            [
             0.3333333333333333,
             "#9c179e"
            ],
            [
             0.4444444444444444,
             "#bd3786"
            ],
            [
             0.5555555555555556,
             "#d8576b"
            ],
            [
             0.6666666666666666,
             "#ed7953"
            ],
            [
             0.7777777777777778,
             "#fb9f3a"
            ],
            [
             0.8888888888888888,
             "#fdca26"
            ],
            [
             1,
             "#f0f921"
            ]
           ]
          },
          "colorway": [
           "#636efa",
           "#EF553B",
           "#00cc96",
           "#ab63fa",
           "#FFA15A",
           "#19d3f3",
           "#FF6692",
           "#B6E880",
           "#FF97FF",
           "#FECB52"
          ],
          "font": {
           "color": "#2a3f5f"
          },
          "geo": {
           "bgcolor": "white",
           "lakecolor": "white",
           "landcolor": "#E5ECF6",
           "showlakes": true,
           "showland": true,
           "subunitcolor": "white"
          },
          "hoverlabel": {
           "align": "left"
          },
          "hovermode": "closest",
          "mapbox": {
           "style": "light"
          },
          "paper_bgcolor": "white",
          "plot_bgcolor": "#E5ECF6",
          "polar": {
           "angularaxis": {
            "gridcolor": "white",
            "linecolor": "white",
            "ticks": ""
           },
           "bgcolor": "#E5ECF6",
           "radialaxis": {
            "gridcolor": "white",
            "linecolor": "white",
            "ticks": ""
           }
          },
          "scene": {
           "xaxis": {
            "backgroundcolor": "#E5ECF6",
            "gridcolor": "white",
            "gridwidth": 2,
            "linecolor": "white",
            "showbackground": true,
            "ticks": "",
            "zerolinecolor": "white"
           },
           "yaxis": {
            "backgroundcolor": "#E5ECF6",
            "gridcolor": "white",
            "gridwidth": 2,
            "linecolor": "white",
            "showbackground": true,
            "ticks": "",
            "zerolinecolor": "white"
           },
           "zaxis": {
            "backgroundcolor": "#E5ECF6",
            "gridcolor": "white",
            "gridwidth": 2,
            "linecolor": "white",
            "showbackground": true,
            "ticks": "",
            "zerolinecolor": "white"
           }
          },
          "shapedefaults": {
           "line": {
            "color": "#2a3f5f"
           }
          },
          "ternary": {
           "aaxis": {
            "gridcolor": "white",
            "linecolor": "white",
            "ticks": ""
           },
           "baxis": {
            "gridcolor": "white",
            "linecolor": "white",
            "ticks": ""
           },
           "bgcolor": "#E5ECF6",
           "caxis": {
            "gridcolor": "white",
            "linecolor": "white",
            "ticks": ""
           }
          },
          "title": {
           "x": 0.05
          },
          "xaxis": {
           "automargin": true,
           "gridcolor": "white",
           "linecolor": "white",
           "ticks": "",
           "title": {
            "standoff": 15
           },
           "zerolinecolor": "white",
           "zerolinewidth": 2
          },
          "yaxis": {
           "automargin": true,
           "gridcolor": "white",
           "linecolor": "white",
           "ticks": "",
           "title": {
            "standoff": 15
           },
           "zerolinecolor": "white",
           "zerolinewidth": 2
          }
         }
        },
        "xaxis": {
         "anchor": "y",
         "domain": [
          0,
          1
         ],
         "title": {
          "text": "Date"
         }
        },
        "yaxis": {
         "anchor": "x",
         "domain": [
          0,
          1
         ],
         "title": {
          "text": "value"
         }
        }
       }
      },
      "text/html": [
       "<div>                            <div id=\"7ed0ebb8-83e7-42fa-91b7-994470801bc3\" class=\"plotly-graph-div\" style=\"height:525px; width:100%;\"></div>            <script type=\"text/javascript\">                require([\"plotly\"], function(Plotly) {                    window.PLOTLYENV=window.PLOTLYENV || {};                                    if (document.getElementById(\"7ed0ebb8-83e7-42fa-91b7-994470801bc3\")) {                    Plotly.newPlot(                        \"7ed0ebb8-83e7-42fa-91b7-994470801bc3\",                        [{\"hovertemplate\": \"variable=actual<br>Date=%{x}<br>value=%{y}<extra></extra>\", \"legendgroup\": \"actual\", \"line\": {\"color\": \"#636efa\", \"dash\": \"solid\"}, \"mode\": \"lines\", \"name\": \"actual\", \"orientation\": \"v\", \"showlegend\": true, \"type\": \"scatter\", \"x\": [\"2014-06-02T00:00:00\", \"2014-06-03T00:00:00\", \"2014-06-04T00:00:00\", \"2014-06-05T00:00:00\", \"2014-06-10T00:00:00\", \"2014-06-11T00:00:00\", \"2014-06-12T00:00:00\", \"2014-06-13T00:00:00\", \"2014-06-16T00:00:00\", \"2014-06-17T00:00:00\", \"2014-06-18T00:00:00\", \"2014-06-19T00:00:00\", \"2014-06-23T00:00:00\", \"2014-06-24T00:00:00\", \"2014-06-25T00:00:00\", \"2014-06-26T00:00:00\", \"2014-06-30T00:00:00\", \"2014-07-02T00:00:00\", \"2014-07-07T00:00:00\", \"2014-07-08T00:00:00\", \"2014-07-09T00:00:00\", \"2014-07-10T00:00:00\", \"2014-07-11T00:00:00\", \"2014-07-14T00:00:00\", \"2014-07-15T00:00:00\", \"2014-07-21T00:00:00\", \"2014-07-22T00:00:00\", \"2014-07-23T00:00:00\", \"2014-07-28T00:00:00\", \"2014-07-29T00:00:00\", \"2014-08-01T00:00:00\", \"2014-08-05T00:00:00\", \"2014-08-06T00:00:00\", \"2014-08-07T00:00:00\", \"2014-08-08T00:00:00\", \"2014-08-11T00:00:00\", \"2014-08-12T00:00:00\", \"2014-08-13T00:00:00\", \"2014-08-14T00:00:00\", \"2014-08-15T00:00:00\", \"2014-08-18T00:00:00\", \"2014-08-19T00:00:00\", \"2014-08-20T00:00:00\", \"2014-08-21T00:00:00\", \"2014-08-22T00:00:00\", \"2014-08-25T00:00:00\", \"2014-08-26T00:00:00\", \"2014-08-27T00:00:00\", \"2014-08-28T00:00:00\", \"2014-08-29T00:00:00\", \"2014-09-02T00:00:00\", \"2014-09-04T00:00:00\", \"2014-09-05T00:00:00\", \"2014-09-09T00:00:00\", \"2014-09-10T00:00:00\", \"2014-09-11T00:00:00\", \"2014-09-12T00:00:00\", \"2014-09-15T00:00:00\", \"2014-09-16T00:00:00\", \"2014-09-17T00:00:00\", \"2014-09-18T00:00:00\", \"2014-09-19T00:00:00\", \"2014-09-22T00:00:00\", \"2014-09-25T00:00:00\", \"2014-09-26T00:00:00\", \"2014-09-29T00:00:00\", \"2014-10-08T00:00:00\", \"2014-10-09T00:00:00\", \"2014-10-10T00:00:00\", \"2014-10-15T00:00:00\", \"2014-10-17T00:00:00\", \"2014-10-20T00:00:00\", \"2014-10-21T00:00:00\", \"2014-10-22T00:00:00\", \"2014-10-23T00:00:00\", \"2014-10-24T00:00:00\", \"2014-10-27T00:00:00\", \"2014-10-29T00:00:00\", \"2014-10-30T00:00:00\", \"2014-11-03T00:00:00\", \"2014-11-05T00:00:00\", \"2014-11-06T00:00:00\", \"2014-11-11T00:00:00\", \"2014-11-12T00:00:00\", \"2014-11-18T00:00:00\", \"2014-11-20T00:00:00\", \"2014-11-21T00:00:00\", \"2014-12-04T00:00:00\", \"2014-12-05T00:00:00\", \"2014-12-08T00:00:00\", \"2014-12-09T00:00:00\", \"2014-12-10T00:00:00\", \"2014-12-11T00:00:00\", \"2014-12-12T00:00:00\", \"2014-12-15T00:00:00\", \"2014-12-17T00:00:00\", \"2014-12-18T00:00:00\", \"2014-12-29T00:00:00\", \"2014-12-30T00:00:00\", \"2015-01-02T00:00:00\", \"2015-01-05T00:00:00\", \"2015-01-08T00:00:00\", \"2015-01-09T00:00:00\", \"2015-01-12T00:00:00\", \"2015-01-14T00:00:00\", \"2015-01-15T00:00:00\", \"2015-01-16T00:00:00\", \"2015-01-21T00:00:00\", \"2015-01-30T00:00:00\", \"2015-02-02T00:00:00\", \"2015-02-03T00:00:00\", \"2015-02-05T00:00:00\", \"2015-02-06T00:00:00\", \"2015-02-17T00:00:00\", \"2015-02-18T00:00:00\", \"2015-02-20T00:00:00\", \"2015-02-25T00:00:00\", \"2015-02-26T00:00:00\", \"2015-02-27T00:00:00\", \"2015-03-02T00:00:00\", \"2015-03-06T00:00:00\", \"2015-03-11T00:00:00\", \"2015-03-12T00:00:00\", \"2015-03-24T00:00:00\", \"2015-03-25T00:00:00\", \"2015-03-30T00:00:00\", \"2015-03-31T00:00:00\", \"2015-04-01T00:00:00\", \"2015-04-07T00:00:00\", \"2015-04-08T00:00:00\", \"2015-04-09T00:00:00\", \"2015-04-10T00:00:00\", \"2015-04-13T00:00:00\", \"2015-04-16T00:00:00\", \"2015-04-24T00:00:00\", \"2015-04-27T00:00:00\", \"2015-04-28T00:00:00\", \"2015-04-30T00:00:00\", \"2015-05-01T00:00:00\", \"2015-05-04T00:00:00\", \"2015-05-05T00:00:00\", \"2015-05-06T00:00:00\", \"2015-05-07T00:00:00\", \"2015-05-14T00:00:00\", \"2015-05-20T00:00:00\", \"2015-05-22T00:00:00\", \"2015-06-02T00:00:00\", \"2015-06-05T00:00:00\", \"2015-06-10T00:00:00\", \"2015-06-11T00:00:00\", \"2015-06-12T00:00:00\", \"2015-06-15T00:00:00\", \"2015-06-16T00:00:00\", \"2015-06-17T00:00:00\", \"2015-06-19T00:00:00\", \"2015-06-22T00:00:00\", \"2015-06-23T00:00:00\", \"2015-06-25T00:00:00\", \"2015-06-26T00:00:00\", \"2015-06-29T00:00:00\", \"2015-06-30T00:00:00\", \"2015-07-06T00:00:00\", \"2015-07-07T00:00:00\", \"2015-07-08T00:00:00\", \"2015-08-06T00:00:00\", \"2015-08-17T00:00:00\", \"2015-08-19T00:00:00\", \"2015-08-21T00:00:00\", \"2015-08-25T00:00:00\", \"2015-08-26T00:00:00\", \"2015-08-27T00:00:00\", \"2015-08-28T00:00:00\", \"2015-09-01T00:00:00\", \"2015-09-02T00:00:00\", \"2015-09-03T00:00:00\", \"2015-09-04T00:00:00\", \"2015-09-08T00:00:00\", \"2015-09-09T00:00:00\", \"2015-09-11T00:00:00\", \"2015-09-14T00:00:00\", \"2015-09-15T00:00:00\", \"2015-09-16T00:00:00\", \"2015-09-17T00:00:00\", \"2015-09-18T00:00:00\", \"2015-09-23T00:00:00\", \"2015-09-24T00:00:00\", \"2015-09-25T00:00:00\", \"2015-09-30T00:00:00\", \"2015-10-05T00:00:00\", \"2015-10-07T00:00:00\", \"2015-10-20T00:00:00\", \"2015-10-21T00:00:00\", \"2015-10-22T00:00:00\", \"2015-10-23T00:00:00\", \"2015-10-26T00:00:00\", \"2015-10-27T00:00:00\", \"2015-10-29T00:00:00\", \"2015-11-03T00:00:00\", \"2015-11-04T00:00:00\", \"2015-11-05T00:00:00\", \"2015-11-06T00:00:00\", \"2015-11-11T00:00:00\", \"2015-11-17T00:00:00\", \"2015-11-18T00:00:00\", \"2015-11-27T00:00:00\", \"2015-12-02T00:00:00\", \"2015-12-09T00:00:00\", \"2015-12-10T00:00:00\", \"2015-12-11T00:00:00\", \"2015-12-15T00:00:00\", \"2015-12-16T00:00:00\", \"2015-12-17T00:00:00\", \"2015-12-18T00:00:00\", \"2015-12-21T00:00:00\", \"2015-12-23T00:00:00\", \"2015-12-29T00:00:00\"], \"xaxis\": \"x\", \"y\": [-0.014772739957186531, 0.005767034636086965, -0.0022936304072485036, 0.00919539373102718, 0.017221540513584932, 0.007900750701020698, 0.016797269138203008, 0.015418540143072201, -0.0037960787850810362, 0.009254222565459491, 0.018338631523718396, 0.032839028961494154, 0.01935140772198829, -0.023088705021826805, 0.0015755660637815083, 0.008390133716443371, 0.016649407575707098, 0.0015352496361982215, 0.012960082329429357, 0.02098259100317157, 0.009523740322954666, -0.018867883430121357, 0.048076864604600145, -0.022694318403271962, -0.026185804972280735, -0.005334655958998069, -0.014627066848430514, -0.00395843282187569, -0.0009901216340727492, -0.0004955514732708499, 0.009644599967042478, -0.005530352256329252, 0.013650077909113989, 0.006483844042993292, 0.016352820550821212, -0.0029253761712734194, 0.023960868109411892, -0.005730698957634894, 0.0004803183971382463, -0.009121485105786475, 0.0009690144551894875, -0.0029041368047201255, -0.002912595380160976, -0.017526805954493296, -0.010406391905129375, -0.01101649078211897, 0.010126620908326833, -0.014536386187316341, 0.00457783078771179, 0.012151887145223528, -0.023511721797693785, -0.04242109146718531, 0.007023185259812159, 0.00816546606845625, -0.010799176997623228, 0.01692136851017323, -0.01610301935452163, -0.007637719052435821, -0.000549765178022521, -0.015951645250785962, -0.020681886221799117, -0.023972606468045443, -0.005847975394087768, 0.01063203201010876, -0.005260090553909191, -0.01821394623697603, 0.04593174670459832, -0.021957304705712777, -0.03078899879490804, -0.01359223564656864, -0.024516136415543066, 0.020502673410254246, -0.00907325603070741, -0.014388506708808757, 0.003981447964946261, 0.0033047052449881598, -0.014492770922659104, -0.050331139714041684, -0.04114366431728489, 0.011958134980837754, -0.04287905066033182, 0.03760002136230467, 0.024031040990993402, 0.0030280061875487263, 0.06894102971342875, 0.031227791030398633, -0.006194091826695947, -0.03138377458568231, -0.027245941652266792, 0.004542045378004067, 0.039186095414573074, -0.0065264795385682195, -0.0043795231224605935, -0.02639300595969518, -0.08057226779663673, 0.04658897209780721, 0.021462675628071803, 0.013311134885087839, 0.03448276402057804, 0.02715648454331654, -0.0038879656606044533, -0.027376400541483936, 0.019546520777610654, 0.04141104014054697, -0.027429496488370897, 0.09750201877716358, 0.03450809625388751, 0.03359678952270051, 0.0490639277024969, -0.0024615948016827316, -0.031462017520780816, 0.0012330738970627309, -0.049261096182871555, -0.01653439165953774, 0.022864838951214717, 0.008733586004464167, 0.011464987730098963, 0.005667515865194872, 0.018159045523108208, -0.015375153535111097, -0.06369004218709651, 0.02649004066484073, -0.03225805128443526, -0.0035038674934071423, -0.00281293678634964, -0.005629832758007991, -0.019815975279790066, 0.09602887271292038, -0.017789055720634273, -0.00258731964775738, 0.01361867944928341, 0.020473428821575324, -0.022570511660327863, -0.024699198496830443, -0.00651892962679379, 0.018372748743483935, 0.03028346001880311, -0.03329217207389834, 0.014030568180656955, 0.0012578904555671233, -0.0069095261400811125, -0.037950687257747306, 0.012491754103009844, -0.001893922517815727, -0.007863688319739603, -0.0052666179009884795, 0.004048611393538293, -0.02665757623185483, 0.0007022632754614122, -0.026666674697608306, -0.0007209970414093769, 0.020923518689505594, -0.02685506508911628, 0.026143765047899725, -0.016072710633561638, -0.02272725117600638, 0.000726760807812088, -0.01452438317289162, -0.010316830714582448, -0.0037230223081673453, -0.0022421324898803663, 0.02539202316623701, -0.04588486393088309, 0.0015266796570208019, 0.03690884567569741, 0.022840169104360486, 0.03711132152951757, -0.023212626682832194, -0.018808710265561968, -0.07135250817859484, 0.037844026789060736, 0.04309385430154, -0.028415222518805128, -0.0011248850951223188, -0.039414456864763525, -0.003516967633097612, 0.01176475076114425, -0.036046558821631214, 0.025547449066309902, -0.020166081867110996, 0.003631928830497344, 0.0651387170492006, 0.01812002817605407, -0.006674023077858249, -0.02348579154966768, 0.1037974888306934, 0.0034403362445554198, 0.01798556544195362, 0.033448668892860134, -0.006309192236870653, 0.04374367329737128, -0.040935679037476747, 0.013211393539128036, 0.024072193048163992, -0.03232124607963727, 0.01417007507096324, 0.015763626315248525, 0.0058996524574508324, -0.028347993629492585, -0.024144847208223852, -0.032989659908917224, 0.010460190732859864, -0.08652901748665465, 0.03659850957847288, -0.04343427960306334, -0.025590574093174, 0.02541546828114516, -0.0028598411464020312, 0.017208442114658773, 0.008256024854978117, 0.07778907263034873, -0.07977209628578708, 0.041279730601264664, 0.03468775247794631, 0.023076993614966845, -0.03317977858935317], \"yaxis\": \"y\"}, {\"hovertemplate\": \"variable=predicted<br>Date=%{x}<br>value=%{y}<extra></extra>\", \"legendgroup\": \"predicted\", \"line\": {\"color\": \"#EF553B\", \"dash\": \"solid\"}, \"mode\": \"lines\", \"name\": \"predicted\", \"orientation\": \"v\", \"showlegend\": true, \"type\": \"scatter\", \"x\": [\"2014-06-02T00:00:00\", \"2014-06-03T00:00:00\", \"2014-06-04T00:00:00\", \"2014-06-05T00:00:00\", \"2014-06-10T00:00:00\", \"2014-06-11T00:00:00\", \"2014-06-12T00:00:00\", \"2014-06-13T00:00:00\", \"2014-06-16T00:00:00\", \"2014-06-17T00:00:00\", \"2014-06-18T00:00:00\", \"2014-06-19T00:00:00\", \"2014-06-23T00:00:00\", \"2014-06-24T00:00:00\", \"2014-06-25T00:00:00\", \"2014-06-26T00:00:00\", \"2014-06-30T00:00:00\", \"2014-07-02T00:00:00\", \"2014-07-07T00:00:00\", \"2014-07-08T00:00:00\", \"2014-07-09T00:00:00\", \"2014-07-10T00:00:00\", \"2014-07-11T00:00:00\", \"2014-07-14T00:00:00\", \"2014-07-15T00:00:00\", \"2014-07-21T00:00:00\", \"2014-07-22T00:00:00\", \"2014-07-23T00:00:00\", \"2014-07-28T00:00:00\", \"2014-07-29T00:00:00\", \"2014-08-01T00:00:00\", \"2014-08-05T00:00:00\", \"2014-08-06T00:00:00\", \"2014-08-07T00:00:00\", \"2014-08-08T00:00:00\", \"2014-08-11T00:00:00\", \"2014-08-12T00:00:00\", \"2014-08-13T00:00:00\", \"2014-08-14T00:00:00\", \"2014-08-15T00:00:00\", \"2014-08-18T00:00:00\", \"2014-08-19T00:00:00\", \"2014-08-20T00:00:00\", \"2014-08-21T00:00:00\", \"2014-08-22T00:00:00\", \"2014-08-25T00:00:00\", \"2014-08-26T00:00:00\", \"2014-08-27T00:00:00\", \"2014-08-28T00:00:00\", \"2014-08-29T00:00:00\", \"2014-09-02T00:00:00\", \"2014-09-04T00:00:00\", \"2014-09-05T00:00:00\", \"2014-09-09T00:00:00\", \"2014-09-10T00:00:00\", \"2014-09-11T00:00:00\", \"2014-09-12T00:00:00\", \"2014-09-15T00:00:00\", \"2014-09-16T00:00:00\", \"2014-09-17T00:00:00\", \"2014-09-18T00:00:00\", \"2014-09-19T00:00:00\", \"2014-09-22T00:00:00\", \"2014-09-25T00:00:00\", \"2014-09-26T00:00:00\", \"2014-09-29T00:00:00\", \"2014-10-08T00:00:00\", \"2014-10-09T00:00:00\", \"2014-10-10T00:00:00\", \"2014-10-15T00:00:00\", \"2014-10-17T00:00:00\", \"2014-10-20T00:00:00\", \"2014-10-21T00:00:00\", \"2014-10-22T00:00:00\", \"2014-10-23T00:00:00\", \"2014-10-24T00:00:00\", \"2014-10-27T00:00:00\", \"2014-10-29T00:00:00\", \"2014-10-30T00:00:00\", \"2014-11-03T00:00:00\", \"2014-11-05T00:00:00\", \"2014-11-06T00:00:00\", \"2014-11-11T00:00:00\", \"2014-11-12T00:00:00\", \"2014-11-18T00:00:00\", \"2014-11-20T00:00:00\", \"2014-11-21T00:00:00\", \"2014-12-04T00:00:00\", \"2014-12-05T00:00:00\", \"2014-12-08T00:00:00\", \"2014-12-09T00:00:00\", \"2014-12-10T00:00:00\", \"2014-12-11T00:00:00\", \"2014-12-12T00:00:00\", \"2014-12-15T00:00:00\", \"2014-12-17T00:00:00\", \"2014-12-18T00:00:00\", \"2014-12-29T00:00:00\", \"2014-12-30T00:00:00\", \"2015-01-02T00:00:00\", \"2015-01-05T00:00:00\", \"2015-01-08T00:00:00\", \"2015-01-09T00:00:00\", \"2015-01-12T00:00:00\", \"2015-01-14T00:00:00\", \"2015-01-15T00:00:00\", \"2015-01-16T00:00:00\", \"2015-01-21T00:00:00\", \"2015-01-30T00:00:00\", \"2015-02-02T00:00:00\", \"2015-02-03T00:00:00\", \"2015-02-05T00:00:00\", \"2015-02-06T00:00:00\", \"2015-02-17T00:00:00\", \"2015-02-18T00:00:00\", \"2015-02-20T00:00:00\", \"2015-02-25T00:00:00\", \"2015-02-26T00:00:00\", \"2015-02-27T00:00:00\", \"2015-03-02T00:00:00\", \"2015-03-06T00:00:00\", \"2015-03-11T00:00:00\", \"2015-03-12T00:00:00\", \"2015-03-24T00:00:00\", \"2015-03-25T00:00:00\", \"2015-03-30T00:00:00\", \"2015-03-31T00:00:00\", \"2015-04-01T00:00:00\", \"2015-04-07T00:00:00\", \"2015-04-08T00:00:00\", \"2015-04-09T00:00:00\", \"2015-04-10T00:00:00\", \"2015-04-13T00:00:00\", \"2015-04-16T00:00:00\", \"2015-04-24T00:00:00\", \"2015-04-27T00:00:00\", \"2015-04-28T00:00:00\", \"2015-04-30T00:00:00\", \"2015-05-01T00:00:00\", \"2015-05-04T00:00:00\", \"2015-05-05T00:00:00\", \"2015-05-06T00:00:00\", \"2015-05-07T00:00:00\", \"2015-05-14T00:00:00\", \"2015-05-20T00:00:00\", \"2015-05-22T00:00:00\", \"2015-06-02T00:00:00\", \"2015-06-05T00:00:00\", \"2015-06-10T00:00:00\", \"2015-06-11T00:00:00\", \"2015-06-12T00:00:00\", \"2015-06-15T00:00:00\", \"2015-06-16T00:00:00\", \"2015-06-17T00:00:00\", \"2015-06-19T00:00:00\", \"2015-06-22T00:00:00\", \"2015-06-23T00:00:00\", \"2015-06-25T00:00:00\", \"2015-06-26T00:00:00\", \"2015-06-29T00:00:00\", \"2015-06-30T00:00:00\", \"2015-07-06T00:00:00\", \"2015-07-07T00:00:00\", \"2015-07-08T00:00:00\", \"2015-08-06T00:00:00\", \"2015-08-17T00:00:00\", \"2015-08-19T00:00:00\", \"2015-08-21T00:00:00\", \"2015-08-25T00:00:00\", \"2015-08-26T00:00:00\", \"2015-08-27T00:00:00\", \"2015-08-28T00:00:00\", \"2015-09-01T00:00:00\", \"2015-09-02T00:00:00\", \"2015-09-03T00:00:00\", \"2015-09-04T00:00:00\", \"2015-09-08T00:00:00\", \"2015-09-09T00:00:00\", \"2015-09-11T00:00:00\", \"2015-09-14T00:00:00\", \"2015-09-15T00:00:00\", \"2015-09-16T00:00:00\", \"2015-09-17T00:00:00\", \"2015-09-18T00:00:00\", \"2015-09-23T00:00:00\", \"2015-09-24T00:00:00\", \"2015-09-25T00:00:00\", \"2015-09-30T00:00:00\", \"2015-10-05T00:00:00\", \"2015-10-07T00:00:00\", \"2015-10-20T00:00:00\", \"2015-10-21T00:00:00\", \"2015-10-22T00:00:00\", \"2015-10-23T00:00:00\", \"2015-10-26T00:00:00\", \"2015-10-27T00:00:00\", \"2015-10-29T00:00:00\", \"2015-11-03T00:00:00\", \"2015-11-04T00:00:00\", \"2015-11-05T00:00:00\", \"2015-11-06T00:00:00\", \"2015-11-11T00:00:00\", \"2015-11-17T00:00:00\", \"2015-11-18T00:00:00\", \"2015-11-27T00:00:00\", \"2015-12-02T00:00:00\", \"2015-12-09T00:00:00\", \"2015-12-10T00:00:00\", \"2015-12-11T00:00:00\", \"2015-12-15T00:00:00\", \"2015-12-16T00:00:00\", \"2015-12-17T00:00:00\", \"2015-12-18T00:00:00\", \"2015-12-21T00:00:00\", \"2015-12-23T00:00:00\", \"2015-12-29T00:00:00\"], \"xaxis\": \"x\", \"y\": [-0.007694700875257188, -0.0014582858930654655, 0.0006300562494160611, 0.00804162099190947, 0.009842524021978657, 0.003935309102021497, 0.011649202260087576, 0.003921383859904724, 0.0037845709363528747, -0.0073177394314260825, -0.005032112947729411, 0.011031926283465589, 0.0014157768843412535, -0.0021097035488314812, 0.006579924825859337, -0.005976366556679675, -0.006366779083003555, -0.017564702462460818, -0.0006729883035691935, 0.0015809637594467844, 0.000836525087172621, 0.012501371723350719, 0.014999578408087426, -0.037282193372905184, -0.005194064010960581, -0.0012060974648881867, -0.002639301391289574, -0.0018011547225013566, -0.012150210925357171, -0.002323909881995056, -7.141462362185089e-05, -0.012601398254797096, 0.014168511317365958, 0.0029539207064493665, 0.020737327397241268, 0.0010295181250308365, 0.003141551096512523, 0.001085856273549353, 0.0014126169538877763, -0.02158548830577978, -0.01038303141344889, -0.003755241045373555, -0.0019647383100500904, -0.023124018545912412, -0.012009063948766153, -0.0027395376525374757, 0.011268419281371015, -0.0017787117744396432, 0.008297138953366992, -0.004017933327018955, -0.01941369899829314, -0.0020166134107473567, 0.010176855595084158, 0.004949351316280069, -0.0018213046155531806, -0.003328943568368551, -0.00557381155085598, 0.006247372309376106, 0.0002518486922216505, -0.00688260892433341, -0.0010937311837072965, -0.013823238768927517, 0.0036896768921211368, 0.0031265213725444885, 0.00025844422686600865, 0.0017497195253586978, 0.02302681303703198, 0.008440453967912324, -0.002163772215557448, 0.001456995380611864, 0.004470799082239522, 0.006779501183869153, 0.005203159826506373, -0.005863448550542338, 0.0032079110444652482, 0.0005863455539628741, -0.007670547009213411, -0.008830589860311457, -0.0014028420563631273, -0.01175596379343061, -0.028808516386938144, 0.016285844235151496, 0.013537890349641202, 0.02071808693774235, 0.018778856758601203, 0.011191598591639726, 0.01964106656466388, -0.0010745052820981746, -0.011292481632197354, 0.0012533719777662357, 0.023089465845139642, -0.004413280832455839, 0.009818919650355862, 0.011260806723013075, -0.021872049368276563, 0.009863625229926239, -0.001538966650602186, 0.009142082881821757, 0.013611740748124228, -0.009786239641707935, -0.005044041042438729, -0.01311264625156099, 0.022797571130250705, 0.003916825317424662, 0.013551254705805508, 0.047659707354103485, 0.017117563263027005, 0.015190765866733923, 0.0022298338068302455, -0.0330743593200675, -0.02111209129729576, -0.019924374524680575, -0.048797260953742067, -0.04048732124704657, -0.0019149769088698011, -0.002000428308692119, 0.004786598488849499, 0.008805582724379667, 0.002084980392195332, 0.002388687509051083, -0.028333142311302167, -0.0020563591996290986, 0.00030796692065592976, -0.005362581214185921, 0.003835655652447638, -0.018133162484990275, -0.003595482012125728, 0.009774135146236228, -0.013191591387872393, -0.009218374663717676, -0.015529303679138944, 0.00853269806650105, -0.011285249015305674, -0.005343772014319185, -0.004014719505424064, 0.00559091559198472, -0.020136010789594042, -0.025827110605775815, -0.012946928108087504, 0.006952108153214422, -0.0049263935164680535, 9.420365376754114e-05, -0.0015408105517999843, 0.005665317843368864, 0.01189209214494175, 0.0011288760550414376, 0.007328339020204713, -0.019783402847367296, 0.014139722550590006, -0.0012976253699570166, 0.0011971383368971668, 0.00829530156691112, -0.012982028777980877, -0.0053914313174596405, -0.015998715770875176, -0.01659909373824567, -0.01350703210482183, -0.010953646358232826, -0.0026292473974456783, 0.005842023252695817, 0.0006407244933427855, -0.01256045835629042, -0.03980267852359841, 0.003056245883461161, 0.01453730915188768, 0.020667113360624025, 0.02130467681515959, 0.011802734650175057, 0.0270904605769014, -0.012520632046671237, 0.006624584862060474, -0.00036399780519762864, 0.00021235217358721997, -0.0009207940917818451, -0.00872506371139829, 0.003729304068652548, 0.004086558494895531, -0.021667985578460666, -0.0023788476261543436, -0.011891847833243676, -0.00788890338529626, 0.02531907055985442, -0.01958469660026738, 0.006988993493128395, 0.01891015717692715, 0.035752676326825675, -0.02711036872684144, -0.016077064998389203, -0.0040112552513760814, -0.005916538488882, 0.010091426222525457, -0.027682743267161667, -0.016784255945730856, 0.006469849304119247, -0.007400584694806863, -0.008734579526009086, -0.017353279032772093, -0.0187513034722001, -0.0008343545033853463, -0.009733152561353094, -0.03579440517533057, -0.0032001726455948704, -0.00837224126493025, 0.008439070699415817, -0.033479859199438494, -0.042944762548779755, 0.02725649708128143, -0.0075015401324790044, -0.011628407943555647, 0.014664124663732073, 0.023901170577637243, -0.0598005065434266, 0.015260094201870154, 0.01965852555292798, 0.00044730975960354316, -0.036142070533505044], \"yaxis\": \"y\"}],                        {\"legend\": {\"title\": {\"text\": \"variable\"}, \"tracegroupgap\": 0}, \"margin\": {\"t\": 60}, \"template\": {\"data\": {\"bar\": [{\"error_x\": {\"color\": \"#2a3f5f\"}, \"error_y\": {\"color\": \"#2a3f5f\"}, \"marker\": {\"line\": {\"color\": \"#E5ECF6\", \"width\": 0.5}}, \"type\": \"bar\"}], \"barpolar\": [{\"marker\": {\"line\": {\"color\": \"#E5ECF6\", \"width\": 0.5}}, \"type\": \"barpolar\"}], \"carpet\": [{\"aaxis\": {\"endlinecolor\": \"#2a3f5f\", \"gridcolor\": \"white\", \"linecolor\": \"white\", \"minorgridcolor\": \"white\", \"startlinecolor\": \"#2a3f5f\"}, \"baxis\": {\"endlinecolor\": \"#2a3f5f\", \"gridcolor\": \"white\", \"linecolor\": \"white\", \"minorgridcolor\": \"white\", \"startlinecolor\": \"#2a3f5f\"}, \"type\": \"carpet\"}], \"choropleth\": [{\"colorbar\": {\"outlinewidth\": 0, \"ticks\": \"\"}, \"type\": \"choropleth\"}], \"contour\": [{\"colorbar\": {\"outlinewidth\": 0, \"ticks\": \"\"}, \"colorscale\": [[0.0, \"#0d0887\"], [0.1111111111111111, \"#46039f\"], [0.2222222222222222, \"#7201a8\"], [0.3333333333333333, \"#9c179e\"], [0.4444444444444444, \"#bd3786\"], [0.5555555555555556, \"#d8576b\"], [0.6666666666666666, \"#ed7953\"], [0.7777777777777778, \"#fb9f3a\"], [0.8888888888888888, \"#fdca26\"], [1.0, \"#f0f921\"]], \"type\": \"contour\"}], \"contourcarpet\": [{\"colorbar\": {\"outlinewidth\": 0, \"ticks\": \"\"}, \"type\": \"contourcarpet\"}], \"heatmap\": [{\"colorbar\": {\"outlinewidth\": 0, \"ticks\": \"\"}, \"colorscale\": [[0.0, \"#0d0887\"], [0.1111111111111111, \"#46039f\"], [0.2222222222222222, \"#7201a8\"], [0.3333333333333333, \"#9c179e\"], [0.4444444444444444, \"#bd3786\"], [0.5555555555555556, \"#d8576b\"], [0.6666666666666666, \"#ed7953\"], [0.7777777777777778, \"#fb9f3a\"], [0.8888888888888888, \"#fdca26\"], [1.0, \"#f0f921\"]], \"type\": \"heatmap\"}], \"heatmapgl\": [{\"colorbar\": {\"outlinewidth\": 0, \"ticks\": \"\"}, \"colorscale\": [[0.0, \"#0d0887\"], [0.1111111111111111, \"#46039f\"], [0.2222222222222222, \"#7201a8\"], [0.3333333333333333, \"#9c179e\"], [0.4444444444444444, \"#bd3786\"], [0.5555555555555556, \"#d8576b\"], [0.6666666666666666, \"#ed7953\"], [0.7777777777777778, \"#fb9f3a\"], [0.8888888888888888, \"#fdca26\"], [1.0, \"#f0f921\"]], \"type\": \"heatmapgl\"}], \"histogram\": [{\"marker\": {\"colorbar\": {\"outlinewidth\": 0, \"ticks\": \"\"}}, \"type\": \"histogram\"}], \"histogram2d\": [{\"colorbar\": {\"outlinewidth\": 0, \"ticks\": \"\"}, \"colorscale\": [[0.0, \"#0d0887\"], [0.1111111111111111, \"#46039f\"], [0.2222222222222222, \"#7201a8\"], [0.3333333333333333, \"#9c179e\"], [0.4444444444444444, \"#bd3786\"], [0.5555555555555556, \"#d8576b\"], [0.6666666666666666, \"#ed7953\"], [0.7777777777777778, \"#fb9f3a\"], [0.8888888888888888, \"#fdca26\"], [1.0, \"#f0f921\"]], \"type\": \"histogram2d\"}], \"histogram2dcontour\": [{\"colorbar\": {\"outlinewidth\": 0, \"ticks\": \"\"}, \"colorscale\": [[0.0, \"#0d0887\"], [0.1111111111111111, \"#46039f\"], [0.2222222222222222, \"#7201a8\"], [0.3333333333333333, \"#9c179e\"], [0.4444444444444444, \"#bd3786\"], [0.5555555555555556, \"#d8576b\"], [0.6666666666666666, \"#ed7953\"], [0.7777777777777778, \"#fb9f3a\"], [0.8888888888888888, \"#fdca26\"], [1.0, \"#f0f921\"]], \"type\": \"histogram2dcontour\"}], \"mesh3d\": [{\"colorbar\": {\"outlinewidth\": 0, \"ticks\": \"\"}, \"type\": \"mesh3d\"}], \"parcoords\": [{\"line\": {\"colorbar\": {\"outlinewidth\": 0, \"ticks\": \"\"}}, \"type\": \"parcoords\"}], \"pie\": [{\"automargin\": true, \"type\": \"pie\"}], \"scatter\": [{\"marker\": {\"colorbar\": {\"outlinewidth\": 0, \"ticks\": \"\"}}, \"type\": \"scatter\"}], \"scatter3d\": [{\"line\": {\"colorbar\": {\"outlinewidth\": 0, \"ticks\": \"\"}}, \"marker\": {\"colorbar\": {\"outlinewidth\": 0, \"ticks\": \"\"}}, \"type\": \"scatter3d\"}], \"scattercarpet\": [{\"marker\": {\"colorbar\": {\"outlinewidth\": 0, \"ticks\": \"\"}}, \"type\": \"scattercarpet\"}], \"scattergeo\": [{\"marker\": {\"colorbar\": {\"outlinewidth\": 0, \"ticks\": \"\"}}, \"type\": \"scattergeo\"}], \"scattergl\": [{\"marker\": {\"colorbar\": {\"outlinewidth\": 0, \"ticks\": \"\"}}, \"type\": \"scattergl\"}], \"scattermapbox\": [{\"marker\": {\"colorbar\": {\"outlinewidth\": 0, \"ticks\": \"\"}}, \"type\": \"scattermapbox\"}], \"scatterpolar\": [{\"marker\": {\"colorbar\": {\"outlinewidth\": 0, \"ticks\": \"\"}}, \"type\": \"scatterpolar\"}], \"scatterpolargl\": [{\"marker\": {\"colorbar\": {\"outlinewidth\": 0, \"ticks\": \"\"}}, \"type\": \"scatterpolargl\"}], \"scatterternary\": [{\"marker\": {\"colorbar\": {\"outlinewidth\": 0, \"ticks\": \"\"}}, \"type\": \"scatterternary\"}], \"surface\": [{\"colorbar\": {\"outlinewidth\": 0, \"ticks\": \"\"}, \"colorscale\": [[0.0, \"#0d0887\"], [0.1111111111111111, \"#46039f\"], [0.2222222222222222, \"#7201a8\"], [0.3333333333333333, \"#9c179e\"], [0.4444444444444444, \"#bd3786\"], [0.5555555555555556, \"#d8576b\"], [0.6666666666666666, \"#ed7953\"], [0.7777777777777778, \"#fb9f3a\"], [0.8888888888888888, \"#fdca26\"], [1.0, \"#f0f921\"]], \"type\": \"surface\"}], \"table\": [{\"cells\": {\"fill\": {\"color\": \"#EBF0F8\"}, \"line\": {\"color\": \"white\"}}, \"header\": {\"fill\": {\"color\": \"#C8D4E3\"}, \"line\": {\"color\": \"white\"}}, \"type\": \"table\"}]}, \"layout\": {\"annotationdefaults\": {\"arrowcolor\": \"#2a3f5f\", \"arrowhead\": 0, \"arrowwidth\": 1}, \"coloraxis\": {\"colorbar\": {\"outlinewidth\": 0, \"ticks\": \"\"}}, \"colorscale\": {\"diverging\": [[0, \"#8e0152\"], [0.1, \"#c51b7d\"], [0.2, \"#de77ae\"], [0.3, \"#f1b6da\"], [0.4, \"#fde0ef\"], [0.5, \"#f7f7f7\"], [0.6, \"#e6f5d0\"], [0.7, \"#b8e186\"], [0.8, \"#7fbc41\"], [0.9, \"#4d9221\"], [1, \"#276419\"]], \"sequential\": [[0.0, \"#0d0887\"], [0.1111111111111111, \"#46039f\"], [0.2222222222222222, \"#7201a8\"], [0.3333333333333333, \"#9c179e\"], [0.4444444444444444, \"#bd3786\"], [0.5555555555555556, \"#d8576b\"], [0.6666666666666666, \"#ed7953\"], [0.7777777777777778, \"#fb9f3a\"], [0.8888888888888888, \"#fdca26\"], [1.0, \"#f0f921\"]], \"sequentialminus\": [[0.0, \"#0d0887\"], [0.1111111111111111, \"#46039f\"], [0.2222222222222222, \"#7201a8\"], [0.3333333333333333, \"#9c179e\"], [0.4444444444444444, \"#bd3786\"], [0.5555555555555556, \"#d8576b\"], [0.6666666666666666, \"#ed7953\"], [0.7777777777777778, \"#fb9f3a\"], [0.8888888888888888, \"#fdca26\"], [1.0, \"#f0f921\"]]}, \"colorway\": [\"#636efa\", \"#EF553B\", \"#00cc96\", \"#ab63fa\", \"#FFA15A\", \"#19d3f3\", \"#FF6692\", \"#B6E880\", \"#FF97FF\", \"#FECB52\"], \"font\": {\"color\": \"#2a3f5f\"}, \"geo\": {\"bgcolor\": \"white\", \"lakecolor\": \"white\", \"landcolor\": \"#E5ECF6\", \"showlakes\": true, \"showland\": true, \"subunitcolor\": \"white\"}, \"hoverlabel\": {\"align\": \"left\"}, \"hovermode\": \"closest\", \"mapbox\": {\"style\": \"light\"}, \"paper_bgcolor\": \"white\", \"plot_bgcolor\": \"#E5ECF6\", \"polar\": {\"angularaxis\": {\"gridcolor\": \"white\", \"linecolor\": \"white\", \"ticks\": \"\"}, \"bgcolor\": \"#E5ECF6\", \"radialaxis\": {\"gridcolor\": \"white\", \"linecolor\": \"white\", \"ticks\": \"\"}}, \"scene\": {\"xaxis\": {\"backgroundcolor\": \"#E5ECF6\", \"gridcolor\": \"white\", \"gridwidth\": 2, \"linecolor\": \"white\", \"showbackground\": true, \"ticks\": \"\", \"zerolinecolor\": \"white\"}, \"yaxis\": {\"backgroundcolor\": \"#E5ECF6\", \"gridcolor\": \"white\", \"gridwidth\": 2, \"linecolor\": \"white\", \"showbackground\": true, \"ticks\": \"\", \"zerolinecolor\": \"white\"}, \"zaxis\": {\"backgroundcolor\": \"#E5ECF6\", \"gridcolor\": \"white\", \"gridwidth\": 2, \"linecolor\": \"white\", \"showbackground\": true, \"ticks\": \"\", \"zerolinecolor\": \"white\"}}, \"shapedefaults\": {\"line\": {\"color\": \"#2a3f5f\"}}, \"ternary\": {\"aaxis\": {\"gridcolor\": \"white\", \"linecolor\": \"white\", \"ticks\": \"\"}, \"baxis\": {\"gridcolor\": \"white\", \"linecolor\": \"white\", \"ticks\": \"\"}, \"bgcolor\": \"#E5ECF6\", \"caxis\": {\"gridcolor\": \"white\", \"linecolor\": \"white\", \"ticks\": \"\"}}, \"title\": {\"x\": 0.05}, \"xaxis\": {\"automargin\": true, \"gridcolor\": \"white\", \"linecolor\": \"white\", \"ticks\": \"\", \"title\": {\"standoff\": 15}, \"zerolinecolor\": \"white\", \"zerolinewidth\": 2}, \"yaxis\": {\"automargin\": true, \"gridcolor\": \"white\", \"linecolor\": \"white\", \"ticks\": \"\", \"title\": {\"standoff\": 15}, \"zerolinecolor\": \"white\", \"zerolinewidth\": 2}}}, \"xaxis\": {\"anchor\": \"y\", \"domain\": [0.0, 1.0], \"title\": {\"text\": \"Date\"}}, \"yaxis\": {\"anchor\": \"x\", \"domain\": [0.0, 1.0], \"title\": {\"text\": \"value\"}}},                        {\"responsive\": true}                    ).then(function(){\n",
       "                            \n",
       "var gd = document.getElementById('7ed0ebb8-83e7-42fa-91b7-994470801bc3');\n",
       "var x = new MutationObserver(function (mutations, observer) {{\n",
       "        var display = window.getComputedStyle(gd).display;\n",
       "        if (!display || display === 'none') {{\n",
       "            console.log([gd, 'removed!']);\n",
       "            Plotly.purge(gd);\n",
       "            observer.disconnect();\n",
       "        }}\n",
       "}});\n",
       "\n",
       "// Listen for the removal of the full notebook cells\n",
       "var notebookContainer = gd.closest('#notebook-container');\n",
       "if (notebookContainer) {{\n",
       "    x.observe(notebookContainer, {childList: true});\n",
       "}}\n",
       "\n",
       "// Listen for the clearing of the current output cell\n",
       "var outputEl = gd.closest('.output');\n",
       "if (outputEl) {{\n",
       "    x.observe(outputEl, {childList: true});\n",
       "}}\n",
       "\n",
       "                        })                };                });            </script>        </div>"
      ]
     },
     "metadata": {},
     "output_type": "display_data"
    }
   ],
   "source": [
    "import plotly.express as px\n",
    "fig = px.line(results, x=results.index, y=['actual', 'predicted'])\n",
    "fig.show()"
   ]
  },
  {
   "cell_type": "code",
   "execution_count": 36,
   "metadata": {},
   "outputs": [
    {
     "data": {
      "text/plain": [
       "Index(['Open', 'change_d1', 'change_d2', 'change_d3', 'pct_change_l1',\n",
       "       'pct_change_l2', 'Volume_l1', 'Volume_l2', 'Open_gold',\n",
       "       'pct_change_l1_gold', 'pct_change_l2_gold', 'change_d1_gold',\n",
       "       'change_d2_gold', 'change_d3_gold', 'Close_l1_gold', 'Close_l2_gold',\n",
       "       'Open_silver', 'pct_change_l1_silver', 'pct_change_l2_silver',\n",
       "       'change_d1_silver', 'change_d2_silver', 'change_d3_silver',\n",
       "       'Close_l1_silver', 'Close_l2_silver', 'Open_usm', 'pct_change_l1_usm',\n",
       "       'pct_change_l2_usm', 'change_d1_usm', 'change_d2_usm', 'change_d3_usm',\n",
       "       'vol_usm', 'vol_w5_usm', 'Open_canm', 'pct_change_l1_canm',\n",
       "       'pct_change_l2_canm', 'change_d1_canm', 'change_d2_canm',\n",
       "       'change_d3_canm', 'vol_canm', 'vol_w5_canm', 'Open_cad',\n",
       "       'pct_change_l1_cad', 'pct_change_l2_cad', 'change_d1_cad',\n",
       "       'change_d2_cad', 'change_d3_cad', 'vol_cad', 'vol_w5_cad'],\n",
       "      dtype='object')"
      ]
     },
     "execution_count": 36,
     "metadata": {},
     "output_type": "execute_result"
    }
   ],
   "source": [
    "X_train.columns"
   ]
  },
  {
   "cell_type": "code",
   "execution_count": 79,
   "metadata": {},
   "outputs": [],
   "source": [
    "regr2 = linear_model.LinearRegression()\n",
    "y = c2_data.Close.pct_change(5).loc[c2_data_m.index].shift(-5)\n",
    "\n",
    "date = '2014-06-01'\n",
    "X_train = c2_data_m.loc[c2_data_m.index < date]\n",
    "y_train = y.loc[y.index < date]\n",
    "\n",
    "X_test = c2_data_m.loc[c2_data_m.index >= date]\n",
    "y_test = y.loc[y.index >= date]"
   ]
  },
  {
   "cell_type": "code",
   "execution_count": 80,
   "metadata": {},
   "outputs": [
    {
     "data": {
      "text/html": [
       "<div>\n",
       "<style scoped>\n",
       "    .dataframe tbody tr th:only-of-type {\n",
       "        vertical-align: middle;\n",
       "    }\n",
       "\n",
       "    .dataframe tbody tr th {\n",
       "        vertical-align: top;\n",
       "    }\n",
       "\n",
       "    .dataframe thead th {\n",
       "        text-align: right;\n",
       "    }\n",
       "</style>\n",
       "<table border=\"1\" class=\"dataframe\">\n",
       "  <thead>\n",
       "    <tr style=\"text-align: right;\">\n",
       "      <th></th>\n",
       "      <th>actual</th>\n",
       "      <th>predicted</th>\n",
       "    </tr>\n",
       "    <tr>\n",
       "      <th>Date</th>\n",
       "      <th></th>\n",
       "      <th></th>\n",
       "    </tr>\n",
       "  </thead>\n",
       "  <tbody>\n",
       "    <tr>\n",
       "      <th>2014-06-02</th>\n",
       "      <td>-0.009941</td>\n",
       "      <td>0.002246</td>\n",
       "    </tr>\n",
       "    <tr>\n",
       "      <th>2014-06-03</th>\n",
       "      <td>-0.018265</td>\n",
       "      <td>0.000643</td>\n",
       "    </tr>\n",
       "    <tr>\n",
       "      <th>2014-06-04</th>\n",
       "      <td>-0.003227</td>\n",
       "      <td>-0.021727</td>\n",
       "    </tr>\n",
       "    <tr>\n",
       "      <th>2014-06-05</th>\n",
       "      <td>0.000925</td>\n",
       "      <td>-0.012404</td>\n",
       "    </tr>\n",
       "    <tr>\n",
       "      <th>2014-06-10</th>\n",
       "      <td>-0.026508</td>\n",
       "      <td>0.011342</td>\n",
       "    </tr>\n",
       "    <tr>\n",
       "      <th>...</th>\n",
       "      <td>...</td>\n",
       "      <td>...</td>\n",
       "    </tr>\n",
       "    <tr>\n",
       "      <th>2015-12-17</th>\n",
       "      <td>NaN</td>\n",
       "      <td>0.083351</td>\n",
       "    </tr>\n",
       "    <tr>\n",
       "      <th>2015-12-18</th>\n",
       "      <td>NaN</td>\n",
       "      <td>0.059868</td>\n",
       "    </tr>\n",
       "    <tr>\n",
       "      <th>2015-12-21</th>\n",
       "      <td>NaN</td>\n",
       "      <td>0.087395</td>\n",
       "    </tr>\n",
       "    <tr>\n",
       "      <th>2015-12-23</th>\n",
       "      <td>NaN</td>\n",
       "      <td>0.037833</td>\n",
       "    </tr>\n",
       "    <tr>\n",
       "      <th>2015-12-29</th>\n",
       "      <td>NaN</td>\n",
       "      <td>0.030460</td>\n",
       "    </tr>\n",
       "  </tbody>\n",
       "</table>\n",
       "<p>216 rows × 2 columns</p>\n",
       "</div>"
      ],
      "text/plain": [
       "              actual  predicted\n",
       "Date                           \n",
       "2014-06-02 -0.009941   0.002246\n",
       "2014-06-03 -0.018265   0.000643\n",
       "2014-06-04 -0.003227  -0.021727\n",
       "2014-06-05  0.000925  -0.012404\n",
       "2014-06-10 -0.026508   0.011342\n",
       "...              ...        ...\n",
       "2015-12-17       NaN   0.083351\n",
       "2015-12-18       NaN   0.059868\n",
       "2015-12-21       NaN   0.087395\n",
       "2015-12-23       NaN   0.037833\n",
       "2015-12-29       NaN   0.030460\n",
       "\n",
       "[216 rows x 2 columns]"
      ]
     },
     "execution_count": 80,
     "metadata": {},
     "output_type": "execute_result"
    }
   ],
   "source": [
    "regr2.fit(X_train, y_train)\n",
    "y_predicted = regr2.predict(X_test)\n",
    "results = pd.DataFrame()\n",
    "results['actual'] = y_test\n",
    "results['predicted'] = y_predicted\n",
    "results.index = y_test.index\n",
    "results"
   ]
  },
  {
   "cell_type": "code",
   "execution_count": 81,
   "metadata": {},
   "outputs": [
    {
     "data": {
      "application/vnd.plotly.v1+json": {
       "config": {
        "plotlyServerURL": "https://plot.ly"
       },
       "data": [
        {
         "hovertemplate": "variable=actual<br>Date=%{x}<br>value=%{y}<extra></extra>",
         "legendgroup": "actual",
         "line": {
          "color": "#636efa",
          "dash": "solid"
         },
         "mode": "lines",
         "name": "actual",
         "orientation": "v",
         "showlegend": true,
         "type": "scatter",
         "x": [
          "2014-06-02T00:00:00",
          "2014-06-03T00:00:00",
          "2014-06-04T00:00:00",
          "2014-06-05T00:00:00",
          "2014-06-10T00:00:00",
          "2014-06-11T00:00:00",
          "2014-06-12T00:00:00",
          "2014-06-13T00:00:00",
          "2014-06-16T00:00:00",
          "2014-06-17T00:00:00",
          "2014-06-18T00:00:00",
          "2014-06-19T00:00:00",
          "2014-06-23T00:00:00",
          "2014-06-24T00:00:00",
          "2014-06-25T00:00:00",
          "2014-06-26T00:00:00",
          "2014-06-30T00:00:00",
          "2014-07-02T00:00:00",
          "2014-07-07T00:00:00",
          "2014-07-08T00:00:00",
          "2014-07-09T00:00:00",
          "2014-07-10T00:00:00",
          "2014-07-11T00:00:00",
          "2014-07-14T00:00:00",
          "2014-07-15T00:00:00",
          "2014-07-21T00:00:00",
          "2014-07-22T00:00:00",
          "2014-07-23T00:00:00",
          "2014-07-28T00:00:00",
          "2014-07-29T00:00:00",
          "2014-08-01T00:00:00",
          "2014-08-05T00:00:00",
          "2014-08-06T00:00:00",
          "2014-08-07T00:00:00",
          "2014-08-08T00:00:00",
          "2014-08-11T00:00:00",
          "2014-08-12T00:00:00",
          "2014-08-13T00:00:00",
          "2014-08-14T00:00:00",
          "2014-08-15T00:00:00",
          "2014-08-18T00:00:00",
          "2014-08-19T00:00:00",
          "2014-08-20T00:00:00",
          "2014-08-21T00:00:00",
          "2014-08-22T00:00:00",
          "2014-08-25T00:00:00",
          "2014-08-26T00:00:00",
          "2014-08-27T00:00:00",
          "2014-08-28T00:00:00",
          "2014-08-29T00:00:00",
          "2014-09-02T00:00:00",
          "2014-09-04T00:00:00",
          "2014-09-05T00:00:00",
          "2014-09-09T00:00:00",
          "2014-09-10T00:00:00",
          "2014-09-11T00:00:00",
          "2014-09-12T00:00:00",
          "2014-09-15T00:00:00",
          "2014-09-16T00:00:00",
          "2014-09-17T00:00:00",
          "2014-09-18T00:00:00",
          "2014-09-19T00:00:00",
          "2014-09-22T00:00:00",
          "2014-09-25T00:00:00",
          "2014-09-26T00:00:00",
          "2014-09-29T00:00:00",
          "2014-10-08T00:00:00",
          "2014-10-09T00:00:00",
          "2014-10-10T00:00:00",
          "2014-10-15T00:00:00",
          "2014-10-17T00:00:00",
          "2014-10-20T00:00:00",
          "2014-10-21T00:00:00",
          "2014-10-22T00:00:00",
          "2014-10-23T00:00:00",
          "2014-10-24T00:00:00",
          "2014-10-27T00:00:00",
          "2014-10-29T00:00:00",
          "2014-10-30T00:00:00",
          "2014-11-03T00:00:00",
          "2014-11-05T00:00:00",
          "2014-11-06T00:00:00",
          "2014-11-11T00:00:00",
          "2014-11-12T00:00:00",
          "2014-11-18T00:00:00",
          "2014-11-20T00:00:00",
          "2014-11-21T00:00:00",
          "2014-12-04T00:00:00",
          "2014-12-05T00:00:00",
          "2014-12-08T00:00:00",
          "2014-12-09T00:00:00",
          "2014-12-10T00:00:00",
          "2014-12-11T00:00:00",
          "2014-12-12T00:00:00",
          "2014-12-15T00:00:00",
          "2014-12-17T00:00:00",
          "2014-12-18T00:00:00",
          "2014-12-29T00:00:00",
          "2014-12-30T00:00:00",
          "2015-01-02T00:00:00",
          "2015-01-05T00:00:00",
          "2015-01-08T00:00:00",
          "2015-01-09T00:00:00",
          "2015-01-12T00:00:00",
          "2015-01-14T00:00:00",
          "2015-01-15T00:00:00",
          "2015-01-16T00:00:00",
          "2015-01-21T00:00:00",
          "2015-01-30T00:00:00",
          "2015-02-02T00:00:00",
          "2015-02-03T00:00:00",
          "2015-02-05T00:00:00",
          "2015-02-06T00:00:00",
          "2015-02-17T00:00:00",
          "2015-02-18T00:00:00",
          "2015-02-20T00:00:00",
          "2015-02-25T00:00:00",
          "2015-02-26T00:00:00",
          "2015-02-27T00:00:00",
          "2015-03-02T00:00:00",
          "2015-03-06T00:00:00",
          "2015-03-11T00:00:00",
          "2015-03-12T00:00:00",
          "2015-03-24T00:00:00",
          "2015-03-25T00:00:00",
          "2015-03-30T00:00:00",
          "2015-03-31T00:00:00",
          "2015-04-01T00:00:00",
          "2015-04-07T00:00:00",
          "2015-04-08T00:00:00",
          "2015-04-09T00:00:00",
          "2015-04-10T00:00:00",
          "2015-04-13T00:00:00",
          "2015-04-16T00:00:00",
          "2015-04-24T00:00:00",
          "2015-04-27T00:00:00",
          "2015-04-28T00:00:00",
          "2015-04-30T00:00:00",
          "2015-05-01T00:00:00",
          "2015-05-04T00:00:00",
          "2015-05-05T00:00:00",
          "2015-05-06T00:00:00",
          "2015-05-07T00:00:00",
          "2015-05-14T00:00:00",
          "2015-05-20T00:00:00",
          "2015-05-22T00:00:00",
          "2015-06-02T00:00:00",
          "2015-06-05T00:00:00",
          "2015-06-10T00:00:00",
          "2015-06-11T00:00:00",
          "2015-06-12T00:00:00",
          "2015-06-15T00:00:00",
          "2015-06-16T00:00:00",
          "2015-06-17T00:00:00",
          "2015-06-19T00:00:00",
          "2015-06-22T00:00:00",
          "2015-06-23T00:00:00",
          "2015-06-25T00:00:00",
          "2015-06-26T00:00:00",
          "2015-06-29T00:00:00",
          "2015-06-30T00:00:00",
          "2015-07-06T00:00:00",
          "2015-07-07T00:00:00",
          "2015-07-08T00:00:00",
          "2015-08-06T00:00:00",
          "2015-08-17T00:00:00",
          "2015-08-19T00:00:00",
          "2015-08-21T00:00:00",
          "2015-08-25T00:00:00",
          "2015-08-26T00:00:00",
          "2015-08-27T00:00:00",
          "2015-08-28T00:00:00",
          "2015-09-01T00:00:00",
          "2015-09-02T00:00:00",
          "2015-09-03T00:00:00",
          "2015-09-04T00:00:00",
          "2015-09-08T00:00:00",
          "2015-09-09T00:00:00",
          "2015-09-11T00:00:00",
          "2015-09-14T00:00:00",
          "2015-09-15T00:00:00",
          "2015-09-16T00:00:00",
          "2015-09-17T00:00:00",
          "2015-09-18T00:00:00",
          "2015-09-23T00:00:00",
          "2015-09-24T00:00:00",
          "2015-09-25T00:00:00",
          "2015-09-30T00:00:00",
          "2015-10-05T00:00:00",
          "2015-10-07T00:00:00",
          "2015-10-20T00:00:00",
          "2015-10-21T00:00:00",
          "2015-10-22T00:00:00",
          "2015-10-23T00:00:00",
          "2015-10-26T00:00:00",
          "2015-10-27T00:00:00",
          "2015-10-29T00:00:00",
          "2015-11-03T00:00:00",
          "2015-11-04T00:00:00",
          "2015-11-05T00:00:00",
          "2015-11-06T00:00:00",
          "2015-11-11T00:00:00",
          "2015-11-17T00:00:00",
          "2015-11-18T00:00:00",
          "2015-11-27T00:00:00",
          "2015-12-02T00:00:00",
          "2015-12-09T00:00:00",
          "2015-12-10T00:00:00",
          "2015-12-11T00:00:00",
          "2015-12-15T00:00:00",
          "2015-12-16T00:00:00",
          "2015-12-17T00:00:00",
          "2015-12-18T00:00:00",
          "2015-12-21T00:00:00",
          "2015-12-23T00:00:00",
          "2015-12-29T00:00:00"
         ],
         "xaxis": "x",
         "y": [
          -0.00994122556247179,
          -0.0182648230820891,
          -0.003227279534378291,
          0.0009246629005861262,
          -0.02650822422087029,
          -0.026928350374113674,
          0.006511599518532085,
          0.03602774597639735,
          0.03849772918048311,
          0.036585398583981465,
          0.04020336708741157,
          0.017387400104423634,
          0.06193484990537845,
          0.15230906906990338,
          0.1529360130495412,
          0.11196258381189605,
          0.03656598099656083,
          0.04832264537667541,
          0.0069363542402747225,
          -0.04751045326390424,
          -0.044776123760871145,
          0.011173211995716192,
          0.017391325981270578,
          0.0725160833205718,
          0.05524860339779036,
          -0.043146278926026516,
          -0.06387751074264048,
          -0.06993264577004776,
          -0.08620051293070141,
          -0.039443172223104006,
          -0.014365471295886612,
          -0.012769341645801346,
          -0.016485795775042722,
          -0.02955471364520257,
          -0.03180357933472233,
          -0.016194393260063333,
          -0.020210186120684925,
          0.02289457866932243,
          0.020025092337718098,
          0.018711051027644476,
          0.030864198499897633,
          0.04372935131812028,
          -0.0015987575857510095,
          -0.010633955859663424,
          -0.003673475615832311,
          -0.040319295500773844,
          -0.01761403662017813,
          0.016535742443126722,
          -0.005823681017692595,
          -0.057429732011384904,
          -0.029339901949537173,
          -0.019113432714030654,
          -0.04965124949332389,
          -0.037656888405658395,
          -0.02897308980491653,
          -0.0549957801312243,
          -0.10406302411064139,
          -0.08246976942987905,
          -0.039093783170474294,
          0.018047171616534907,
          0.02211761474609375,
          -0.06317268733987358,
          -0.09379447618841097,
          -0.10791366709036943,
          -0.1056023377644909,
          -0.039728089643196185,
          0.008064495454511489,
          0.05263156827360205,
          0.05099767861726967,
          0.08624581208487081,
          0.033750620770828466,
          -0.005866699218750049,
          -0.031118052411850505,
          -0.09807998194601031,
          -0.11909867950893549,
          -0.11486121469549238,
          -0.0759493531969766,
          0.041563278003266424,
          0.06396057770844377,
          0.02382368056694717,
          0.051886858232256694,
          0.09507456138626025,
          -0.10534426174234834,
          -0.036021508739399466,
          -0.07123283490742727,
          -0.033498008438839766,
          -0.0860677981891782,
          -0.02757033580949042,
          -0.08421640843173606,
          -0.008849647146145223,
          -0.022366048610110933,
          -0.028352010253040794,
          -0.026139834968551323,
          0.042271297171528444,
          0.06397507794362234,
          -0.0210006263973036,
          0.040581469836801,
          -0.012842926102317853,
          -0.001892787755423786,
          -0.274643495473742,
          -0.30442377200278703,
          -0.21466588688328403,
          0.24615385994795225,
          -0.08524071958979507,
          0.004909939822527631,
          0.08970099062523884,
          0.14690263888430577,
          0.12424500098576519,
          0.07794232314470206,
          0.15192929317321724,
          0.05267116713877962,
          0.05512909742212457,
          0.13352473911907614,
          0.1329521544518868,
          0.1161473340378727,
          -0.05047319693885599,
          -0.10488603064108903,
          -0.10149638760948099,
          0.10966814541235514,
          0.098010313457364,
          -0.024936082785270375,
          -0.0019505677989575254,
          0.053020133025409644,
          0.08131146040119108,
          0.09511394450746358,
          0.05991074604989488,
          0.00434241260421353,
          -0.027898256602849947,
          -0.03788329480213637,
          0.12797432156805888,
          0.12515041026929308,
          0.14667498992981565,
          0.11661633801492366,
          0.11288480267315881,
          0.006951826495335878,
          -0.00542007465227845,
          -0.0049180413300577985,
          0.0010822758798212373,
          -0.003243214375263981,
          -0.0630092263458204,
          -0.10791755496116984,
          0.05816835042904711,
          0.07524881825636309,
          -0.01502496164339795,
          -0.01442585118872508,
          0.010410548773626793,
          0.01712929728005097,
          -0.032456625431861785,
          -0.012994431619830271,
          -0.037779042550252995,
          -0.017421559176712065,
          0.017351024937837467,
          -0.006325400049663421,
          0.01725169094234036,
          -0.0029550376380079735,
          -0.07163162125933586,
          -0.07368422226745819,
          -0.10966213926719603,
          -0.097979203242189,
          -0.0902655257121141,
          -0.19943286123750148,
          -0.21421214372137076,
          -0.2370786232714116,
          -0.13725492518238092,
          -0.2110091886456512,
          -0.06275580394745706,
          0.03829163922570644,
          -0.06969697648390827,
          0.063122942798155,
          -0.036390102498474075,
          -0.1205674267338035,
          0.11078713371034987,
          0.1726384309168174,
          0.17069488428631385,
          0.14838711364460333,
          -0.07086613779042172,
          0.045833390178505296,
          -0.011718708041976833,
          -0.103225831062563,
          -0.26294820237778993,
          -0.27009224631384154,
          -0.21294964887631773,
          -0.1189189732553646,
          0.33118278070300566,
          0.8098160783448347,
          -0.10939509738984743,
          -0.04127835022221504,
          -0.04225351166758262,
          0.02130490579704447,
          0.10395315462342158,
          0.0924855288192934,
          -0.10962569111904186,
          -0.025132282891341284,
          0.025469176440869656,
          0.07057061228183636,
          -0.0171919606348383,
          -0.2562091521193417,
          -0.17874398175456718,
          -0.07908616547925273,
          -0.004149373488428698,
          0.04158010155541114,
          -0.049900197321108064,
          -0.008032120823258437,
          -0.10483870502565207,
          -0.1409091160317092,
          -0.153361341170559,
          -0.2165992225237794,
          0.036036001204980295,
          0.2239185397135277,
          0.48883366938716244,
          0.2000000207320507,
          null,
          null,
          null,
          null,
          null
         ],
         "yaxis": "y"
        },
        {
         "hovertemplate": "variable=predicted<br>Date=%{x}<br>value=%{y}<extra></extra>",
         "legendgroup": "predicted",
         "line": {
          "color": "#EF553B",
          "dash": "solid"
         },
         "mode": "lines",
         "name": "predicted",
         "orientation": "v",
         "showlegend": true,
         "type": "scatter",
         "x": [
          "2014-06-02T00:00:00",
          "2014-06-03T00:00:00",
          "2014-06-04T00:00:00",
          "2014-06-05T00:00:00",
          "2014-06-10T00:00:00",
          "2014-06-11T00:00:00",
          "2014-06-12T00:00:00",
          "2014-06-13T00:00:00",
          "2014-06-16T00:00:00",
          "2014-06-17T00:00:00",
          "2014-06-18T00:00:00",
          "2014-06-19T00:00:00",
          "2014-06-23T00:00:00",
          "2014-06-24T00:00:00",
          "2014-06-25T00:00:00",
          "2014-06-26T00:00:00",
          "2014-06-30T00:00:00",
          "2014-07-02T00:00:00",
          "2014-07-07T00:00:00",
          "2014-07-08T00:00:00",
          "2014-07-09T00:00:00",
          "2014-07-10T00:00:00",
          "2014-07-11T00:00:00",
          "2014-07-14T00:00:00",
          "2014-07-15T00:00:00",
          "2014-07-21T00:00:00",
          "2014-07-22T00:00:00",
          "2014-07-23T00:00:00",
          "2014-07-28T00:00:00",
          "2014-07-29T00:00:00",
          "2014-08-01T00:00:00",
          "2014-08-05T00:00:00",
          "2014-08-06T00:00:00",
          "2014-08-07T00:00:00",
          "2014-08-08T00:00:00",
          "2014-08-11T00:00:00",
          "2014-08-12T00:00:00",
          "2014-08-13T00:00:00",
          "2014-08-14T00:00:00",
          "2014-08-15T00:00:00",
          "2014-08-18T00:00:00",
          "2014-08-19T00:00:00",
          "2014-08-20T00:00:00",
          "2014-08-21T00:00:00",
          "2014-08-22T00:00:00",
          "2014-08-25T00:00:00",
          "2014-08-26T00:00:00",
          "2014-08-27T00:00:00",
          "2014-08-28T00:00:00",
          "2014-08-29T00:00:00",
          "2014-09-02T00:00:00",
          "2014-09-04T00:00:00",
          "2014-09-05T00:00:00",
          "2014-09-09T00:00:00",
          "2014-09-10T00:00:00",
          "2014-09-11T00:00:00",
          "2014-09-12T00:00:00",
          "2014-09-15T00:00:00",
          "2014-09-16T00:00:00",
          "2014-09-17T00:00:00",
          "2014-09-18T00:00:00",
          "2014-09-19T00:00:00",
          "2014-09-22T00:00:00",
          "2014-09-25T00:00:00",
          "2014-09-26T00:00:00",
          "2014-09-29T00:00:00",
          "2014-10-08T00:00:00",
          "2014-10-09T00:00:00",
          "2014-10-10T00:00:00",
          "2014-10-15T00:00:00",
          "2014-10-17T00:00:00",
          "2014-10-20T00:00:00",
          "2014-10-21T00:00:00",
          "2014-10-22T00:00:00",
          "2014-10-23T00:00:00",
          "2014-10-24T00:00:00",
          "2014-10-27T00:00:00",
          "2014-10-29T00:00:00",
          "2014-10-30T00:00:00",
          "2014-11-03T00:00:00",
          "2014-11-05T00:00:00",
          "2014-11-06T00:00:00",
          "2014-11-11T00:00:00",
          "2014-11-12T00:00:00",
          "2014-11-18T00:00:00",
          "2014-11-20T00:00:00",
          "2014-11-21T00:00:00",
          "2014-12-04T00:00:00",
          "2014-12-05T00:00:00",
          "2014-12-08T00:00:00",
          "2014-12-09T00:00:00",
          "2014-12-10T00:00:00",
          "2014-12-11T00:00:00",
          "2014-12-12T00:00:00",
          "2014-12-15T00:00:00",
          "2014-12-17T00:00:00",
          "2014-12-18T00:00:00",
          "2014-12-29T00:00:00",
          "2014-12-30T00:00:00",
          "2015-01-02T00:00:00",
          "2015-01-05T00:00:00",
          "2015-01-08T00:00:00",
          "2015-01-09T00:00:00",
          "2015-01-12T00:00:00",
          "2015-01-14T00:00:00",
          "2015-01-15T00:00:00",
          "2015-01-16T00:00:00",
          "2015-01-21T00:00:00",
          "2015-01-30T00:00:00",
          "2015-02-02T00:00:00",
          "2015-02-03T00:00:00",
          "2015-02-05T00:00:00",
          "2015-02-06T00:00:00",
          "2015-02-17T00:00:00",
          "2015-02-18T00:00:00",
          "2015-02-20T00:00:00",
          "2015-02-25T00:00:00",
          "2015-02-26T00:00:00",
          "2015-02-27T00:00:00",
          "2015-03-02T00:00:00",
          "2015-03-06T00:00:00",
          "2015-03-11T00:00:00",
          "2015-03-12T00:00:00",
          "2015-03-24T00:00:00",
          "2015-03-25T00:00:00",
          "2015-03-30T00:00:00",
          "2015-03-31T00:00:00",
          "2015-04-01T00:00:00",
          "2015-04-07T00:00:00",
          "2015-04-08T00:00:00",
          "2015-04-09T00:00:00",
          "2015-04-10T00:00:00",
          "2015-04-13T00:00:00",
          "2015-04-16T00:00:00",
          "2015-04-24T00:00:00",
          "2015-04-27T00:00:00",
          "2015-04-28T00:00:00",
          "2015-04-30T00:00:00",
          "2015-05-01T00:00:00",
          "2015-05-04T00:00:00",
          "2015-05-05T00:00:00",
          "2015-05-06T00:00:00",
          "2015-05-07T00:00:00",
          "2015-05-14T00:00:00",
          "2015-05-20T00:00:00",
          "2015-05-22T00:00:00",
          "2015-06-02T00:00:00",
          "2015-06-05T00:00:00",
          "2015-06-10T00:00:00",
          "2015-06-11T00:00:00",
          "2015-06-12T00:00:00",
          "2015-06-15T00:00:00",
          "2015-06-16T00:00:00",
          "2015-06-17T00:00:00",
          "2015-06-19T00:00:00",
          "2015-06-22T00:00:00",
          "2015-06-23T00:00:00",
          "2015-06-25T00:00:00",
          "2015-06-26T00:00:00",
          "2015-06-29T00:00:00",
          "2015-06-30T00:00:00",
          "2015-07-06T00:00:00",
          "2015-07-07T00:00:00",
          "2015-07-08T00:00:00",
          "2015-08-06T00:00:00",
          "2015-08-17T00:00:00",
          "2015-08-19T00:00:00",
          "2015-08-21T00:00:00",
          "2015-08-25T00:00:00",
          "2015-08-26T00:00:00",
          "2015-08-27T00:00:00",
          "2015-08-28T00:00:00",
          "2015-09-01T00:00:00",
          "2015-09-02T00:00:00",
          "2015-09-03T00:00:00",
          "2015-09-04T00:00:00",
          "2015-09-08T00:00:00",
          "2015-09-09T00:00:00",
          "2015-09-11T00:00:00",
          "2015-09-14T00:00:00",
          "2015-09-15T00:00:00",
          "2015-09-16T00:00:00",
          "2015-09-17T00:00:00",
          "2015-09-18T00:00:00",
          "2015-09-23T00:00:00",
          "2015-09-24T00:00:00",
          "2015-09-25T00:00:00",
          "2015-09-30T00:00:00",
          "2015-10-05T00:00:00",
          "2015-10-07T00:00:00",
          "2015-10-20T00:00:00",
          "2015-10-21T00:00:00",
          "2015-10-22T00:00:00",
          "2015-10-23T00:00:00",
          "2015-10-26T00:00:00",
          "2015-10-27T00:00:00",
          "2015-10-29T00:00:00",
          "2015-11-03T00:00:00",
          "2015-11-04T00:00:00",
          "2015-11-05T00:00:00",
          "2015-11-06T00:00:00",
          "2015-11-11T00:00:00",
          "2015-11-17T00:00:00",
          "2015-11-18T00:00:00",
          "2015-11-27T00:00:00",
          "2015-12-02T00:00:00",
          "2015-12-09T00:00:00",
          "2015-12-10T00:00:00",
          "2015-12-11T00:00:00",
          "2015-12-15T00:00:00",
          "2015-12-16T00:00:00",
          "2015-12-17T00:00:00",
          "2015-12-18T00:00:00",
          "2015-12-21T00:00:00",
          "2015-12-23T00:00:00",
          "2015-12-29T00:00:00"
         ],
         "xaxis": "x",
         "y": [
          0.0022461277964130055,
          0.0006429560540417156,
          -0.02172686849608707,
          -0.012403503993326404,
          0.011342268168068229,
          0.011568978455894496,
          -0.003686265205811251,
          -0.007580168742139279,
          0.0045448341835718775,
          0.0044433052311829285,
          0.0029495409645015624,
          0.012167674206416651,
          0.004310017384999823,
          0.0002343388271014435,
          0.013921659134984138,
          0.0029166421212342974,
          -0.006411853804197329,
          -0.003927114296594161,
          -0.03239249819258151,
          -0.03179680456532795,
          -0.022923292017092783,
          -0.021791220966344296,
          -0.016492148992385103,
          -0.030051957858584458,
          -0.030217338777953157,
          -0.022946063765648006,
          -0.011960374203077481,
          -0.00423259577604268,
          -0.02321009511834557,
          -0.023562620916343452,
          -0.020544971998793154,
          0.003963554736584218,
          0.001967572416817706,
          -0.041399081480908054,
          -0.04078330600537015,
          -0.02285929854367108,
          -0.012994752158383902,
          -0.008803737000050785,
          -0.009609815236117994,
          -0.006528320868652002,
          0.0017107391303782943,
          -0.010079162121422167,
          -0.016289221217792305,
          0.0022530512805283565,
          -0.0075295574924795355,
          0.008063133212564702,
          0.0005926621645250679,
          -0.00701697635136217,
          -0.010747862546759981,
          0.010153028758760022,
          0.013059662823863366,
          -0.0035327648561106345,
          -0.003001445003418743,
          0.024393338073785617,
          0.0025697959372895512,
          0.014621470388544389,
          -0.0007266580592602406,
          -0.01190957703172002,
          -0.008657903757285368,
          0.004133299474202379,
          0.017376596638247338,
          -0.010865544832322674,
          -0.0032611956255059193,
          -0.022363385527624985,
          -0.020477145790412224,
          -0.00674484096008332,
          0.004708902985868735,
          0.001563341756960518,
          0.022329755451666572,
          0.02598320627401407,
          -0.025264328115452303,
          -0.010112944638321214,
          -0.030071369206445736,
          -0.0299616550696616,
          -0.04140486223138576,
          0.005959183387725039,
          0.02009489495943309,
          -0.00554808279681078,
          0.01091742680458778,
          0.009094854368211489,
          0.027151193406141916,
          0.014804365790908436,
          0.02618299472095477,
          0.025657765711636735,
          0.01892570027485034,
          0.009520606186545003,
          0.008010568741892932,
          -0.002604796624891881,
          0.02181355303404027,
          0.02641165265968176,
          0.02415241542573869,
          -0.006345773671044025,
          0.013082197066333429,
          0.004252708286253168,
          0.02098485489580322,
          -0.057103310651394755,
          0.004803140464595179,
          0.02241008585319028,
          0.007053149400028685,
          0.006729316681534925,
          0.022817530213821546,
          0.009408501789342674,
          -0.01411183278902367,
          0.014038778096700802,
          0.05519192549401586,
          0.03778544497136785,
          0.04666261239733838,
          -0.007634256160521935,
          0.04192826355440868,
          0.08463132235121562,
          0.04390261304203058,
          0.06582112003289575,
          0.03198324130270089,
          0.055280358666712326,
          0.02373964456483975,
          0.05804165924562518,
          0.041996663462452954,
          0.045736864234099034,
          0.05294526741011618,
          0.02018928229488974,
          0.06640036836326499,
          0.04242393836066741,
          0.06147133298320778,
          0.045600515969382915,
          -0.0011604045906461191,
          0.023107591684690343,
          0.007985351307682673,
          0.023978504836268122,
          0.025412765058950224,
          0.027409243251819843,
          0.008230405723340467,
          0.03264747037498031,
          0.03183386734512006,
          0.04767192354232039,
          0.026958586454477074,
          0.04221155262313425,
          0.019523998498294795,
          0.03277251692726571,
          0.03912533396146059,
          0.03342155508998476,
          0.01637777405671402,
          0.03436611428317782,
          0.035384179614497135,
          0.04153581957988442,
          0.002554666380537307,
          0.01856306484843348,
          0.046181975976915424,
          0.03151731592278173,
          0.04299015716197077,
          0.023085695716032154,
          0.04946918702716813,
          0.033871537296173204,
          0.03501292860044894,
          0.025188803591473435,
          0.03667268628463849,
          0.021675095349094647,
          0.02545091282959197,
          0.026550116595666085,
          0.020068843177595608,
          0.04789555570911627,
          0.04453444949908,
          0.027143522463915548,
          0.013901297003694038,
          0.015589266313877137,
          0.0654280491652405,
          0.06503946952200301,
          0.060741714683150067,
          0.09374241216110976,
          0.011247412465505882,
          0.060914358009728,
          0.035206237538326135,
          0.09101552999477175,
          0.046198901543977794,
          0.06361610490264608,
          0.09350799153855394,
          0.09350525217564451,
          0.09710937887893342,
          0.12108120140631859,
          0.07808215724222645,
          0.0496658986654516,
          0.024477709896185862,
          0.03510226558740906,
          0.06432575706852459,
          0.062041238420436434,
          0.0518437473366303,
          0.08662275643360781,
          0.054464380875608315,
          0.12663056961598562,
          0.07249133941564384,
          0.0971560895420007,
          0.06637426291334883,
          0.058932194183811265,
          0.0895897825476743,
          0.09375365446954406,
          0.08515753821012628,
          0.0896725594931845,
          0.081331364759824,
          0.05602974218634035,
          0.040478858487308284,
          0.05899337335406399,
          0.04056548489825951,
          0.09011767804130444,
          0.06346624215168092,
          0.07351162978191247,
          0.09357543419297223,
          0.06442526542082433,
          0.06045430815766653,
          0.0973240669677097,
          0.023999429050295368,
          0.07266415262366926,
          0.09790835639529377,
          0.08335061071403285,
          0.05986828926560603,
          0.08739476346220187,
          0.0378328199325455,
          0.03046029971600797
         ],
         "yaxis": "y"
        }
       ],
       "layout": {
        "legend": {
         "title": {
          "text": "variable"
         },
         "tracegroupgap": 0
        },
        "margin": {
         "t": 60
        },
        "template": {
         "data": {
          "bar": [
           {
            "error_x": {
             "color": "#2a3f5f"
            },
            "error_y": {
             "color": "#2a3f5f"
            },
            "marker": {
             "line": {
              "color": "#E5ECF6",
              "width": 0.5
             }
            },
            "type": "bar"
           }
          ],
          "barpolar": [
           {
            "marker": {
             "line": {
              "color": "#E5ECF6",
              "width": 0.5
             }
            },
            "type": "barpolar"
           }
          ],
          "carpet": [
           {
            "aaxis": {
             "endlinecolor": "#2a3f5f",
             "gridcolor": "white",
             "linecolor": "white",
             "minorgridcolor": "white",
             "startlinecolor": "#2a3f5f"
            },
            "baxis": {
             "endlinecolor": "#2a3f5f",
             "gridcolor": "white",
             "linecolor": "white",
             "minorgridcolor": "white",
             "startlinecolor": "#2a3f5f"
            },
            "type": "carpet"
           }
          ],
          "choropleth": [
           {
            "colorbar": {
             "outlinewidth": 0,
             "ticks": ""
            },
            "type": "choropleth"
           }
          ],
          "contour": [
           {
            "colorbar": {
             "outlinewidth": 0,
             "ticks": ""
            },
            "colorscale": [
             [
              0,
              "#0d0887"
             ],
             [
              0.1111111111111111,
              "#46039f"
             ],
             [
              0.2222222222222222,
              "#7201a8"
             ],
             [
              0.3333333333333333,
              "#9c179e"
             ],
             [
              0.4444444444444444,
              "#bd3786"
             ],
             [
              0.5555555555555556,
              "#d8576b"
             ],
             [
              0.6666666666666666,
              "#ed7953"
             ],
             [
              0.7777777777777778,
              "#fb9f3a"
             ],
             [
              0.8888888888888888,
              "#fdca26"
             ],
             [
              1,
              "#f0f921"
             ]
            ],
            "type": "contour"
           }
          ],
          "contourcarpet": [
           {
            "colorbar": {
             "outlinewidth": 0,
             "ticks": ""
            },
            "type": "contourcarpet"
           }
          ],
          "heatmap": [
           {
            "colorbar": {
             "outlinewidth": 0,
             "ticks": ""
            },
            "colorscale": [
             [
              0,
              "#0d0887"
             ],
             [
              0.1111111111111111,
              "#46039f"
             ],
             [
              0.2222222222222222,
              "#7201a8"
             ],
             [
              0.3333333333333333,
              "#9c179e"
             ],
             [
              0.4444444444444444,
              "#bd3786"
             ],
             [
              0.5555555555555556,
              "#d8576b"
             ],
             [
              0.6666666666666666,
              "#ed7953"
             ],
             [
              0.7777777777777778,
              "#fb9f3a"
             ],
             [
              0.8888888888888888,
              "#fdca26"
             ],
             [
              1,
              "#f0f921"
             ]
            ],
            "type": "heatmap"
           }
          ],
          "heatmapgl": [
           {
            "colorbar": {
             "outlinewidth": 0,
             "ticks": ""
            },
            "colorscale": [
             [
              0,
              "#0d0887"
             ],
             [
              0.1111111111111111,
              "#46039f"
             ],
             [
              0.2222222222222222,
              "#7201a8"
             ],
             [
              0.3333333333333333,
              "#9c179e"
             ],
             [
              0.4444444444444444,
              "#bd3786"
             ],
             [
              0.5555555555555556,
              "#d8576b"
             ],
             [
              0.6666666666666666,
              "#ed7953"
             ],
             [
              0.7777777777777778,
              "#fb9f3a"
             ],
             [
              0.8888888888888888,
              "#fdca26"
             ],
             [
              1,
              "#f0f921"
             ]
            ],
            "type": "heatmapgl"
           }
          ],
          "histogram": [
           {
            "marker": {
             "colorbar": {
              "outlinewidth": 0,
              "ticks": ""
             }
            },
            "type": "histogram"
           }
          ],
          "histogram2d": [
           {
            "colorbar": {
             "outlinewidth": 0,
             "ticks": ""
            },
            "colorscale": [
             [
              0,
              "#0d0887"
             ],
             [
              0.1111111111111111,
              "#46039f"
             ],
             [
              0.2222222222222222,
              "#7201a8"
             ],
             [
              0.3333333333333333,
              "#9c179e"
             ],
             [
              0.4444444444444444,
              "#bd3786"
             ],
             [
              0.5555555555555556,
              "#d8576b"
             ],
             [
              0.6666666666666666,
              "#ed7953"
             ],
             [
              0.7777777777777778,
              "#fb9f3a"
             ],
             [
              0.8888888888888888,
              "#fdca26"
             ],
             [
              1,
              "#f0f921"
             ]
            ],
            "type": "histogram2d"
           }
          ],
          "histogram2dcontour": [
           {
            "colorbar": {
             "outlinewidth": 0,
             "ticks": ""
            },
            "colorscale": [
             [
              0,
              "#0d0887"
             ],
             [
              0.1111111111111111,
              "#46039f"
             ],
             [
              0.2222222222222222,
              "#7201a8"
             ],
             [
              0.3333333333333333,
              "#9c179e"
             ],
             [
              0.4444444444444444,
              "#bd3786"
             ],
             [
              0.5555555555555556,
              "#d8576b"
             ],
             [
              0.6666666666666666,
              "#ed7953"
             ],
             [
              0.7777777777777778,
              "#fb9f3a"
             ],
             [
              0.8888888888888888,
              "#fdca26"
             ],
             [
              1,
              "#f0f921"
             ]
            ],
            "type": "histogram2dcontour"
           }
          ],
          "mesh3d": [
           {
            "colorbar": {
             "outlinewidth": 0,
             "ticks": ""
            },
            "type": "mesh3d"
           }
          ],
          "parcoords": [
           {
            "line": {
             "colorbar": {
              "outlinewidth": 0,
              "ticks": ""
             }
            },
            "type": "parcoords"
           }
          ],
          "pie": [
           {
            "automargin": true,
            "type": "pie"
           }
          ],
          "scatter": [
           {
            "marker": {
             "colorbar": {
              "outlinewidth": 0,
              "ticks": ""
             }
            },
            "type": "scatter"
           }
          ],
          "scatter3d": [
           {
            "line": {
             "colorbar": {
              "outlinewidth": 0,
              "ticks": ""
             }
            },
            "marker": {
             "colorbar": {
              "outlinewidth": 0,
              "ticks": ""
             }
            },
            "type": "scatter3d"
           }
          ],
          "scattercarpet": [
           {
            "marker": {
             "colorbar": {
              "outlinewidth": 0,
              "ticks": ""
             }
            },
            "type": "scattercarpet"
           }
          ],
          "scattergeo": [
           {
            "marker": {
             "colorbar": {
              "outlinewidth": 0,
              "ticks": ""
             }
            },
            "type": "scattergeo"
           }
          ],
          "scattergl": [
           {
            "marker": {
             "colorbar": {
              "outlinewidth": 0,
              "ticks": ""
             }
            },
            "type": "scattergl"
           }
          ],
          "scattermapbox": [
           {
            "marker": {
             "colorbar": {
              "outlinewidth": 0,
              "ticks": ""
             }
            },
            "type": "scattermapbox"
           }
          ],
          "scatterpolar": [
           {
            "marker": {
             "colorbar": {
              "outlinewidth": 0,
              "ticks": ""
             }
            },
            "type": "scatterpolar"
           }
          ],
          "scatterpolargl": [
           {
            "marker": {
             "colorbar": {
              "outlinewidth": 0,
              "ticks": ""
             }
            },
            "type": "scatterpolargl"
           }
          ],
          "scatterternary": [
           {
            "marker": {
             "colorbar": {
              "outlinewidth": 0,
              "ticks": ""
             }
            },
            "type": "scatterternary"
           }
          ],
          "surface": [
           {
            "colorbar": {
             "outlinewidth": 0,
             "ticks": ""
            },
            "colorscale": [
             [
              0,
              "#0d0887"
             ],
             [
              0.1111111111111111,
              "#46039f"
             ],
             [
              0.2222222222222222,
              "#7201a8"
             ],
             [
              0.3333333333333333,
              "#9c179e"
             ],
             [
              0.4444444444444444,
              "#bd3786"
             ],
             [
              0.5555555555555556,
              "#d8576b"
             ],
             [
              0.6666666666666666,
              "#ed7953"
             ],
             [
              0.7777777777777778,
              "#fb9f3a"
             ],
             [
              0.8888888888888888,
              "#fdca26"
             ],
             [
              1,
              "#f0f921"
             ]
            ],
            "type": "surface"
           }
          ],
          "table": [
           {
            "cells": {
             "fill": {
              "color": "#EBF0F8"
             },
             "line": {
              "color": "white"
             }
            },
            "header": {
             "fill": {
              "color": "#C8D4E3"
             },
             "line": {
              "color": "white"
             }
            },
            "type": "table"
           }
          ]
         },
         "layout": {
          "annotationdefaults": {
           "arrowcolor": "#2a3f5f",
           "arrowhead": 0,
           "arrowwidth": 1
          },
          "coloraxis": {
           "colorbar": {
            "outlinewidth": 0,
            "ticks": ""
           }
          },
          "colorscale": {
           "diverging": [
            [
             0,
             "#8e0152"
            ],
            [
             0.1,
             "#c51b7d"
            ],
            [
             0.2,
             "#de77ae"
            ],
            [
             0.3,
             "#f1b6da"
            ],
            [
             0.4,
             "#fde0ef"
            ],
            [
             0.5,
             "#f7f7f7"
            ],
            [
             0.6,
             "#e6f5d0"
            ],
            [
             0.7,
             "#b8e186"
            ],
            [
             0.8,
             "#7fbc41"
            ],
            [
             0.9,
             "#4d9221"
            ],
            [
             1,
             "#276419"
            ]
           ],
           "sequential": [
            [
             0,
             "#0d0887"
            ],
            [
             0.1111111111111111,
             "#46039f"
            ],
            [
             0.2222222222222222,
             "#7201a8"
            ],
            [
             0.3333333333333333,
             "#9c179e"
            ],
            [
             0.4444444444444444,
             "#bd3786"
            ],
            [
             0.5555555555555556,
             "#d8576b"
            ],
            [
             0.6666666666666666,
             "#ed7953"
            ],
            [
             0.7777777777777778,
             "#fb9f3a"
            ],
            [
             0.8888888888888888,
             "#fdca26"
            ],
            [
             1,
             "#f0f921"
            ]
           ],
           "sequentialminus": [
            [
             0,
             "#0d0887"
            ],
            [
             0.1111111111111111,
             "#46039f"
            ],
            [
             0.2222222222222222,
             "#7201a8"
            ],
            [
             0.3333333333333333,
             "#9c179e"
            ],
            [
             0.4444444444444444,
             "#bd3786"
            ],
            [
             0.5555555555555556,
             "#d8576b"
            ],
            [
             0.6666666666666666,
             "#ed7953"
            ],
            [
             0.7777777777777778,
             "#fb9f3a"
            ],
            [
             0.8888888888888888,
             "#fdca26"
            ],
            [
             1,
             "#f0f921"
            ]
           ]
          },
          "colorway": [
           "#636efa",
           "#EF553B",
           "#00cc96",
           "#ab63fa",
           "#FFA15A",
           "#19d3f3",
           "#FF6692",
           "#B6E880",
           "#FF97FF",
           "#FECB52"
          ],
          "font": {
           "color": "#2a3f5f"
          },
          "geo": {
           "bgcolor": "white",
           "lakecolor": "white",
           "landcolor": "#E5ECF6",
           "showlakes": true,
           "showland": true,
           "subunitcolor": "white"
          },
          "hoverlabel": {
           "align": "left"
          },
          "hovermode": "closest",
          "mapbox": {
           "style": "light"
          },
          "paper_bgcolor": "white",
          "plot_bgcolor": "#E5ECF6",
          "polar": {
           "angularaxis": {
            "gridcolor": "white",
            "linecolor": "white",
            "ticks": ""
           },
           "bgcolor": "#E5ECF6",
           "radialaxis": {
            "gridcolor": "white",
            "linecolor": "white",
            "ticks": ""
           }
          },
          "scene": {
           "xaxis": {
            "backgroundcolor": "#E5ECF6",
            "gridcolor": "white",
            "gridwidth": 2,
            "linecolor": "white",
            "showbackground": true,
            "ticks": "",
            "zerolinecolor": "white"
           },
           "yaxis": {
            "backgroundcolor": "#E5ECF6",
            "gridcolor": "white",
            "gridwidth": 2,
            "linecolor": "white",
            "showbackground": true,
            "ticks": "",
            "zerolinecolor": "white"
           },
           "zaxis": {
            "backgroundcolor": "#E5ECF6",
            "gridcolor": "white",
            "gridwidth": 2,
            "linecolor": "white",
            "showbackground": true,
            "ticks": "",
            "zerolinecolor": "white"
           }
          },
          "shapedefaults": {
           "line": {
            "color": "#2a3f5f"
           }
          },
          "ternary": {
           "aaxis": {
            "gridcolor": "white",
            "linecolor": "white",
            "ticks": ""
           },
           "baxis": {
            "gridcolor": "white",
            "linecolor": "white",
            "ticks": ""
           },
           "bgcolor": "#E5ECF6",
           "caxis": {
            "gridcolor": "white",
            "linecolor": "white",
            "ticks": ""
           }
          },
          "title": {
           "x": 0.05
          },
          "xaxis": {
           "automargin": true,
           "gridcolor": "white",
           "linecolor": "white",
           "ticks": "",
           "title": {
            "standoff": 15
           },
           "zerolinecolor": "white",
           "zerolinewidth": 2
          },
          "yaxis": {
           "automargin": true,
           "gridcolor": "white",
           "linecolor": "white",
           "ticks": "",
           "title": {
            "standoff": 15
           },
           "zerolinecolor": "white",
           "zerolinewidth": 2
          }
         }
        },
        "xaxis": {
         "anchor": "y",
         "domain": [
          0,
          1
         ],
         "title": {
          "text": "Date"
         }
        },
        "yaxis": {
         "anchor": "x",
         "domain": [
          0,
          1
         ],
         "title": {
          "text": "value"
         }
        }
       }
      },
      "text/html": [
       "<div>                            <div id=\"c3f21aa7-33d3-42e4-9e43-96879e0f76a6\" class=\"plotly-graph-div\" style=\"height:525px; width:100%;\"></div>            <script type=\"text/javascript\">                require([\"plotly\"], function(Plotly) {                    window.PLOTLYENV=window.PLOTLYENV || {};                                    if (document.getElementById(\"c3f21aa7-33d3-42e4-9e43-96879e0f76a6\")) {                    Plotly.newPlot(                        \"c3f21aa7-33d3-42e4-9e43-96879e0f76a6\",                        [{\"hovertemplate\": \"variable=actual<br>Date=%{x}<br>value=%{y}<extra></extra>\", \"legendgroup\": \"actual\", \"line\": {\"color\": \"#636efa\", \"dash\": \"solid\"}, \"mode\": \"lines\", \"name\": \"actual\", \"orientation\": \"v\", \"showlegend\": true, \"type\": \"scatter\", \"x\": [\"2014-06-02T00:00:00\", \"2014-06-03T00:00:00\", \"2014-06-04T00:00:00\", \"2014-06-05T00:00:00\", \"2014-06-10T00:00:00\", \"2014-06-11T00:00:00\", \"2014-06-12T00:00:00\", \"2014-06-13T00:00:00\", \"2014-06-16T00:00:00\", \"2014-06-17T00:00:00\", \"2014-06-18T00:00:00\", \"2014-06-19T00:00:00\", \"2014-06-23T00:00:00\", \"2014-06-24T00:00:00\", \"2014-06-25T00:00:00\", \"2014-06-26T00:00:00\", \"2014-06-30T00:00:00\", \"2014-07-02T00:00:00\", \"2014-07-07T00:00:00\", \"2014-07-08T00:00:00\", \"2014-07-09T00:00:00\", \"2014-07-10T00:00:00\", \"2014-07-11T00:00:00\", \"2014-07-14T00:00:00\", \"2014-07-15T00:00:00\", \"2014-07-21T00:00:00\", \"2014-07-22T00:00:00\", \"2014-07-23T00:00:00\", \"2014-07-28T00:00:00\", \"2014-07-29T00:00:00\", \"2014-08-01T00:00:00\", \"2014-08-05T00:00:00\", \"2014-08-06T00:00:00\", \"2014-08-07T00:00:00\", \"2014-08-08T00:00:00\", \"2014-08-11T00:00:00\", \"2014-08-12T00:00:00\", \"2014-08-13T00:00:00\", \"2014-08-14T00:00:00\", \"2014-08-15T00:00:00\", \"2014-08-18T00:00:00\", \"2014-08-19T00:00:00\", \"2014-08-20T00:00:00\", \"2014-08-21T00:00:00\", \"2014-08-22T00:00:00\", \"2014-08-25T00:00:00\", \"2014-08-26T00:00:00\", \"2014-08-27T00:00:00\", \"2014-08-28T00:00:00\", \"2014-08-29T00:00:00\", \"2014-09-02T00:00:00\", \"2014-09-04T00:00:00\", \"2014-09-05T00:00:00\", \"2014-09-09T00:00:00\", \"2014-09-10T00:00:00\", \"2014-09-11T00:00:00\", \"2014-09-12T00:00:00\", \"2014-09-15T00:00:00\", \"2014-09-16T00:00:00\", \"2014-09-17T00:00:00\", \"2014-09-18T00:00:00\", \"2014-09-19T00:00:00\", \"2014-09-22T00:00:00\", \"2014-09-25T00:00:00\", \"2014-09-26T00:00:00\", \"2014-09-29T00:00:00\", \"2014-10-08T00:00:00\", \"2014-10-09T00:00:00\", \"2014-10-10T00:00:00\", \"2014-10-15T00:00:00\", \"2014-10-17T00:00:00\", \"2014-10-20T00:00:00\", \"2014-10-21T00:00:00\", \"2014-10-22T00:00:00\", \"2014-10-23T00:00:00\", \"2014-10-24T00:00:00\", \"2014-10-27T00:00:00\", \"2014-10-29T00:00:00\", \"2014-10-30T00:00:00\", \"2014-11-03T00:00:00\", \"2014-11-05T00:00:00\", \"2014-11-06T00:00:00\", \"2014-11-11T00:00:00\", \"2014-11-12T00:00:00\", \"2014-11-18T00:00:00\", \"2014-11-20T00:00:00\", \"2014-11-21T00:00:00\", \"2014-12-04T00:00:00\", \"2014-12-05T00:00:00\", \"2014-12-08T00:00:00\", \"2014-12-09T00:00:00\", \"2014-12-10T00:00:00\", \"2014-12-11T00:00:00\", \"2014-12-12T00:00:00\", \"2014-12-15T00:00:00\", \"2014-12-17T00:00:00\", \"2014-12-18T00:00:00\", \"2014-12-29T00:00:00\", \"2014-12-30T00:00:00\", \"2015-01-02T00:00:00\", \"2015-01-05T00:00:00\", \"2015-01-08T00:00:00\", \"2015-01-09T00:00:00\", \"2015-01-12T00:00:00\", \"2015-01-14T00:00:00\", \"2015-01-15T00:00:00\", \"2015-01-16T00:00:00\", \"2015-01-21T00:00:00\", \"2015-01-30T00:00:00\", \"2015-02-02T00:00:00\", \"2015-02-03T00:00:00\", \"2015-02-05T00:00:00\", \"2015-02-06T00:00:00\", \"2015-02-17T00:00:00\", \"2015-02-18T00:00:00\", \"2015-02-20T00:00:00\", \"2015-02-25T00:00:00\", \"2015-02-26T00:00:00\", \"2015-02-27T00:00:00\", \"2015-03-02T00:00:00\", \"2015-03-06T00:00:00\", \"2015-03-11T00:00:00\", \"2015-03-12T00:00:00\", \"2015-03-24T00:00:00\", \"2015-03-25T00:00:00\", \"2015-03-30T00:00:00\", \"2015-03-31T00:00:00\", \"2015-04-01T00:00:00\", \"2015-04-07T00:00:00\", \"2015-04-08T00:00:00\", \"2015-04-09T00:00:00\", \"2015-04-10T00:00:00\", \"2015-04-13T00:00:00\", \"2015-04-16T00:00:00\", \"2015-04-24T00:00:00\", \"2015-04-27T00:00:00\", \"2015-04-28T00:00:00\", \"2015-04-30T00:00:00\", \"2015-05-01T00:00:00\", \"2015-05-04T00:00:00\", \"2015-05-05T00:00:00\", \"2015-05-06T00:00:00\", \"2015-05-07T00:00:00\", \"2015-05-14T00:00:00\", \"2015-05-20T00:00:00\", \"2015-05-22T00:00:00\", \"2015-06-02T00:00:00\", \"2015-06-05T00:00:00\", \"2015-06-10T00:00:00\", \"2015-06-11T00:00:00\", \"2015-06-12T00:00:00\", \"2015-06-15T00:00:00\", \"2015-06-16T00:00:00\", \"2015-06-17T00:00:00\", \"2015-06-19T00:00:00\", \"2015-06-22T00:00:00\", \"2015-06-23T00:00:00\", \"2015-06-25T00:00:00\", \"2015-06-26T00:00:00\", \"2015-06-29T00:00:00\", \"2015-06-30T00:00:00\", \"2015-07-06T00:00:00\", \"2015-07-07T00:00:00\", \"2015-07-08T00:00:00\", \"2015-08-06T00:00:00\", \"2015-08-17T00:00:00\", \"2015-08-19T00:00:00\", \"2015-08-21T00:00:00\", \"2015-08-25T00:00:00\", \"2015-08-26T00:00:00\", \"2015-08-27T00:00:00\", \"2015-08-28T00:00:00\", \"2015-09-01T00:00:00\", \"2015-09-02T00:00:00\", \"2015-09-03T00:00:00\", \"2015-09-04T00:00:00\", \"2015-09-08T00:00:00\", \"2015-09-09T00:00:00\", \"2015-09-11T00:00:00\", \"2015-09-14T00:00:00\", \"2015-09-15T00:00:00\", \"2015-09-16T00:00:00\", \"2015-09-17T00:00:00\", \"2015-09-18T00:00:00\", \"2015-09-23T00:00:00\", \"2015-09-24T00:00:00\", \"2015-09-25T00:00:00\", \"2015-09-30T00:00:00\", \"2015-10-05T00:00:00\", \"2015-10-07T00:00:00\", \"2015-10-20T00:00:00\", \"2015-10-21T00:00:00\", \"2015-10-22T00:00:00\", \"2015-10-23T00:00:00\", \"2015-10-26T00:00:00\", \"2015-10-27T00:00:00\", \"2015-10-29T00:00:00\", \"2015-11-03T00:00:00\", \"2015-11-04T00:00:00\", \"2015-11-05T00:00:00\", \"2015-11-06T00:00:00\", \"2015-11-11T00:00:00\", \"2015-11-17T00:00:00\", \"2015-11-18T00:00:00\", \"2015-11-27T00:00:00\", \"2015-12-02T00:00:00\", \"2015-12-09T00:00:00\", \"2015-12-10T00:00:00\", \"2015-12-11T00:00:00\", \"2015-12-15T00:00:00\", \"2015-12-16T00:00:00\", \"2015-12-17T00:00:00\", \"2015-12-18T00:00:00\", \"2015-12-21T00:00:00\", \"2015-12-23T00:00:00\", \"2015-12-29T00:00:00\"], \"xaxis\": \"x\", \"y\": [-0.00994122556247179, -0.0182648230820891, -0.003227279534378291, 0.0009246629005861262, -0.02650822422087029, -0.026928350374113674, 0.006511599518532085, 0.03602774597639735, 0.03849772918048311, 0.036585398583981465, 0.04020336708741157, 0.017387400104423634, 0.06193484990537845, 0.15230906906990338, 0.1529360130495412, 0.11196258381189605, 0.03656598099656083, 0.04832264537667541, 0.0069363542402747225, -0.04751045326390424, -0.044776123760871145, 0.011173211995716192, 0.017391325981270578, 0.0725160833205718, 0.05524860339779036, -0.043146278926026516, -0.06387751074264048, -0.06993264577004776, -0.08620051293070141, -0.039443172223104006, -0.014365471295886612, -0.012769341645801346, -0.016485795775042722, -0.02955471364520257, -0.03180357933472233, -0.016194393260063333, -0.020210186120684925, 0.02289457866932243, 0.020025092337718098, 0.018711051027644476, 0.030864198499897633, 0.04372935131812028, -0.0015987575857510095, -0.010633955859663424, -0.003673475615832311, -0.040319295500773844, -0.01761403662017813, 0.016535742443126722, -0.005823681017692595, -0.057429732011384904, -0.029339901949537173, -0.019113432714030654, -0.04965124949332389, -0.037656888405658395, -0.02897308980491653, -0.0549957801312243, -0.10406302411064139, -0.08246976942987905, -0.039093783170474294, 0.018047171616534907, 0.02211761474609375, -0.06317268733987358, -0.09379447618841097, -0.10791366709036943, -0.1056023377644909, -0.039728089643196185, 0.008064495454511489, 0.05263156827360205, 0.05099767861726967, 0.08624581208487081, 0.033750620770828466, -0.005866699218750049, -0.031118052411850505, -0.09807998194601031, -0.11909867950893549, -0.11486121469549238, -0.0759493531969766, 0.041563278003266424, 0.06396057770844377, 0.02382368056694717, 0.051886858232256694, 0.09507456138626025, -0.10534426174234834, -0.036021508739399466, -0.07123283490742727, -0.033498008438839766, -0.0860677981891782, -0.02757033580949042, -0.08421640843173606, -0.008849647146145223, -0.022366048610110933, -0.028352010253040794, -0.026139834968551323, 0.042271297171528444, 0.06397507794362234, -0.0210006263973036, 0.040581469836801, -0.012842926102317853, -0.001892787755423786, -0.274643495473742, -0.30442377200278703, -0.21466588688328403, 0.24615385994795225, -0.08524071958979507, 0.004909939822527631, 0.08970099062523884, 0.14690263888430577, 0.12424500098576519, 0.07794232314470206, 0.15192929317321724, 0.05267116713877962, 0.05512909742212457, 0.13352473911907614, 0.1329521544518868, 0.1161473340378727, -0.05047319693885599, -0.10488603064108903, -0.10149638760948099, 0.10966814541235514, 0.098010313457364, -0.024936082785270375, -0.0019505677989575254, 0.053020133025409644, 0.08131146040119108, 0.09511394450746358, 0.05991074604989488, 0.00434241260421353, -0.027898256602849947, -0.03788329480213637, 0.12797432156805888, 0.12515041026929308, 0.14667498992981565, 0.11661633801492366, 0.11288480267315881, 0.006951826495335878, -0.00542007465227845, -0.0049180413300577985, 0.0010822758798212373, -0.003243214375263981, -0.0630092263458204, -0.10791755496116984, 0.05816835042904711, 0.07524881825636309, -0.01502496164339795, -0.01442585118872508, 0.010410548773626793, 0.01712929728005097, -0.032456625431861785, -0.012994431619830271, -0.037779042550252995, -0.017421559176712065, 0.017351024937837467, -0.006325400049663421, 0.01725169094234036, -0.0029550376380079735, -0.07163162125933586, -0.07368422226745819, -0.10966213926719603, -0.097979203242189, -0.0902655257121141, -0.19943286123750148, -0.21421214372137076, -0.2370786232714116, -0.13725492518238092, -0.2110091886456512, -0.06275580394745706, 0.03829163922570644, -0.06969697648390827, 0.063122942798155, -0.036390102498474075, -0.1205674267338035, 0.11078713371034987, 0.1726384309168174, 0.17069488428631385, 0.14838711364460333, -0.07086613779042172, 0.045833390178505296, -0.011718708041976833, -0.103225831062563, -0.26294820237778993, -0.27009224631384154, -0.21294964887631773, -0.1189189732553646, 0.33118278070300566, 0.8098160783448347, -0.10939509738984743, -0.04127835022221504, -0.04225351166758262, 0.02130490579704447, 0.10395315462342158, 0.0924855288192934, -0.10962569111904186, -0.025132282891341284, 0.025469176440869656, 0.07057061228183636, -0.0171919606348383, -0.2562091521193417, -0.17874398175456718, -0.07908616547925273, -0.004149373488428698, 0.04158010155541114, -0.049900197321108064, -0.008032120823258437, -0.10483870502565207, -0.1409091160317092, -0.153361341170559, -0.2165992225237794, 0.036036001204980295, 0.2239185397135277, 0.48883366938716244, 0.2000000207320507, null, null, null, null, null], \"yaxis\": \"y\"}, {\"hovertemplate\": \"variable=predicted<br>Date=%{x}<br>value=%{y}<extra></extra>\", \"legendgroup\": \"predicted\", \"line\": {\"color\": \"#EF553B\", \"dash\": \"solid\"}, \"mode\": \"lines\", \"name\": \"predicted\", \"orientation\": \"v\", \"showlegend\": true, \"type\": \"scatter\", \"x\": [\"2014-06-02T00:00:00\", \"2014-06-03T00:00:00\", \"2014-06-04T00:00:00\", \"2014-06-05T00:00:00\", \"2014-06-10T00:00:00\", \"2014-06-11T00:00:00\", \"2014-06-12T00:00:00\", \"2014-06-13T00:00:00\", \"2014-06-16T00:00:00\", \"2014-06-17T00:00:00\", \"2014-06-18T00:00:00\", \"2014-06-19T00:00:00\", \"2014-06-23T00:00:00\", \"2014-06-24T00:00:00\", \"2014-06-25T00:00:00\", \"2014-06-26T00:00:00\", \"2014-06-30T00:00:00\", \"2014-07-02T00:00:00\", \"2014-07-07T00:00:00\", \"2014-07-08T00:00:00\", \"2014-07-09T00:00:00\", \"2014-07-10T00:00:00\", \"2014-07-11T00:00:00\", \"2014-07-14T00:00:00\", \"2014-07-15T00:00:00\", \"2014-07-21T00:00:00\", \"2014-07-22T00:00:00\", \"2014-07-23T00:00:00\", \"2014-07-28T00:00:00\", \"2014-07-29T00:00:00\", \"2014-08-01T00:00:00\", \"2014-08-05T00:00:00\", \"2014-08-06T00:00:00\", \"2014-08-07T00:00:00\", \"2014-08-08T00:00:00\", \"2014-08-11T00:00:00\", \"2014-08-12T00:00:00\", \"2014-08-13T00:00:00\", \"2014-08-14T00:00:00\", \"2014-08-15T00:00:00\", \"2014-08-18T00:00:00\", \"2014-08-19T00:00:00\", \"2014-08-20T00:00:00\", \"2014-08-21T00:00:00\", \"2014-08-22T00:00:00\", \"2014-08-25T00:00:00\", \"2014-08-26T00:00:00\", \"2014-08-27T00:00:00\", \"2014-08-28T00:00:00\", \"2014-08-29T00:00:00\", \"2014-09-02T00:00:00\", \"2014-09-04T00:00:00\", \"2014-09-05T00:00:00\", \"2014-09-09T00:00:00\", \"2014-09-10T00:00:00\", \"2014-09-11T00:00:00\", \"2014-09-12T00:00:00\", \"2014-09-15T00:00:00\", \"2014-09-16T00:00:00\", \"2014-09-17T00:00:00\", \"2014-09-18T00:00:00\", \"2014-09-19T00:00:00\", \"2014-09-22T00:00:00\", \"2014-09-25T00:00:00\", \"2014-09-26T00:00:00\", \"2014-09-29T00:00:00\", \"2014-10-08T00:00:00\", \"2014-10-09T00:00:00\", \"2014-10-10T00:00:00\", \"2014-10-15T00:00:00\", \"2014-10-17T00:00:00\", \"2014-10-20T00:00:00\", \"2014-10-21T00:00:00\", \"2014-10-22T00:00:00\", \"2014-10-23T00:00:00\", \"2014-10-24T00:00:00\", \"2014-10-27T00:00:00\", \"2014-10-29T00:00:00\", \"2014-10-30T00:00:00\", \"2014-11-03T00:00:00\", \"2014-11-05T00:00:00\", \"2014-11-06T00:00:00\", \"2014-11-11T00:00:00\", \"2014-11-12T00:00:00\", \"2014-11-18T00:00:00\", \"2014-11-20T00:00:00\", \"2014-11-21T00:00:00\", \"2014-12-04T00:00:00\", \"2014-12-05T00:00:00\", \"2014-12-08T00:00:00\", \"2014-12-09T00:00:00\", \"2014-12-10T00:00:00\", \"2014-12-11T00:00:00\", \"2014-12-12T00:00:00\", \"2014-12-15T00:00:00\", \"2014-12-17T00:00:00\", \"2014-12-18T00:00:00\", \"2014-12-29T00:00:00\", \"2014-12-30T00:00:00\", \"2015-01-02T00:00:00\", \"2015-01-05T00:00:00\", \"2015-01-08T00:00:00\", \"2015-01-09T00:00:00\", \"2015-01-12T00:00:00\", \"2015-01-14T00:00:00\", \"2015-01-15T00:00:00\", \"2015-01-16T00:00:00\", \"2015-01-21T00:00:00\", \"2015-01-30T00:00:00\", \"2015-02-02T00:00:00\", \"2015-02-03T00:00:00\", \"2015-02-05T00:00:00\", \"2015-02-06T00:00:00\", \"2015-02-17T00:00:00\", \"2015-02-18T00:00:00\", \"2015-02-20T00:00:00\", \"2015-02-25T00:00:00\", \"2015-02-26T00:00:00\", \"2015-02-27T00:00:00\", \"2015-03-02T00:00:00\", \"2015-03-06T00:00:00\", \"2015-03-11T00:00:00\", \"2015-03-12T00:00:00\", \"2015-03-24T00:00:00\", \"2015-03-25T00:00:00\", \"2015-03-30T00:00:00\", \"2015-03-31T00:00:00\", \"2015-04-01T00:00:00\", \"2015-04-07T00:00:00\", \"2015-04-08T00:00:00\", \"2015-04-09T00:00:00\", \"2015-04-10T00:00:00\", \"2015-04-13T00:00:00\", \"2015-04-16T00:00:00\", \"2015-04-24T00:00:00\", \"2015-04-27T00:00:00\", \"2015-04-28T00:00:00\", \"2015-04-30T00:00:00\", \"2015-05-01T00:00:00\", \"2015-05-04T00:00:00\", \"2015-05-05T00:00:00\", \"2015-05-06T00:00:00\", \"2015-05-07T00:00:00\", \"2015-05-14T00:00:00\", \"2015-05-20T00:00:00\", \"2015-05-22T00:00:00\", \"2015-06-02T00:00:00\", \"2015-06-05T00:00:00\", \"2015-06-10T00:00:00\", \"2015-06-11T00:00:00\", \"2015-06-12T00:00:00\", \"2015-06-15T00:00:00\", \"2015-06-16T00:00:00\", \"2015-06-17T00:00:00\", \"2015-06-19T00:00:00\", \"2015-06-22T00:00:00\", \"2015-06-23T00:00:00\", \"2015-06-25T00:00:00\", \"2015-06-26T00:00:00\", \"2015-06-29T00:00:00\", \"2015-06-30T00:00:00\", \"2015-07-06T00:00:00\", \"2015-07-07T00:00:00\", \"2015-07-08T00:00:00\", \"2015-08-06T00:00:00\", \"2015-08-17T00:00:00\", \"2015-08-19T00:00:00\", \"2015-08-21T00:00:00\", \"2015-08-25T00:00:00\", \"2015-08-26T00:00:00\", \"2015-08-27T00:00:00\", \"2015-08-28T00:00:00\", \"2015-09-01T00:00:00\", \"2015-09-02T00:00:00\", \"2015-09-03T00:00:00\", \"2015-09-04T00:00:00\", \"2015-09-08T00:00:00\", \"2015-09-09T00:00:00\", \"2015-09-11T00:00:00\", \"2015-09-14T00:00:00\", \"2015-09-15T00:00:00\", \"2015-09-16T00:00:00\", \"2015-09-17T00:00:00\", \"2015-09-18T00:00:00\", \"2015-09-23T00:00:00\", \"2015-09-24T00:00:00\", \"2015-09-25T00:00:00\", \"2015-09-30T00:00:00\", \"2015-10-05T00:00:00\", \"2015-10-07T00:00:00\", \"2015-10-20T00:00:00\", \"2015-10-21T00:00:00\", \"2015-10-22T00:00:00\", \"2015-10-23T00:00:00\", \"2015-10-26T00:00:00\", \"2015-10-27T00:00:00\", \"2015-10-29T00:00:00\", \"2015-11-03T00:00:00\", \"2015-11-04T00:00:00\", \"2015-11-05T00:00:00\", \"2015-11-06T00:00:00\", \"2015-11-11T00:00:00\", \"2015-11-17T00:00:00\", \"2015-11-18T00:00:00\", \"2015-11-27T00:00:00\", \"2015-12-02T00:00:00\", \"2015-12-09T00:00:00\", \"2015-12-10T00:00:00\", \"2015-12-11T00:00:00\", \"2015-12-15T00:00:00\", \"2015-12-16T00:00:00\", \"2015-12-17T00:00:00\", \"2015-12-18T00:00:00\", \"2015-12-21T00:00:00\", \"2015-12-23T00:00:00\", \"2015-12-29T00:00:00\"], \"xaxis\": \"x\", \"y\": [0.0022461277964130055, 0.0006429560540417156, -0.02172686849608707, -0.012403503993326404, 0.011342268168068229, 0.011568978455894496, -0.003686265205811251, -0.007580168742139279, 0.0045448341835718775, 0.0044433052311829285, 0.0029495409645015624, 0.012167674206416651, 0.004310017384999823, 0.0002343388271014435, 0.013921659134984138, 0.0029166421212342974, -0.006411853804197329, -0.003927114296594161, -0.03239249819258151, -0.03179680456532795, -0.022923292017092783, -0.021791220966344296, -0.016492148992385103, -0.030051957858584458, -0.030217338777953157, -0.022946063765648006, -0.011960374203077481, -0.00423259577604268, -0.02321009511834557, -0.023562620916343452, -0.020544971998793154, 0.003963554736584218, 0.001967572416817706, -0.041399081480908054, -0.04078330600537015, -0.02285929854367108, -0.012994752158383902, -0.008803737000050785, -0.009609815236117994, -0.006528320868652002, 0.0017107391303782943, -0.010079162121422167, -0.016289221217792305, 0.0022530512805283565, -0.0075295574924795355, 0.008063133212564702, 0.0005926621645250679, -0.00701697635136217, -0.010747862546759981, 0.010153028758760022, 0.013059662823863366, -0.0035327648561106345, -0.003001445003418743, 0.024393338073785617, 0.0025697959372895512, 0.014621470388544389, -0.0007266580592602406, -0.01190957703172002, -0.008657903757285368, 0.004133299474202379, 0.017376596638247338, -0.010865544832322674, -0.0032611956255059193, -0.022363385527624985, -0.020477145790412224, -0.00674484096008332, 0.004708902985868735, 0.001563341756960518, 0.022329755451666572, 0.02598320627401407, -0.025264328115452303, -0.010112944638321214, -0.030071369206445736, -0.0299616550696616, -0.04140486223138576, 0.005959183387725039, 0.02009489495943309, -0.00554808279681078, 0.01091742680458778, 0.009094854368211489, 0.027151193406141916, 0.014804365790908436, 0.02618299472095477, 0.025657765711636735, 0.01892570027485034, 0.009520606186545003, 0.008010568741892932, -0.002604796624891881, 0.02181355303404027, 0.02641165265968176, 0.02415241542573869, -0.006345773671044025, 0.013082197066333429, 0.004252708286253168, 0.02098485489580322, -0.057103310651394755, 0.004803140464595179, 0.02241008585319028, 0.007053149400028685, 0.006729316681534925, 0.022817530213821546, 0.009408501789342674, -0.01411183278902367, 0.014038778096700802, 0.05519192549401586, 0.03778544497136785, 0.04666261239733838, -0.007634256160521935, 0.04192826355440868, 0.08463132235121562, 0.04390261304203058, 0.06582112003289575, 0.03198324130270089, 0.055280358666712326, 0.02373964456483975, 0.05804165924562518, 0.041996663462452954, 0.045736864234099034, 0.05294526741011618, 0.02018928229488974, 0.06640036836326499, 0.04242393836066741, 0.06147133298320778, 0.045600515969382915, -0.0011604045906461191, 0.023107591684690343, 0.007985351307682673, 0.023978504836268122, 0.025412765058950224, 0.027409243251819843, 0.008230405723340467, 0.03264747037498031, 0.03183386734512006, 0.04767192354232039, 0.026958586454477074, 0.04221155262313425, 0.019523998498294795, 0.03277251692726571, 0.03912533396146059, 0.03342155508998476, 0.01637777405671402, 0.03436611428317782, 0.035384179614497135, 0.04153581957988442, 0.002554666380537307, 0.01856306484843348, 0.046181975976915424, 0.03151731592278173, 0.04299015716197077, 0.023085695716032154, 0.04946918702716813, 0.033871537296173204, 0.03501292860044894, 0.025188803591473435, 0.03667268628463849, 0.021675095349094647, 0.02545091282959197, 0.026550116595666085, 0.020068843177595608, 0.04789555570911627, 0.04453444949908, 0.027143522463915548, 0.013901297003694038, 0.015589266313877137, 0.0654280491652405, 0.06503946952200301, 0.060741714683150067, 0.09374241216110976, 0.011247412465505882, 0.060914358009728, 0.035206237538326135, 0.09101552999477175, 0.046198901543977794, 0.06361610490264608, 0.09350799153855394, 0.09350525217564451, 0.09710937887893342, 0.12108120140631859, 0.07808215724222645, 0.0496658986654516, 0.024477709896185862, 0.03510226558740906, 0.06432575706852459, 0.062041238420436434, 0.0518437473366303, 0.08662275643360781, 0.054464380875608315, 0.12663056961598562, 0.07249133941564384, 0.0971560895420007, 0.06637426291334883, 0.058932194183811265, 0.0895897825476743, 0.09375365446954406, 0.08515753821012628, 0.0896725594931845, 0.081331364759824, 0.05602974218634035, 0.040478858487308284, 0.05899337335406399, 0.04056548489825951, 0.09011767804130444, 0.06346624215168092, 0.07351162978191247, 0.09357543419297223, 0.06442526542082433, 0.06045430815766653, 0.0973240669677097, 0.023999429050295368, 0.07266415262366926, 0.09790835639529377, 0.08335061071403285, 0.05986828926560603, 0.08739476346220187, 0.0378328199325455, 0.03046029971600797], \"yaxis\": \"y\"}],                        {\"legend\": {\"title\": {\"text\": \"variable\"}, \"tracegroupgap\": 0}, \"margin\": {\"t\": 60}, \"template\": {\"data\": {\"bar\": [{\"error_x\": {\"color\": \"#2a3f5f\"}, \"error_y\": {\"color\": \"#2a3f5f\"}, \"marker\": {\"line\": {\"color\": \"#E5ECF6\", \"width\": 0.5}}, \"type\": \"bar\"}], \"barpolar\": [{\"marker\": {\"line\": {\"color\": \"#E5ECF6\", \"width\": 0.5}}, \"type\": \"barpolar\"}], \"carpet\": [{\"aaxis\": {\"endlinecolor\": \"#2a3f5f\", \"gridcolor\": \"white\", \"linecolor\": \"white\", \"minorgridcolor\": \"white\", \"startlinecolor\": \"#2a3f5f\"}, \"baxis\": {\"endlinecolor\": \"#2a3f5f\", \"gridcolor\": \"white\", \"linecolor\": \"white\", \"minorgridcolor\": \"white\", \"startlinecolor\": \"#2a3f5f\"}, \"type\": \"carpet\"}], \"choropleth\": [{\"colorbar\": {\"outlinewidth\": 0, \"ticks\": \"\"}, \"type\": \"choropleth\"}], \"contour\": [{\"colorbar\": {\"outlinewidth\": 0, \"ticks\": \"\"}, \"colorscale\": [[0.0, \"#0d0887\"], [0.1111111111111111, \"#46039f\"], [0.2222222222222222, \"#7201a8\"], [0.3333333333333333, \"#9c179e\"], [0.4444444444444444, \"#bd3786\"], [0.5555555555555556, \"#d8576b\"], [0.6666666666666666, \"#ed7953\"], [0.7777777777777778, \"#fb9f3a\"], [0.8888888888888888, \"#fdca26\"], [1.0, \"#f0f921\"]], \"type\": \"contour\"}], \"contourcarpet\": [{\"colorbar\": {\"outlinewidth\": 0, \"ticks\": \"\"}, \"type\": \"contourcarpet\"}], \"heatmap\": [{\"colorbar\": {\"outlinewidth\": 0, \"ticks\": \"\"}, \"colorscale\": [[0.0, \"#0d0887\"], [0.1111111111111111, \"#46039f\"], [0.2222222222222222, \"#7201a8\"], [0.3333333333333333, \"#9c179e\"], [0.4444444444444444, \"#bd3786\"], [0.5555555555555556, \"#d8576b\"], [0.6666666666666666, \"#ed7953\"], [0.7777777777777778, \"#fb9f3a\"], [0.8888888888888888, \"#fdca26\"], [1.0, \"#f0f921\"]], \"type\": \"heatmap\"}], \"heatmapgl\": [{\"colorbar\": {\"outlinewidth\": 0, \"ticks\": \"\"}, \"colorscale\": [[0.0, \"#0d0887\"], [0.1111111111111111, \"#46039f\"], [0.2222222222222222, \"#7201a8\"], [0.3333333333333333, \"#9c179e\"], [0.4444444444444444, \"#bd3786\"], [0.5555555555555556, \"#d8576b\"], [0.6666666666666666, \"#ed7953\"], [0.7777777777777778, \"#fb9f3a\"], [0.8888888888888888, \"#fdca26\"], [1.0, \"#f0f921\"]], \"type\": \"heatmapgl\"}], \"histogram\": [{\"marker\": {\"colorbar\": {\"outlinewidth\": 0, \"ticks\": \"\"}}, \"type\": \"histogram\"}], \"histogram2d\": [{\"colorbar\": {\"outlinewidth\": 0, \"ticks\": \"\"}, \"colorscale\": [[0.0, \"#0d0887\"], [0.1111111111111111, \"#46039f\"], [0.2222222222222222, \"#7201a8\"], [0.3333333333333333, \"#9c179e\"], [0.4444444444444444, \"#bd3786\"], [0.5555555555555556, \"#d8576b\"], [0.6666666666666666, \"#ed7953\"], [0.7777777777777778, \"#fb9f3a\"], [0.8888888888888888, \"#fdca26\"], [1.0, \"#f0f921\"]], \"type\": \"histogram2d\"}], \"histogram2dcontour\": [{\"colorbar\": {\"outlinewidth\": 0, \"ticks\": \"\"}, \"colorscale\": [[0.0, \"#0d0887\"], [0.1111111111111111, \"#46039f\"], [0.2222222222222222, \"#7201a8\"], [0.3333333333333333, \"#9c179e\"], [0.4444444444444444, \"#bd3786\"], [0.5555555555555556, \"#d8576b\"], [0.6666666666666666, \"#ed7953\"], [0.7777777777777778, \"#fb9f3a\"], [0.8888888888888888, \"#fdca26\"], [1.0, \"#f0f921\"]], \"type\": \"histogram2dcontour\"}], \"mesh3d\": [{\"colorbar\": {\"outlinewidth\": 0, \"ticks\": \"\"}, \"type\": \"mesh3d\"}], \"parcoords\": [{\"line\": {\"colorbar\": {\"outlinewidth\": 0, \"ticks\": \"\"}}, \"type\": \"parcoords\"}], \"pie\": [{\"automargin\": true, \"type\": \"pie\"}], \"scatter\": [{\"marker\": {\"colorbar\": {\"outlinewidth\": 0, \"ticks\": \"\"}}, \"type\": \"scatter\"}], \"scatter3d\": [{\"line\": {\"colorbar\": {\"outlinewidth\": 0, \"ticks\": \"\"}}, \"marker\": {\"colorbar\": {\"outlinewidth\": 0, \"ticks\": \"\"}}, \"type\": \"scatter3d\"}], \"scattercarpet\": [{\"marker\": {\"colorbar\": {\"outlinewidth\": 0, \"ticks\": \"\"}}, \"type\": \"scattercarpet\"}], \"scattergeo\": [{\"marker\": {\"colorbar\": {\"outlinewidth\": 0, \"ticks\": \"\"}}, \"type\": \"scattergeo\"}], \"scattergl\": [{\"marker\": {\"colorbar\": {\"outlinewidth\": 0, \"ticks\": \"\"}}, \"type\": \"scattergl\"}], \"scattermapbox\": [{\"marker\": {\"colorbar\": {\"outlinewidth\": 0, \"ticks\": \"\"}}, \"type\": \"scattermapbox\"}], \"scatterpolar\": [{\"marker\": {\"colorbar\": {\"outlinewidth\": 0, \"ticks\": \"\"}}, \"type\": \"scatterpolar\"}], \"scatterpolargl\": [{\"marker\": {\"colorbar\": {\"outlinewidth\": 0, \"ticks\": \"\"}}, \"type\": \"scatterpolargl\"}], \"scatterternary\": [{\"marker\": {\"colorbar\": {\"outlinewidth\": 0, \"ticks\": \"\"}}, \"type\": \"scatterternary\"}], \"surface\": [{\"colorbar\": {\"outlinewidth\": 0, \"ticks\": \"\"}, \"colorscale\": [[0.0, \"#0d0887\"], [0.1111111111111111, \"#46039f\"], [0.2222222222222222, \"#7201a8\"], [0.3333333333333333, \"#9c179e\"], [0.4444444444444444, \"#bd3786\"], [0.5555555555555556, \"#d8576b\"], [0.6666666666666666, \"#ed7953\"], [0.7777777777777778, \"#fb9f3a\"], [0.8888888888888888, \"#fdca26\"], [1.0, \"#f0f921\"]], \"type\": \"surface\"}], \"table\": [{\"cells\": {\"fill\": {\"color\": \"#EBF0F8\"}, \"line\": {\"color\": \"white\"}}, \"header\": {\"fill\": {\"color\": \"#C8D4E3\"}, \"line\": {\"color\": \"white\"}}, \"type\": \"table\"}]}, \"layout\": {\"annotationdefaults\": {\"arrowcolor\": \"#2a3f5f\", \"arrowhead\": 0, \"arrowwidth\": 1}, \"coloraxis\": {\"colorbar\": {\"outlinewidth\": 0, \"ticks\": \"\"}}, \"colorscale\": {\"diverging\": [[0, \"#8e0152\"], [0.1, \"#c51b7d\"], [0.2, \"#de77ae\"], [0.3, \"#f1b6da\"], [0.4, \"#fde0ef\"], [0.5, \"#f7f7f7\"], [0.6, \"#e6f5d0\"], [0.7, \"#b8e186\"], [0.8, \"#7fbc41\"], [0.9, \"#4d9221\"], [1, \"#276419\"]], \"sequential\": [[0.0, \"#0d0887\"], [0.1111111111111111, \"#46039f\"], [0.2222222222222222, \"#7201a8\"], [0.3333333333333333, \"#9c179e\"], [0.4444444444444444, \"#bd3786\"], [0.5555555555555556, \"#d8576b\"], [0.6666666666666666, \"#ed7953\"], [0.7777777777777778, \"#fb9f3a\"], [0.8888888888888888, \"#fdca26\"], [1.0, \"#f0f921\"]], \"sequentialminus\": [[0.0, \"#0d0887\"], [0.1111111111111111, \"#46039f\"], [0.2222222222222222, \"#7201a8\"], [0.3333333333333333, \"#9c179e\"], [0.4444444444444444, \"#bd3786\"], [0.5555555555555556, \"#d8576b\"], [0.6666666666666666, \"#ed7953\"], [0.7777777777777778, \"#fb9f3a\"], [0.8888888888888888, \"#fdca26\"], [1.0, \"#f0f921\"]]}, \"colorway\": [\"#636efa\", \"#EF553B\", \"#00cc96\", \"#ab63fa\", \"#FFA15A\", \"#19d3f3\", \"#FF6692\", \"#B6E880\", \"#FF97FF\", \"#FECB52\"], \"font\": {\"color\": \"#2a3f5f\"}, \"geo\": {\"bgcolor\": \"white\", \"lakecolor\": \"white\", \"landcolor\": \"#E5ECF6\", \"showlakes\": true, \"showland\": true, \"subunitcolor\": \"white\"}, \"hoverlabel\": {\"align\": \"left\"}, \"hovermode\": \"closest\", \"mapbox\": {\"style\": \"light\"}, \"paper_bgcolor\": \"white\", \"plot_bgcolor\": \"#E5ECF6\", \"polar\": {\"angularaxis\": {\"gridcolor\": \"white\", \"linecolor\": \"white\", \"ticks\": \"\"}, \"bgcolor\": \"#E5ECF6\", \"radialaxis\": {\"gridcolor\": \"white\", \"linecolor\": \"white\", \"ticks\": \"\"}}, \"scene\": {\"xaxis\": {\"backgroundcolor\": \"#E5ECF6\", \"gridcolor\": \"white\", \"gridwidth\": 2, \"linecolor\": \"white\", \"showbackground\": true, \"ticks\": \"\", \"zerolinecolor\": \"white\"}, \"yaxis\": {\"backgroundcolor\": \"#E5ECF6\", \"gridcolor\": \"white\", \"gridwidth\": 2, \"linecolor\": \"white\", \"showbackground\": true, \"ticks\": \"\", \"zerolinecolor\": \"white\"}, \"zaxis\": {\"backgroundcolor\": \"#E5ECF6\", \"gridcolor\": \"white\", \"gridwidth\": 2, \"linecolor\": \"white\", \"showbackground\": true, \"ticks\": \"\", \"zerolinecolor\": \"white\"}}, \"shapedefaults\": {\"line\": {\"color\": \"#2a3f5f\"}}, \"ternary\": {\"aaxis\": {\"gridcolor\": \"white\", \"linecolor\": \"white\", \"ticks\": \"\"}, \"baxis\": {\"gridcolor\": \"white\", \"linecolor\": \"white\", \"ticks\": \"\"}, \"bgcolor\": \"#E5ECF6\", \"caxis\": {\"gridcolor\": \"white\", \"linecolor\": \"white\", \"ticks\": \"\"}}, \"title\": {\"x\": 0.05}, \"xaxis\": {\"automargin\": true, \"gridcolor\": \"white\", \"linecolor\": \"white\", \"ticks\": \"\", \"title\": {\"standoff\": 15}, \"zerolinecolor\": \"white\", \"zerolinewidth\": 2}, \"yaxis\": {\"automargin\": true, \"gridcolor\": \"white\", \"linecolor\": \"white\", \"ticks\": \"\", \"title\": {\"standoff\": 15}, \"zerolinecolor\": \"white\", \"zerolinewidth\": 2}}}, \"xaxis\": {\"anchor\": \"y\", \"domain\": [0.0, 1.0], \"title\": {\"text\": \"Date\"}}, \"yaxis\": {\"anchor\": \"x\", \"domain\": [0.0, 1.0], \"title\": {\"text\": \"value\"}}},                        {\"responsive\": true}                    ).then(function(){\n",
       "                            \n",
       "var gd = document.getElementById('c3f21aa7-33d3-42e4-9e43-96879e0f76a6');\n",
       "var x = new MutationObserver(function (mutations, observer) {{\n",
       "        var display = window.getComputedStyle(gd).display;\n",
       "        if (!display || display === 'none') {{\n",
       "            console.log([gd, 'removed!']);\n",
       "            Plotly.purge(gd);\n",
       "            observer.disconnect();\n",
       "        }}\n",
       "}});\n",
       "\n",
       "// Listen for the removal of the full notebook cells\n",
       "var notebookContainer = gd.closest('#notebook-container');\n",
       "if (notebookContainer) {{\n",
       "    x.observe(notebookContainer, {childList: true});\n",
       "}}\n",
       "\n",
       "// Listen for the clearing of the current output cell\n",
       "var outputEl = gd.closest('.output');\n",
       "if (outputEl) {{\n",
       "    x.observe(outputEl, {childList: true});\n",
       "}}\n",
       "\n",
       "                        })                };                });            </script>        </div>"
      ]
     },
     "metadata": {},
     "output_type": "display_data"
    }
   ],
   "source": [
    "fig = px.line(results, x=results.index, y=['actual', 'predicted'])\n",
    "fig.show()"
   ]
  },
  {
   "cell_type": "code",
   "execution_count": 74,
   "metadata": {},
   "outputs": [
    {
     "data": {
      "text/plain": [
       "Date\n",
       "2014-06-02    0.001371\n",
       "2014-06-03   -0.018713\n",
       "2014-06-04    0.005581\n",
       "2014-06-05    0.001388\n",
       "2014-06-10   -0.016166\n",
       "                ...   \n",
       "2015-12-17         NaN\n",
       "2015-12-18         NaN\n",
       "2015-12-21         NaN\n",
       "2015-12-23         NaN\n",
       "2015-12-29         NaN\n",
       "Name: Close, Length: 216, dtype: float64"
      ]
     },
     "execution_count": 74,
     "metadata": {},
     "output_type": "execute_result"
    }
   ],
   "source": [
    "y_test.shift(-5)"
   ]
  },
  {
   "cell_type": "code",
   "execution_count": null,
   "metadata": {},
   "outputs": [],
   "source": []
  }
 ],
 "metadata": {
  "kernelspec": {
   "display_name": "Python 3",
   "language": "python",
   "name": "python3"
  },
  "language_info": {
   "codemirror_mode": {
    "name": "ipython",
    "version": 3
   },
   "file_extension": ".py",
   "mimetype": "text/x-python",
   "name": "python",
   "nbconvert_exporter": "python",
   "pygments_lexer": "ipython3",
   "version": "3.7.6"
  }
 },
 "nbformat": 4,
 "nbformat_minor": 4
}
